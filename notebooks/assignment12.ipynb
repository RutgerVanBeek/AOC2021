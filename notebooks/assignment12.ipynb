{
 "cells": [
  {
   "cell_type": "code",
   "execution_count": 1,
   "outputs": [],
   "source": [
    "from collections import defaultdict"
   ],
   "metadata": {
    "collapsed": false,
    "pycharm": {
     "name": "#%%\n"
    }
   }
  },
  {
   "cell_type": "code",
   "execution_count": 2,
   "metadata": {
    "collapsed": true
   },
   "outputs": [],
   "source": [
    "with open('../inputs/input12.txt', 'r') as f:\n",
    "    strings = f.readlines()"
   ]
  },
  {
   "cell_type": "code",
   "execution_count": 3,
   "outputs": [
    {
     "data": {
      "text/plain": "defaultdict(list,\n            {'dr': ['of', 'IJ', 'yj', 'PZ', 'sk', 'VT'],\n             'of': ['dr', 'start', 'IJ', 'VT', 'KT', 'gb'],\n             'start': ['KT', 'gb', 'of'],\n             'KT': ['start', 'end', 'yj', 'of', 'gb'],\n             'yj': ['sk', 'IJ', 'KT', 'dr'],\n             'sk': ['yj', 'VT', 'end', 'dr'],\n             'gb': ['start', 'VT', 'KT', 'of'],\n             'IJ': ['end', 'of', 'dr', 'yj'],\n             'end': ['IJ', 'sk', 'KT'],\n             'VT': ['sk', 'km', 'gb', 'of', 'dr'],\n             'km': ['VT'],\n             'PZ': ['dr']})"
     },
     "execution_count": 3,
     "metadata": {},
     "output_type": "execute_result"
    }
   ],
   "source": [
    "connections = defaultdict(list)\n",
    "for string in strings:\n",
    "    start, end = string.strip().split('-')\n",
    "    connections[start].append(end)\n",
    "    connections[end].append(start)\n",
    "connections"
   ],
   "metadata": {
    "collapsed": false,
    "pycharm": {
     "name": "#%%\n"
    }
   }
  },
  {
   "cell_type": "code",
   "execution_count": 4,
   "outputs": [],
   "source": [
    "def find_paths_to_end(connections, path):\n",
    "    if path[-1] == 'end':\n",
    "        return [path]\n",
    "    paths = []\n",
    "    for towards in connections[path[-1]]:\n",
    "        if (towards.isupper()) or (towards not in path):\n",
    "            paths.extend(find_paths_to_end(connections, path + [towards]))\n",
    "    return paths"
   ],
   "metadata": {
    "collapsed": false,
    "pycharm": {
     "name": "#%%\n"
    }
   }
  },
  {
   "cell_type": "code",
   "execution_count": 5,
   "outputs": [],
   "source": [
    "def find_paths_to_end2(connections, path, has_twice=False):\n",
    "    if path[-1] == 'end':\n",
    "        return [path]\n",
    "    paths = []\n",
    "    for towards in connections[path[-1]]:\n",
    "        if (towards.isupper()) or (towards not in path):\n",
    "            paths.extend(find_paths_to_end2(connections, path + [towards], has_twice=has_twice))\n",
    "        elif not has_twice and towards != 'start':\n",
    "            paths.extend(find_paths_to_end2(connections, path + [towards], has_twice=True))\n",
    "    return paths"
   ],
   "metadata": {
    "collapsed": false,
    "pycharm": {
     "name": "#%%\n"
    }
   }
  },
  {
   "cell_type": "code",
   "execution_count": 7,
   "outputs": [
    {
     "data": {
      "text/plain": "(4691, 140718)"
     },
     "execution_count": 7,
     "metadata": {},
     "output_type": "execute_result"
    }
   ],
   "source": [
    "paths1 = find_paths_to_end(connections, ['start'])\n",
    "paths2 = find_paths_to_end2(connections, ['start'], has_twice=False)\n",
    "len(paths1), len(paths2)"
   ],
   "metadata": {
    "collapsed": false,
    "pycharm": {
     "name": "#%%\n"
    }
   }
  },
  {
   "cell_type": "code",
   "execution_count": null,
   "outputs": [],
   "source": [],
   "metadata": {
    "collapsed": false,
    "pycharm": {
     "name": "#%%\n"
    }
   }
  }
 ],
 "metadata": {
  "kernelspec": {
   "display_name": "Python 3",
   "language": "python",
   "name": "python3"
  },
  "language_info": {
   "codemirror_mode": {
    "name": "ipython",
    "version": 2
   },
   "file_extension": ".py",
   "mimetype": "text/x-python",
   "name": "python",
   "nbconvert_exporter": "python",
   "pygments_lexer": "ipython2",
   "version": "2.7.6"
  }
 },
 "nbformat": 4,
 "nbformat_minor": 0
}