{
 "cells": [
  {
   "cell_type": "code",
   "execution_count": 10,
   "metadata": {
    "collapsed": true
   },
   "outputs": [],
   "source": [
    "with open('../inputs/input10.txt', 'r') as f:\n",
    "    strings = f.readlines()"
   ]
  },
  {
   "cell_type": "code",
   "execution_count": 11,
   "outputs": [],
   "source": [
    "matches = {'[': ']', '(': ')', '{': '}', '<':'>'}\n",
    "scores = {')': 3, ']': 57, '}': 1197, '>': 25137, '': 0}\n",
    "scores2 = {')': 1, ']': 2, '}': 3, '>':4}"
   ],
   "metadata": {
    "collapsed": false,
    "pycharm": {
     "name": "#%%\n"
    }
   }
  },
  {
   "cell_type": "code",
   "execution_count": 19,
   "outputs": [],
   "source": [
    "def check_line1(line):\n",
    "    chars_to_close = []\n",
    "    for char in line:\n",
    "        if char in matches.keys():\n",
    "            chars_to_close.append(char)\n",
    "        else:\n",
    "            char_to_close = chars_to_close.pop()\n",
    "            if matches[char_to_close] != char:\n",
    "                return char\n",
    "    return ''"
   ],
   "metadata": {
    "collapsed": false,
    "pycharm": {
     "name": "#%%\n"
    }
   }
  },
  {
   "cell_type": "code",
   "execution_count": 25,
   "outputs": [
    {
     "data": {
      "text/plain": "469755"
     },
     "execution_count": 25,
     "metadata": {},
     "output_type": "execute_result"
    }
   ],
   "source": [
    "# part 1\n",
    "sum(scores[check_line1(line.strip())] for line in strings)"
   ],
   "metadata": {
    "collapsed": false,
    "pycharm": {
     "name": "#%%\n"
    }
   }
  },
  {
   "cell_type": "code",
   "execution_count": 1,
   "outputs": [],
   "source": [
    "# part 2\n",
    "def check_line2(line):\n",
    "    chars_to_close = []\n",
    "    for char in line:\n",
    "        if char in matches.keys():\n",
    "            chars_to_close.append(char)\n",
    "        else:\n",
    "            char_to_close = chars_to_close.pop()\n",
    "            if matches[char_to_close] != char:\n",
    "                return []\n",
    "    return chars_to_close"
   ],
   "metadata": {
    "collapsed": false,
    "pycharm": {
     "name": "#%%\n"
    }
   }
  },
  {
   "cell_type": "code",
   "execution_count": 22,
   "outputs": [
    {
     "data": {
      "text/plain": "2762335572"
     },
     "execution_count": 22,
     "metadata": {},
     "output_type": "execute_result"
    }
   ],
   "source": [
    "score = []\n",
    "for line in strings:\n",
    "    ret = check_line2(line.strip())\n",
    "    ret.reverse()\n",
    "    score.append(0)\n",
    "    for char in ret:\n",
    "        score[-1] = score[-1] * 5 + scores2[matches[char]]\n",
    "score = sorted([s for s in score if s != 0])\n",
    "score[(len(score) - 1) // 2]"
   ],
   "metadata": {
    "collapsed": false,
    "pycharm": {
     "name": "#%%\n"
    }
   }
  }
 ],
 "metadata": {
  "kernelspec": {
   "display_name": "Python 3",
   "language": "python",
   "name": "python3"
  },
  "language_info": {
   "codemirror_mode": {
    "name": "ipython",
    "version": 2
   },
   "file_extension": ".py",
   "mimetype": "text/x-python",
   "name": "python",
   "nbconvert_exporter": "python",
   "pygments_lexer": "ipython2",
   "version": "2.7.6"
  }
 },
 "nbformat": 4,
 "nbformat_minor": 0
}