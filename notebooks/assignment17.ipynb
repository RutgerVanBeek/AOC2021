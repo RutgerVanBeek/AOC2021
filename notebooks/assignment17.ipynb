{
 "cells": [
  {
   "cell_type": "code",
   "execution_count": 1,
   "metadata": {
    "collapsed": true
   },
   "outputs": [],
   "source": [
    "target_x = (156, 202)\n",
    "target_y = (-110, -69)"
   ]
  },
  {
   "cell_type": "code",
   "execution_count": 67,
   "outputs": [],
   "source": [
    "# target_x = (20, 30)\n",
    "# target_y = (-10, -5)"
   ],
   "metadata": {
    "collapsed": false,
    "pycharm": {
     "name": "#%%\n"
    }
   }
  },
  {
   "cell_type": "code",
   "execution_count": 2,
   "outputs": [],
   "source": [
    "def reaches(vel_x, vel_y, target_x, target_y):\n",
    "    x, y = 0, 0\n",
    "    y_min, _ = target_y\n",
    "    while y > y_min:\n",
    "        x, y = x + vel_x, y + vel_y\n",
    "        if vel_x >= 1:\n",
    "            vel_x -= 1\n",
    "        elif vel_x <= -1:\n",
    "            vel_x += 1\n",
    "        vel_y -= 1\n",
    "        if pos_in_target(x, y, target_x, target_y):\n",
    "            return True\n",
    "    return False\n",
    "\n",
    "\n",
    "def pos_in_target(x, y, target_x, target_y):\n",
    "    return target_x[0] <= x <= target_x[1] and target_y[0] <= y <= target_y[1]"
   ],
   "metadata": {
    "collapsed": false,
    "pycharm": {
     "name": "#%%\n"
    }
   }
  },
  {
   "cell_type": "code",
   "execution_count": 12,
   "outputs": [
    {
     "name": "stderr",
     "output_type": "stream",
     "text": [
      "64960it [00:01, 35740.21it/s]\n"
     ]
    },
    {
     "data": {
      "text/plain": "3202"
     },
     "execution_count": 12,
     "metadata": {},
     "output_type": "execute_result"
    }
   ],
   "source": [
    "from itertools import product\n",
    "from tqdm import tqdm\n",
    "count = 0\n",
    "ls = []\n",
    "for x, y in tqdm(product(range(0, 203), range(-120, 200))):\n",
    "    if reaches(x, y, target_x, target_y):\n",
    "        ls.append((x, y))\n",
    "        count += 1\n",
    "count"
   ],
   "metadata": {
    "collapsed": false,
    "pycharm": {
     "name": "#%%\n"
    }
   }
  },
  {
   "cell_type": "code",
   "execution_count": null,
   "outputs": [],
   "source": [],
   "metadata": {
    "collapsed": false,
    "pycharm": {
     "name": "#%%\n"
    }
   }
  }
 ],
 "metadata": {
  "kernelspec": {
   "display_name": "Python 3",
   "language": "python",
   "name": "python3"
  },
  "language_info": {
   "codemirror_mode": {
    "name": "ipython",
    "version": 2
   },
   "file_extension": ".py",
   "mimetype": "text/x-python",
   "name": "python",
   "nbconvert_exporter": "python",
   "pygments_lexer": "ipython2",
   "version": "2.7.6"
  }
 },
 "nbformat": 4,
 "nbformat_minor": 0
}