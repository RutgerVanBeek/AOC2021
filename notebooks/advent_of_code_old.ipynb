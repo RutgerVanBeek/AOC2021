{
 "cells": [
  {
   "cell_type": "code",
   "execution_count": 21,
   "metadata": {
    "collapsed": true
   },
   "outputs": [],
   "source": [
    "# assignement 1_1\n",
    "# numbers  = []\n",
    "with open('input_1_1.txt', 'r') as f:\n",
    "    numbers = f.readlines()"
   ]
  },
  {
   "cell_type": "code",
   "execution_count": 22,
   "outputs": [],
   "source": [
    "import numpy as np\n",
    "numbers = np.array([int(number) for number in numbers])"
   ],
   "metadata": {
    "collapsed": false,
    "pycharm": {
     "name": "#%%\n"
    }
   }
  },
  {
   "cell_type": "code",
   "execution_count": 23,
   "outputs": [],
   "source": [
    "increased = numbers[1:] > numbers[:-1]"
   ],
   "metadata": {
    "collapsed": false,
    "pycharm": {
     "name": "#%%\n"
    }
   }
  },
  {
   "cell_type": "code",
   "execution_count": 24,
   "outputs": [
    {
     "data": {
      "text/plain": "1466"
     },
     "execution_count": 24,
     "metadata": {},
     "output_type": "execute_result"
    }
   ],
   "source": [
    "sum(increased)\n"
   ],
   "metadata": {
    "collapsed": false,
    "pycharm": {
     "name": "#%%\n"
    }
   }
  },
  {
   "cell_type": "code",
   "execution_count": 25,
   "outputs": [],
   "source": [
    "window_scores = numbers[:-2] + numbers[1:-1] + numbers[2:]\n",
    "increased = window_scores[1:] > window_scores[:-1]"
   ],
   "metadata": {
    "collapsed": false,
    "pycharm": {
     "name": "#%%\n"
    }
   }
  },
  {
   "cell_type": "code",
   "execution_count": 26,
   "outputs": [
    {
     "data": {
      "text/plain": "1491"
     },
     "execution_count": 26,
     "metadata": {},
     "output_type": "execute_result"
    }
   ],
   "source": [
    "sum(increased)"
   ],
   "metadata": {
    "collapsed": false,
    "pycharm": {
     "name": "#%%\n"
    }
   }
  },
  {
   "cell_type": "code",
   "execution_count": 1,
   "outputs": [],
   "source": [
    "# assignment 2_1"
   ],
   "metadata": {
    "collapsed": false,
    "pycharm": {
     "name": "#%%\n"
    }
   }
  },
  {
   "cell_type": "code",
   "execution_count": 4,
   "outputs": [],
   "source": [
    "with open('input_2_1.txt', 'r') as f:\n",
    "    strings = f.readlines()"
   ],
   "metadata": {
    "collapsed": false,
    "pycharm": {
     "name": "#%%\n"
    }
   }
  },
  {
   "cell_type": "code",
   "execution_count": 5,
   "outputs": [],
   "source": [
    "commands = [string.split() for string in strings]\n"
   ],
   "metadata": {
    "collapsed": false,
    "pycharm": {
     "name": "#%%\n"
    }
   }
  },
  {
   "cell_type": "code",
   "execution_count": 12,
   "outputs": [],
   "source": [
    "hor = 0\n",
    "depth = 0\n",
    "aim = 0\n",
    "for direction, amount in commands:\n",
    "    if direction == 'forward':\n",
    "        hor += int(amount)\n",
    "        depth += aim * int(amount)\n",
    "    elif direction == 'down':\n",
    "        aim += int(amount)\n",
    "    elif direction == 'up':\n",
    "        aim -= int(amount)\n",
    "    else:\n",
    "        raise ValueError(direction + amount)"
   ],
   "metadata": {
    "collapsed": false,
    "pycharm": {
     "name": "#%%\n"
    }
   }
  },
  {
   "cell_type": "code",
   "execution_count": 13,
   "outputs": [
    {
     "data": {
      "text/plain": "1759818555"
     },
     "execution_count": 13,
     "metadata": {},
     "output_type": "execute_result"
    }
   ],
   "source": [
    "depth * hor\n"
   ],
   "metadata": {
    "collapsed": false,
    "pycharm": {
     "name": "#%%\n"
    }
   }
  },
  {
   "cell_type": "code",
   "execution_count": 52,
   "outputs": [],
   "source": [
    "# assignement 3_1\n",
    "with open('input_3_1.txt', 'r') as f:\n",
    "    strings = f.readlines()\n",
    "ls = [[*string.strip()] for string in strings]"
   ],
   "metadata": {
    "collapsed": false,
    "pycharm": {
     "name": "#%%\n"
    }
   }
  },
  {
   "cell_type": "code",
   "execution_count": 38,
   "outputs": [
    {
     "data": {
      "text/plain": "198"
     },
     "execution_count": 38,
     "metadata": {},
     "output_type": "execute_result"
    }
   ],
   "source": [
    "out_most = ''\n",
    "out_least = ''\n",
    "from collections import Counter\n",
    "for vals in zip(*ls):\n",
    "    count = Counter(vals)\n",
    "    out_most += max(count, key=count.get)\n",
    "    out_least += min(count, key=count.get)\n",
    "\n",
    "\n",
    "int(out_most, 2) * int(out_least, 2)\n"
   ],
   "metadata": {
    "collapsed": false,
    "pycharm": {
     "name": "#%%\n"
    }
   }
  },
  {
   "cell_type": "code",
   "execution_count": 53,
   "outputs": [
    {
     "name": "stdout",
     "output_type": "stream",
     "text": [
      "1000\n",
      "Counter({'1': 501, '0': 499})\n",
      "501\n",
      "Counter({'1': 257, '0': 244})\n",
      "257\n",
      "Counter({'0': 131, '1': 126})\n",
      "131\n",
      "Counter({'0': 69, '1': 62})\n",
      "69\n",
      "Counter({'0': 40, '1': 29})\n",
      "40\n",
      "Counter({'0': 21, '1': 19})\n",
      "21\n",
      "Counter({'0': 14, '1': 7})\n",
      "14\n",
      "Counter({'0': 7, '1': 7})\n",
      "7\n",
      "Counter({'0': 4, '1': 3})\n",
      "4\n",
      "Counter({'0': 3, '1': 1})\n",
      "3\n",
      "Counter({'0': 2, '1': 1})\n",
      "2\n",
      "Counter({'1': 1, '0': 1})\n",
      "110000010001\n"
     ]
    }
   ],
   "source": [
    "# assignment 3_2\n",
    "# first do most\n",
    "ls2 = [string.strip() for string in strings]\n",
    "pattern = ''\n",
    "for i in range(len(ls2[0])):\n",
    "    vals = [string[i] for string in strings if string[:i] == pattern]\n",
    "    print(len(vals))\n",
    "    if len(vals) == 1:\n",
    "        break\n",
    "    count = Counter(vals)\n",
    "    print(count)\n",
    "    if count['1'] == count['0']:\n",
    "        pattern += '1'\n",
    "        if count['1'] == 1:\n",
    "            i += 1\n",
    "            break\n",
    "    else:\n",
    "        pattern += max(count, key=count.get)\n",
    "\n",
    "print(pattern)\n",
    "out_most = [string for string in strings if string[:i] == pattern][0]"
   ],
   "metadata": {
    "collapsed": false,
    "pycharm": {
     "name": "#%%\n"
    }
   }
  },
  {
   "cell_type": "code",
   "execution_count": 54,
   "outputs": [
    {
     "name": "stdout",
     "output_type": "stream",
     "text": [
      "1000\n",
      "Counter({'1': 501, '0': 499})\n",
      "499\n",
      "Counter({'1': 250, '0': 249})\n",
      "249\n",
      "Counter({'1': 133, '0': 116})\n",
      "116\n",
      "Counter({'0': 59, '1': 57})\n",
      "57\n",
      "Counter({'1': 30, '0': 27})\n",
      "27\n",
      "Counter({'1': 16, '0': 11})\n",
      "11\n",
      "Counter({'1': 6, '0': 5})\n",
      "5\n",
      "Counter({'1': 3, '0': 2})\n",
      "2\n",
      "Counter({'1': 1, '0': 1})\n"
     ]
    }
   ],
   "source": [
    "pattern = ''\n",
    "for i in range(len(ls2[0])):\n",
    "    vals = [string[i] for string in strings if string[:i] == pattern]\n",
    "    print(len(vals))\n",
    "    if len(vals) == 1:\n",
    "        break\n",
    "    count = Counter(vals)\n",
    "    print(count)\n",
    "    if count['1'] == count['0']:\n",
    "        pattern += '0'\n",
    "        if count['1'] == 1:\n",
    "            i += 1\n",
    "            break\n",
    "    else:\n",
    "        pattern += min(count, key=count.get)\n",
    "\n",
    "out_least = [string for string in strings if string[:i] == pattern][0]\n"
   ],
   "metadata": {
    "collapsed": false,
    "pycharm": {
     "name": "#%%\n"
    }
   }
  },
  {
   "cell_type": "code",
   "execution_count": 55,
   "outputs": [
    {
     "data": {
      "text/plain": "793873"
     },
     "execution_count": 55,
     "metadata": {},
     "output_type": "execute_result"
    }
   ],
   "source": [
    "int(out_most, 2) * int(out_least, 2)\n"
   ],
   "metadata": {
    "collapsed": false,
    "pycharm": {
     "name": "#%%\n"
    }
   }
  },
  {
   "cell_type": "code",
   "execution_count": 29,
   "outputs": [],
   "source": [
    "import numpy as np\n",
    "import re"
   ],
   "metadata": {
    "collapsed": false,
    "pycharm": {
     "name": "#%%\n"
    }
   }
  },
  {
   "cell_type": "code",
   "execution_count": 46,
   "outputs": [],
   "source": [
    "with open('input4.txt', 'r') as f:\n",
    "    inputs = f.readlines()\n"
   ],
   "metadata": {
    "collapsed": false,
    "pycharm": {
     "name": "#%%\n"
    }
   }
  },
  {
   "cell_type": "code",
   "execution_count": 47,
   "outputs": [],
   "source": [
    "drawn_numbers = [int(val) for val in inputs[0].strip().split(',')]"
   ],
   "metadata": {
    "collapsed": false,
    "pycharm": {
     "name": "#%%\n"
    }
   }
  },
  {
   "cell_type": "code",
   "execution_count": 48,
   "outputs": [
    {
     "data": {
      "text/plain": "100.0"
     },
     "execution_count": 48,
     "metadata": {},
     "output_type": "execute_result"
    }
   ],
   "source": [
    "# get boards\n",
    "(len(inputs) - 1) / 6"
   ],
   "metadata": {
    "collapsed": false,
    "pycharm": {
     "name": "#%%\n"
    }
   }
  },
  {
   "cell_type": "code",
   "execution_count": 49,
   "outputs": [],
   "source": [
    "boards = [[[int(val) for val in inputs[j].strip().split(' ') if val != ''] for j in range((i * 6) + 2, (i*6) + 7)] for i in range(100)]"
   ],
   "metadata": {
    "collapsed": false,
    "pycharm": {
     "name": "#%%\n"
    }
   }
  },
  {
   "cell_type": "code",
   "execution_count": 50,
   "outputs": [],
   "source": [
    "boards = [np.array(board) for board in boards]\n",
    "\n"
   ],
   "metadata": {
    "collapsed": false,
    "pycharm": {
     "name": "#%%\n"
    }
   }
  },
  {
   "cell_type": "code",
   "execution_count": 51,
   "outputs": [
    {
     "name": "stdout",
     "output_type": "stream",
     "text": [
      "[[90 39 48 75 52]\n",
      " [78  7 27  8 86]\n",
      " [ 2 69 80 98 66]\n",
      " [22 77 11 94 47]\n",
      " [93 19 53 34 71]]\n",
      "[[False  True False  True  True]\n",
      " [False False  True  True False]\n",
      " [ True False False  True False]\n",
      " [False False False  True False]\n",
      " [ True False False  True False]]\n",
      "[93, 18, 74, 26, 98, 52, 94, 23, 15, 2, 34, 75, 13, 31, 39, 76, 96, 16, 84, 12, 38, 27, 8, 85, 86, 43, 4, 79, 57, 19, 40, 59, 14, 21, 35, 0, 90, 11, 32, 17, 78, 83, 54, 42, 66, 82, 99, 45, 55, 63, 24, 5, 89, 46, 80, 49, 3, 48, 67, 47, 50, 60, 81, 51, 71, 33, 72, 6, 9, 30, 56, 20, 77, 29, 28, 69, 25, 36, 91, 92, 65, 22, 62, 58, 64, 88, 10, 7, 87, 41, 44, 37, 73, 70, 68, 97, 61, 95, 53, 1]\n",
      "6592\n"
     ]
    }
   ],
   "source": [
    "masks = [board == -1 for board in boards]\n",
    "flag = False\n",
    "for input in drawn_numbers:\n",
    "    for board, mask in zip(boards, masks):\n",
    "        mask += (board == input)\n",
    "        if any(np.sum(mask, axis=0) == 5) or any(np.sum(mask, axis=1) == 5):\n",
    "            print(board)\n",
    "            print(mask)\n",
    "            print(drawn_numbers)\n",
    "            print(np.sum(board[~mask]) * input)\n",
    "            flag = True\n",
    "    if flag:\n",
    "        break\n",
    "\n"
   ],
   "metadata": {
    "collapsed": false,
    "pycharm": {
     "name": "#%%\n"
    }
   }
  },
  {
   "cell_type": "code",
   "execution_count": 52,
   "outputs": [
    {
     "name": "stdout",
     "output_type": "stream",
     "text": [
      "31755\n"
     ]
    }
   ],
   "source": [
    "masks = [board == -1 for board in boards]\n",
    "flag = False\n",
    "round_finished = [-1 for board in boards]\n",
    "for round, input in enumerate(drawn_numbers):\n",
    "    for i, (board, mask) in enumerate(zip(boards, masks)):\n",
    "        if round_finished[i] == -1:\n",
    "            mask += (board == input)\n",
    "            if any(np.sum(mask, axis=0) == 5) or any(np.sum(mask, axis=1) == 5):\n",
    "                round_finished[i] = round\n",
    "\n",
    "\n",
    "last_finished_boad = max(enumerate(round_finished), key=lambda x: x[1])[0]\n",
    "print(np.sum(boards[last_finished_boad][~masks[last_finished_boad]]) * drawn_numbers[round_finished[last_finished_boad]])\n"
   ],
   "metadata": {
    "collapsed": false,
    "pycharm": {
     "name": "#%%\n"
    }
   }
  },
  {
   "cell_type": "code",
   "execution_count": 53,
   "outputs": [
    {
     "data": {
      "text/plain": "39"
     },
     "execution_count": 53,
     "metadata": {},
     "output_type": "execute_result"
    }
   ],
   "source": [
    "last_finished_boad"
   ],
   "metadata": {
    "collapsed": false,
    "pycharm": {
     "name": "#%%\n"
    }
   }
  },
  {
   "cell_type": "code",
   "execution_count": 41,
   "outputs": [
    {
     "data": {
      "text/plain": "[13, 14, 11]"
     },
     "execution_count": 41,
     "metadata": {},
     "output_type": "execute_result"
    }
   ],
   "source": [
    "round_finished"
   ],
   "metadata": {
    "collapsed": false,
    "pycharm": {
     "name": "#%%\n"
    }
   }
  },
  {
   "cell_type": "code",
   "execution_count": 44,
   "outputs": [
    {
     "data": {
      "text/plain": "9"
     },
     "execution_count": 44,
     "metadata": {},
     "output_type": "execute_result"
    }
   ],
   "source": [
    "drawn_numbers[last_finished_boad + 1]"
   ],
   "metadata": {
    "collapsed": false,
    "pycharm": {
     "name": "#%%\n"
    }
   }
  },
  {
   "cell_type": "code",
   "execution_count": 90,
   "outputs": [],
   "source": [
    "# assignement 5_1\n",
    "import numpy as np\n",
    "import re\n",
    "import matplotlib.pyplot as plt\n",
    "with open('input5.txt', 'r') as f:\n",
    "    inputs = f.readlines()"
   ],
   "metadata": {
    "collapsed": false,
    "pycharm": {
     "name": "#%%\n"
    }
   }
  },
  {
   "cell_type": "code",
   "execution_count": 91,
   "outputs": [],
   "source": [
    "# convert to list of four numbers\n",
    "lines = [list(map(int, re.split('->|,', input))) for input in inputs]"
   ],
   "metadata": {
    "collapsed": false,
    "pycharm": {
     "name": "#%%\n"
    }
   }
  },
  {
   "cell_type": "code",
   "execution_count": 92,
   "outputs": [
    {
     "data": {
      "text/plain": "989"
     },
     "execution_count": 92,
     "metadata": {},
     "output_type": "execute_result"
    }
   ],
   "source": [
    "# find grid size\n",
    "max(max(line) for line in lines)\n"
   ],
   "metadata": {
    "collapsed": false,
    "pycharm": {
     "name": "#%%\n"
    }
   }
  },
  {
   "cell_type": "code",
   "execution_count": 51,
   "outputs": [],
   "source": [
    "# split in horizontal and vertical lines\n",
    "horizontal_lines = []\n",
    "vertical_lines = []\n",
    "for line in lines:\n",
    "    if line[0] == line[2]:\n",
    "        horizontal_lines.append(line)\n",
    "    elif line[1] == line[3]:\n",
    "        vertical_lines.append(line)\n",
    "    else:\n",
    "        pass"
   ],
   "metadata": {
    "collapsed": false,
    "pycharm": {
     "name": "#%%\n"
    }
   }
  },
  {
   "cell_type": "code",
   "execution_count": 53,
   "outputs": [],
   "source": [
    "grid = np.zeros((1000, 1000))\n",
    "count = 0\n",
    "for line in horizontal_lines:\n",
    "    x = line[0]\n",
    "    y1 = min(line[1], line[3])\n",
    "    y2 = max(line[1], line[3]) + 1\n",
    "    grid[x, y1:y2] += 1\n",
    "\n",
    "for line in vertical_lines:\n",
    "    y = line[1]\n",
    "    x1 = min(line[0], line[2])\n",
    "    x2 = max(line[0], line[2]) + 1\n",
    "    grid[x1:x2, y] += 1"
   ],
   "metadata": {
    "collapsed": false,
    "pycharm": {
     "name": "#%%\n"
    }
   }
  },
  {
   "cell_type": "code",
   "execution_count": 45,
   "outputs": [
    {
     "data": {
      "text/plain": "7.0"
     },
     "execution_count": 45,
     "metadata": {},
     "output_type": "execute_result"
    }
   ],
   "source": [
    "np.sum(grid)\n"
   ],
   "metadata": {
    "collapsed": false,
    "pycharm": {
     "name": "#%%\n"
    }
   }
  },
  {
   "cell_type": "code",
   "execution_count": 54,
   "outputs": [
    {
     "data": {
      "text/plain": "7085"
     },
     "execution_count": 54,
     "metadata": {},
     "output_type": "execute_result"
    }
   ],
   "source": [
    "len(np.argwhere(grid > 1))"
   ],
   "metadata": {
    "collapsed": false,
    "pycharm": {
     "name": "#%%\n"
    }
   }
  },
  {
   "cell_type": "code",
   "execution_count": 93,
   "outputs": [],
   "source": [
    "# assignment 5_2\n",
    "def line_to_coords(line):\n",
    "    print(line)\n",
    "    length = max(abs(line[2] - line[0]), abs(line[3] - line[1])) + 1\n",
    "    print(length)\n",
    "    x_mul = np.sign(line[2] - line[0])\n",
    "    y_mul = np.sign(line[3] - line[1])\n",
    "    print(x_mul, y_mul)\n",
    "    ls = []\n",
    "    for i in range(length):\n",
    "        ls.append((line[0] + i * x_mul, line[1] + i * y_mul))\n",
    "    return ls"
   ],
   "metadata": {
    "collapsed": false,
    "pycharm": {
     "name": "#%%\n"
    }
   }
  },
  {
   "cell_type": "code",
   "execution_count": 94,
   "outputs": [
    {
     "name": "stdout",
     "output_type": "stream",
     "text": [
      "[194, 556, 739, 556]\n",
      "546\n",
      "1 0\n",
      "[818, 920, 818, 524]\n",
      "397\n",
      "0 -1\n",
      "[340, 734, 774, 300]\n",
      "435\n",
      "1 -1\n",
      "[223, 511, 146, 434]\n",
      "78\n",
      "-1 -1\n",
      "[841, 47, 122, 766]\n",
      "720\n",
      "-1 1\n",
      "[323, 858, 859, 322]\n",
      "537\n",
      "1 -1\n",
      "[277, 205, 85, 205]\n",
      "193\n",
      "-1 0\n",
      "[782, 901, 782, 186]\n",
      "716\n",
      "0 -1\n",
      "[969, 96, 969, 648]\n",
      "553\n",
      "0 1\n",
      "[504, 971, 989, 971]\n",
      "486\n",
      "1 0\n",
      "[926, 151, 926, 480]\n",
      "330\n",
      "0 1\n",
      "[722, 895, 722, 488]\n",
      "408\n",
      "0 -1\n",
      "[15, 14, 987, 986]\n",
      "973\n",
      "1 1\n",
      "[378, 486, 267, 597]\n",
      "112\n",
      "-1 1\n",
      "[732, 418, 157, 418]\n",
      "576\n",
      "-1 0\n",
      "[252, 515, 257, 520]\n",
      "6\n",
      "1 1\n",
      "[61, 828, 659, 230]\n",
      "599\n",
      "1 -1\n",
      "[116, 652, 893, 652]\n",
      "778\n",
      "1 0\n",
      "[827, 196, 827, 564]\n",
      "369\n",
      "0 1\n",
      "[677, 515, 677, 257]\n",
      "259\n",
      "0 -1\n",
      "[380, 897, 132, 897]\n",
      "249\n",
      "-1 0\n",
      "[812, 959, 812, 23]\n",
      "937\n",
      "0 -1\n",
      "[989, 382, 294, 382]\n",
      "696\n",
      "-1 0\n",
      "[973, 89, 81, 981]\n",
      "893\n",
      "-1 1\n",
      "[292, 920, 987, 225]\n",
      "696\n",
      "1 -1\n",
      "[441, 394, 441, 469]\n",
      "76\n",
      "0 1\n",
      "[502, 662, 502, 213]\n",
      "450\n",
      "0 -1\n",
      "[609, 570, 609, 58]\n",
      "513\n",
      "0 -1\n",
      "[559, 47, 208, 47]\n",
      "352\n",
      "-1 0\n",
      "[77, 192, 277, 192]\n",
      "201\n",
      "1 0\n",
      "[229, 588, 66, 588]\n",
      "164\n",
      "-1 0\n",
      "[705, 363, 705, 161]\n",
      "203\n",
      "0 -1\n",
      "[944, 51, 78, 917]\n",
      "867\n",
      "-1 1\n",
      "[699, 889, 699, 354]\n",
      "536\n",
      "0 -1\n",
      "[90, 48, 955, 913]\n",
      "866\n",
      "1 1\n",
      "[166, 491, 24, 633]\n",
      "143\n",
      "-1 1\n",
      "[154, 482, 113, 441]\n",
      "42\n",
      "-1 -1\n",
      "[989, 989, 10, 10]\n",
      "980\n",
      "-1 -1\n",
      "[421, 414, 791, 44]\n",
      "371\n",
      "1 -1\n",
      "[360, 272, 966, 272]\n",
      "607\n",
      "1 0\n",
      "[264, 631, 630, 631]\n",
      "367\n",
      "1 0\n",
      "[541, 50, 541, 911]\n",
      "862\n",
      "0 1\n",
      "[17, 475, 289, 203]\n",
      "273\n",
      "1 -1\n",
      "[226, 772, 697, 301]\n",
      "472\n",
      "1 -1\n",
      "[163, 625, 163, 513]\n",
      "113\n",
      "0 -1\n",
      "[642, 971, 642, 754]\n",
      "218\n",
      "0 -1\n",
      "[975, 329, 793, 329]\n",
      "183\n",
      "-1 0\n",
      "[793, 878, 793, 938]\n",
      "61\n",
      "0 1\n",
      "[10, 95, 175, 95]\n",
      "166\n",
      "1 0\n",
      "[352, 903, 352, 176]\n",
      "728\n",
      "0 -1\n",
      "[914, 92, 91, 915]\n",
      "824\n",
      "-1 1\n",
      "[649, 768, 649, 136]\n",
      "633\n",
      "0 -1\n",
      "[347, 492, 347, 977]\n",
      "486\n",
      "0 1\n",
      "[372, 839, 372, 741]\n",
      "99\n",
      "0 -1\n",
      "[587, 534, 526, 534]\n",
      "62\n",
      "-1 0\n",
      "[563, 936, 102, 475]\n",
      "462\n",
      "-1 -1\n",
      "[126, 708, 362, 708]\n",
      "237\n",
      "1 0\n",
      "[326, 869, 326, 640]\n",
      "230\n",
      "0 -1\n",
      "[358, 959, 358, 408]\n",
      "552\n",
      "0 -1\n",
      "[221, 99, 221, 659]\n",
      "561\n",
      "0 1\n",
      "[572, 405, 906, 71]\n",
      "335\n",
      "1 -1\n",
      "[592, 664, 687, 759]\n",
      "96\n",
      "1 1\n",
      "[618, 457, 388, 687]\n",
      "231\n",
      "-1 1\n",
      "[712, 850, 245, 383]\n",
      "468\n",
      "-1 -1\n",
      "[981, 22, 45, 958]\n",
      "937\n",
      "-1 1\n",
      "[107, 884, 340, 651]\n",
      "234\n",
      "1 -1\n",
      "[17, 896, 642, 896]\n",
      "626\n",
      "1 0\n",
      "[488, 135, 851, 135]\n",
      "364\n",
      "1 0\n",
      "[54, 76, 184, 76]\n",
      "131\n",
      "1 0\n",
      "[290, 596, 290, 478]\n",
      "119\n",
      "0 -1\n",
      "[468, 427, 468, 316]\n",
      "112\n",
      "0 -1\n",
      "[412, 434, 412, 581]\n",
      "148\n",
      "0 1\n",
      "[899, 681, 238, 20]\n",
      "662\n",
      "-1 -1\n",
      "[647, 231, 542, 231]\n",
      "106\n",
      "-1 0\n",
      "[54, 374, 302, 622]\n",
      "249\n",
      "1 1\n",
      "[586, 555, 13, 555]\n",
      "574\n",
      "-1 0\n",
      "[875, 930, 26, 81]\n",
      "850\n",
      "-1 -1\n",
      "[875, 115, 127, 863]\n",
      "749\n",
      "-1 1\n",
      "[863, 42, 45, 860]\n",
      "819\n",
      "-1 1\n",
      "[708, 862, 100, 862]\n",
      "609\n",
      "-1 0\n",
      "[190, 490, 26, 654]\n",
      "165\n",
      "-1 1\n",
      "[347, 944, 711, 580]\n",
      "365\n",
      "1 -1\n",
      "[259, 533, 259, 516]\n",
      "18\n",
      "0 -1\n",
      "[833, 790, 891, 848]\n",
      "59\n",
      "1 1\n",
      "[556, 583, 921, 948]\n",
      "366\n",
      "1 1\n",
      "[745, 929, 745, 569]\n",
      "361\n",
      "0 -1\n",
      "[111, 100, 499, 100]\n",
      "389\n",
      "1 0\n",
      "[638, 903, 525, 903]\n",
      "114\n",
      "-1 0\n",
      "[726, 388, 973, 388]\n",
      "248\n",
      "1 0\n",
      "[335, 504, 638, 504]\n",
      "304\n",
      "1 0\n",
      "[628, 29, 159, 29]\n",
      "470\n",
      "-1 0\n",
      "[375, 406, 200, 406]\n",
      "176\n",
      "-1 0\n",
      "[12, 819, 945, 819]\n",
      "934\n",
      "1 0\n",
      "[660, 330, 318, 672]\n",
      "343\n",
      "-1 1\n",
      "[436, 477, 436, 988]\n",
      "512\n",
      "0 1\n",
      "[925, 41, 464, 41]\n",
      "462\n",
      "-1 0\n",
      "[868, 485, 868, 109]\n",
      "377\n",
      "0 -1\n",
      "[130, 859, 979, 10]\n",
      "850\n",
      "1 -1\n",
      "[895, 50, 895, 568]\n",
      "519\n",
      "0 1\n",
      "[582, 943, 582, 904]\n",
      "40\n",
      "0 -1\n",
      "[589, 616, 589, 590]\n",
      "27\n",
      "0 -1\n",
      "[773, 359, 441, 691]\n",
      "333\n",
      "-1 1\n",
      "[396, 22, 396, 730]\n",
      "709\n",
      "0 1\n",
      "[862, 947, 30, 115]\n",
      "833\n",
      "-1 -1\n",
      "[573, 543, 40, 10]\n",
      "534\n",
      "-1 -1\n",
      "[726, 743, 726, 934]\n",
      "192\n",
      "0 1\n",
      "[360, 170, 360, 187]\n",
      "18\n",
      "0 1\n",
      "[597, 287, 982, 287]\n",
      "386\n",
      "1 0\n",
      "[537, 112, 838, 112]\n",
      "302\n",
      "1 0\n",
      "[702, 683, 151, 683]\n",
      "552\n",
      "-1 0\n",
      "[770, 792, 752, 792]\n",
      "19\n",
      "-1 0\n",
      "[964, 60, 896, 60]\n",
      "69\n",
      "-1 0\n",
      "[53, 642, 278, 642]\n",
      "226\n",
      "1 0\n",
      "[414, 871, 798, 487]\n",
      "385\n",
      "1 -1\n",
      "[96, 950, 96, 983]\n",
      "34\n",
      "0 1\n",
      "[251, 65, 289, 65]\n",
      "39\n",
      "1 0\n",
      "[797, 666, 797, 200]\n",
      "467\n",
      "0 -1\n",
      "[582, 157, 582, 538]\n",
      "382\n",
      "0 1\n",
      "[107, 398, 594, 885]\n",
      "488\n",
      "1 1\n",
      "[96, 66, 806, 776]\n",
      "711\n",
      "1 1\n",
      "[124, 911, 347, 911]\n",
      "224\n",
      "1 0\n",
      "[974, 538, 974, 318]\n",
      "221\n",
      "0 -1\n",
      "[45, 966, 226, 785]\n",
      "182\n",
      "1 -1\n",
      "[39, 960, 827, 172]\n",
      "789\n",
      "1 -1\n",
      "[163, 939, 709, 939]\n",
      "547\n",
      "1 0\n",
      "[351, 540, 351, 954]\n",
      "415\n",
      "0 1\n",
      "[656, 894, 220, 458]\n",
      "437\n",
      "-1 -1\n",
      "[278, 314, 278, 146]\n",
      "169\n",
      "0 -1\n",
      "[637, 784, 637, 283]\n",
      "502\n",
      "0 -1\n",
      "[83, 690, 899, 690]\n",
      "817\n",
      "1 0\n",
      "[16, 48, 884, 916]\n",
      "869\n",
      "1 1\n",
      "[681, 865, 310, 494]\n",
      "372\n",
      "-1 -1\n",
      "[333, 631, 333, 832]\n",
      "202\n",
      "0 1\n",
      "[527, 652, 527, 836]\n",
      "185\n",
      "0 1\n",
      "[352, 343, 352, 623]\n",
      "281\n",
      "0 1\n",
      "[256, 316, 479, 93]\n",
      "224\n",
      "1 -1\n",
      "[450, 86, 489, 86]\n",
      "40\n",
      "1 0\n",
      "[814, 834, 814, 494]\n",
      "341\n",
      "0 -1\n",
      "[406, 947, 783, 947]\n",
      "378\n",
      "1 0\n",
      "[811, 643, 318, 643]\n",
      "494\n",
      "-1 0\n",
      "[240, 651, 366, 651]\n",
      "127\n",
      "1 0\n",
      "[902, 618, 303, 19]\n",
      "600\n",
      "-1 -1\n",
      "[843, 939, 729, 939]\n",
      "115\n",
      "-1 0\n",
      "[901, 149, 131, 919]\n",
      "771\n",
      "-1 1\n",
      "[365, 459, 222, 459]\n",
      "144\n",
      "-1 0\n",
      "[909, 218, 426, 701]\n",
      "484\n",
      "-1 1\n",
      "[746, 415, 746, 199]\n",
      "217\n",
      "0 -1\n",
      "[249, 327, 807, 885]\n",
      "559\n",
      "1 1\n",
      "[760, 923, 860, 923]\n",
      "101\n",
      "1 0\n",
      "[506, 259, 506, 357]\n",
      "99\n",
      "0 1\n",
      "[933, 892, 143, 892]\n",
      "791\n",
      "-1 0\n",
      "[88, 589, 88, 77]\n",
      "513\n",
      "0 -1\n",
      "[597, 554, 810, 554]\n",
      "214\n",
      "1 0\n",
      "[505, 574, 505, 812]\n",
      "239\n",
      "0 1\n",
      "[211, 786, 906, 91]\n",
      "696\n",
      "1 -1\n",
      "[387, 238, 480, 238]\n",
      "94\n",
      "1 0\n",
      "[394, 729, 422, 757]\n",
      "29\n",
      "1 1\n",
      "[526, 436, 526, 12]\n",
      "425\n",
      "0 -1\n",
      "[660, 397, 660, 290]\n",
      "108\n",
      "0 -1\n",
      "[856, 469, 176, 469]\n",
      "681\n",
      "-1 0\n",
      "[653, 731, 370, 731]\n",
      "284\n",
      "-1 0\n",
      "[542, 241, 542, 32]\n",
      "210\n",
      "0 -1\n",
      "[471, 734, 471, 384]\n",
      "351\n",
      "0 -1\n",
      "[975, 468, 783, 468]\n",
      "193\n",
      "-1 0\n",
      "[25, 578, 580, 578]\n",
      "556\n",
      "1 0\n",
      "[52, 632, 551, 133]\n",
      "500\n",
      "1 -1\n",
      "[150, 791, 672, 791]\n",
      "523\n",
      "1 0\n",
      "[643, 348, 643, 869]\n",
      "522\n",
      "0 1\n",
      "[893, 514, 893, 422]\n",
      "93\n",
      "0 -1\n",
      "[400, 463, 335, 463]\n",
      "66\n",
      "-1 0\n",
      "[564, 917, 676, 917]\n",
      "113\n",
      "1 0\n",
      "[166, 433, 166, 246]\n",
      "188\n",
      "0 -1\n",
      "[798, 36, 69, 765]\n",
      "730\n",
      "-1 1\n",
      "[118, 977, 882, 977]\n",
      "765\n",
      "1 0\n",
      "[718, 415, 75, 415]\n",
      "644\n",
      "-1 0\n",
      "[690, 807, 690, 659]\n",
      "149\n",
      "0 -1\n",
      "[163, 809, 269, 809]\n",
      "107\n",
      "1 0\n",
      "[715, 238, 715, 314]\n",
      "77\n",
      "0 1\n",
      "[970, 924, 104, 58]\n",
      "867\n",
      "-1 -1\n",
      "[683, 762, 683, 467]\n",
      "296\n",
      "0 -1\n",
      "[554, 375, 980, 801]\n",
      "427\n",
      "1 1\n",
      "[361, 130, 361, 66]\n",
      "65\n",
      "0 -1\n",
      "[879, 491, 879, 843]\n",
      "353\n",
      "0 1\n",
      "[515, 700, 515, 454]\n",
      "247\n",
      "0 -1\n",
      "[465, 432, 465, 444]\n",
      "13\n",
      "0 1\n",
      "[250, 239, 216, 273]\n",
      "35\n",
      "-1 1\n",
      "[894, 818, 163, 818]\n",
      "732\n",
      "-1 0\n",
      "[190, 790, 190, 616]\n",
      "175\n",
      "0 -1\n",
      "[384, 263, 384, 84]\n",
      "180\n",
      "0 -1\n",
      "[63, 875, 851, 87]\n",
      "789\n",
      "1 -1\n",
      "[154, 293, 278, 417]\n",
      "125\n",
      "1 1\n",
      "[21, 592, 883, 592]\n",
      "863\n",
      "1 0\n",
      "[372, 286, 588, 70]\n",
      "217\n",
      "1 -1\n",
      "[972, 447, 972, 639]\n",
      "193\n",
      "0 1\n",
      "[838, 60, 681, 60]\n",
      "158\n",
      "-1 0\n",
      "[38, 366, 38, 907]\n",
      "542\n",
      "0 1\n",
      "[746, 65, 459, 65]\n",
      "288\n",
      "-1 0\n",
      "[138, 640, 66, 640]\n",
      "73\n",
      "-1 0\n",
      "[536, 309, 536, 109]\n",
      "201\n",
      "0 -1\n",
      "[772, 634, 772, 566]\n",
      "69\n",
      "0 -1\n",
      "[43, 949, 945, 47]\n",
      "903\n",
      "1 -1\n",
      "[914, 85, 395, 85]\n",
      "520\n",
      "-1 0\n",
      "[25, 12, 977, 964]\n",
      "953\n",
      "1 1\n",
      "[679, 455, 679, 439]\n",
      "17\n",
      "0 -1\n",
      "[420, 492, 614, 492]\n",
      "195\n",
      "1 0\n",
      "[823, 658, 823, 634]\n",
      "25\n",
      "0 -1\n",
      "[45, 332, 45, 943]\n",
      "612\n",
      "0 1\n",
      "[807, 344, 807, 756]\n",
      "413\n",
      "0 1\n",
      "[634, 974, 634, 892]\n",
      "83\n",
      "0 -1\n",
      "[26, 26, 988, 988]\n",
      "963\n",
      "1 1\n",
      "[628, 772, 15, 772]\n",
      "614\n",
      "-1 0\n",
      "[829, 614, 550, 614]\n",
      "280\n",
      "-1 0\n",
      "[513, 649, 513, 369]\n",
      "281\n",
      "0 -1\n",
      "[607, 923, 607, 801]\n",
      "123\n",
      "0 -1\n",
      "[809, 340, 450, 699]\n",
      "360\n",
      "-1 1\n",
      "[550, 193, 666, 193]\n",
      "117\n",
      "1 0\n",
      "[175, 961, 902, 234]\n",
      "728\n",
      "1 -1\n",
      "[467, 146, 500, 146]\n",
      "34\n",
      "1 0\n",
      "[543, 510, 543, 626]\n",
      "117\n",
      "0 1\n",
      "[667, 52, 667, 161]\n",
      "110\n",
      "0 1\n",
      "[635, 299, 375, 299]\n",
      "261\n",
      "-1 0\n",
      "[278, 807, 904, 807]\n",
      "627\n",
      "1 0\n",
      "[269, 290, 644, 290]\n",
      "376\n",
      "1 0\n",
      "[630, 268, 630, 440]\n",
      "173\n",
      "0 1\n",
      "[241, 929, 882, 288]\n",
      "642\n",
      "1 -1\n",
      "[864, 907, 360, 907]\n",
      "505\n",
      "-1 0\n",
      "[455, 894, 455, 265]\n",
      "630\n",
      "0 -1\n",
      "[257, 43, 257, 519]\n",
      "477\n",
      "0 1\n",
      "[414, 83, 360, 83]\n",
      "55\n",
      "-1 0\n",
      "[237, 64, 237, 612]\n",
      "549\n",
      "0 1\n",
      "[260, 541, 260, 927]\n",
      "387\n",
      "0 1\n",
      "[323, 909, 323, 583]\n",
      "327\n",
      "0 -1\n",
      "[929, 354, 929, 695]\n",
      "342\n",
      "0 1\n",
      "[912, 914, 40, 42]\n",
      "873\n",
      "-1 -1\n",
      "[579, 401, 392, 401]\n",
      "188\n",
      "-1 0\n",
      "[389, 222, 895, 728]\n",
      "507\n",
      "1 1\n",
      "[831, 696, 831, 707]\n",
      "12\n",
      "0 1\n",
      "[871, 304, 212, 304]\n",
      "660\n",
      "-1 0\n",
      "[207, 333, 621, 333]\n",
      "415\n",
      "1 0\n",
      "[225, 897, 355, 767]\n",
      "131\n",
      "1 -1\n",
      "[883, 68, 84, 867]\n",
      "800\n",
      "-1 1\n",
      "[115, 397, 115, 208]\n",
      "190\n",
      "0 -1\n",
      "[889, 217, 985, 217]\n",
      "97\n",
      "1 0\n",
      "[793, 402, 250, 402]\n",
      "544\n",
      "-1 0\n",
      "[555, 367, 61, 861]\n",
      "495\n",
      "-1 1\n",
      "[732, 954, 466, 688]\n",
      "267\n",
      "-1 -1\n",
      "[39, 564, 39, 481]\n",
      "84\n",
      "0 -1\n",
      "[283, 816, 346, 816]\n",
      "64\n",
      "1 0\n",
      "[383, 506, 276, 506]\n",
      "108\n",
      "-1 0\n",
      "[394, 661, 394, 143]\n",
      "519\n",
      "0 -1\n",
      "[988, 983, 66, 61]\n",
      "923\n",
      "-1 -1\n",
      "[652, 638, 652, 569]\n",
      "70\n",
      "0 -1\n",
      "[185, 64, 487, 64]\n",
      "303\n",
      "1 0\n",
      "[354, 935, 251, 935]\n",
      "104\n",
      "-1 0\n",
      "[201, 460, 201, 552]\n",
      "93\n",
      "0 1\n",
      "[836, 285, 836, 666]\n",
      "382\n",
      "0 1\n",
      "[878, 312, 359, 831]\n",
      "520\n",
      "-1 1\n",
      "[443, 684, 887, 240]\n",
      "445\n",
      "1 -1\n",
      "[221, 49, 948, 776]\n",
      "728\n",
      "1 1\n",
      "[243, 959, 22, 959]\n",
      "222\n",
      "-1 0\n",
      "[573, 323, 834, 323]\n",
      "262\n",
      "1 0\n",
      "[745, 734, 456, 734]\n",
      "290\n",
      "-1 0\n",
      "[594, 244, 908, 244]\n",
      "315\n",
      "1 0\n",
      "[583, 360, 578, 355]\n",
      "6\n",
      "-1 -1\n",
      "[288, 38, 288, 364]\n",
      "327\n",
      "0 1\n",
      "[565, 339, 251, 653]\n",
      "315\n",
      "-1 1\n",
      "[215, 196, 215, 476]\n",
      "281\n",
      "0 1\n",
      "[270, 705, 586, 705]\n",
      "317\n",
      "1 0\n",
      "[749, 477, 749, 658]\n",
      "182\n",
      "0 1\n",
      "[917, 838, 511, 432]\n",
      "407\n",
      "-1 -1\n",
      "[935, 187, 935, 381]\n",
      "195\n",
      "0 1\n",
      "[181, 190, 323, 48]\n",
      "143\n",
      "1 -1\n",
      "[399, 491, 399, 779]\n",
      "289\n",
      "0 1\n",
      "[861, 798, 91, 28]\n",
      "771\n",
      "-1 -1\n",
      "[160, 115, 58, 115]\n",
      "103\n",
      "-1 0\n",
      "[940, 68, 940, 590]\n",
      "523\n",
      "0 1\n",
      "[806, 958, 35, 187]\n",
      "772\n",
      "-1 -1\n",
      "[184, 538, 438, 284]\n",
      "255\n",
      "1 -1\n",
      "[283, 904, 283, 114]\n",
      "791\n",
      "0 -1\n",
      "[344, 935, 222, 935]\n",
      "123\n",
      "-1 0\n",
      "[435, 962, 367, 962]\n",
      "69\n",
      "-1 0\n",
      "[837, 768, 837, 583]\n",
      "186\n",
      "0 -1\n",
      "[100, 423, 826, 423]\n",
      "727\n",
      "1 0\n",
      "[299, 172, 465, 172]\n",
      "167\n",
      "1 0\n",
      "[130, 136, 181, 187]\n",
      "52\n",
      "1 1\n",
      "[969, 759, 55, 759]\n",
      "915\n",
      "-1 0\n",
      "[936, 711, 521, 711]\n",
      "416\n",
      "-1 0\n",
      "[268, 619, 349, 619]\n",
      "82\n",
      "1 0\n",
      "[946, 119, 108, 957]\n",
      "839\n",
      "-1 1\n",
      "[940, 25, 10, 955]\n",
      "931\n",
      "-1 1\n",
      "[867, 494, 652, 279]\n",
      "216\n",
      "-1 -1\n",
      "[535, 202, 321, 202]\n",
      "215\n",
      "-1 0\n",
      "[876, 14, 24, 866]\n",
      "853\n",
      "-1 1\n",
      "[887, 208, 887, 265]\n",
      "58\n",
      "0 1\n",
      "[129, 12, 42, 12]\n",
      "88\n",
      "-1 0\n",
      "[514, 800, 940, 374]\n",
      "427\n",
      "1 -1\n",
      "[722, 306, 722, 418]\n",
      "113\n",
      "0 1\n",
      "[24, 928, 935, 17]\n",
      "912\n",
      "1 -1\n",
      "[798, 279, 798, 293]\n",
      "15\n",
      "0 1\n",
      "[384, 701, 193, 701]\n",
      "192\n",
      "-1 0\n",
      "[100, 644, 593, 644]\n",
      "494\n",
      "1 0\n",
      "[818, 48, 216, 48]\n",
      "603\n",
      "-1 0\n",
      "[51, 984, 949, 86]\n",
      "899\n",
      "1 -1\n",
      "[843, 494, 843, 723]\n",
      "230\n",
      "0 1\n",
      "[809, 156, 129, 836]\n",
      "681\n",
      "-1 1\n",
      "[500, 38, 656, 38]\n",
      "157\n",
      "1 0\n",
      "[311, 705, 311, 101]\n",
      "605\n",
      "0 -1\n",
      "[21, 850, 21, 316]\n",
      "535\n",
      "0 -1\n",
      "[530, 628, 511, 628]\n",
      "20\n",
      "-1 0\n",
      "[106, 366, 415, 675]\n",
      "310\n",
      "1 1\n",
      "[542, 882, 325, 665]\n",
      "218\n",
      "-1 -1\n",
      "[987, 937, 987, 793]\n",
      "145\n",
      "0 -1\n",
      "[926, 260, 264, 922]\n",
      "663\n",
      "-1 1\n",
      "[768, 149, 914, 149]\n",
      "147\n",
      "1 0\n",
      "[548, 71, 548, 812]\n",
      "742\n",
      "0 1\n",
      "[51, 946, 812, 946]\n",
      "762\n",
      "1 0\n",
      "[430, 439, 954, 963]\n",
      "525\n",
      "1 1\n",
      "[529, 301, 133, 301]\n",
      "397\n",
      "-1 0\n",
      "[282, 890, 720, 890]\n",
      "439\n",
      "1 0\n",
      "[876, 231, 336, 771]\n",
      "541\n",
      "-1 1\n",
      "[489, 471, 934, 471]\n",
      "446\n",
      "1 0\n",
      "[585, 174, 100, 174]\n",
      "486\n",
      "-1 0\n",
      "[284, 489, 163, 489]\n",
      "122\n",
      "-1 0\n",
      "[989, 983, 33, 27]\n",
      "957\n",
      "-1 -1\n",
      "[31, 213, 662, 213]\n",
      "632\n",
      "1 0\n",
      "[133, 832, 559, 406]\n",
      "427\n",
      "1 -1\n",
      "[730, 345, 730, 194]\n",
      "152\n",
      "0 -1\n",
      "[860, 288, 736, 412]\n",
      "125\n",
      "-1 1\n",
      "[110, 351, 581, 351]\n",
      "472\n",
      "1 0\n",
      "[417, 151, 77, 491]\n",
      "341\n",
      "-1 1\n",
      "[674, 671, 674, 711]\n",
      "41\n",
      "0 1\n",
      "[514, 867, 514, 100]\n",
      "768\n",
      "0 -1\n",
      "[885, 595, 885, 680]\n",
      "86\n",
      "0 1\n",
      "[44, 31, 928, 915]\n",
      "885\n",
      "1 1\n",
      "[969, 347, 69, 347]\n",
      "901\n",
      "-1 0\n",
      "[597, 227, 357, 227]\n",
      "241\n",
      "-1 0\n",
      "[347, 443, 347, 216]\n",
      "228\n",
      "0 -1\n",
      "[781, 736, 781, 93]\n",
      "644\n",
      "0 -1\n",
      "[968, 559, 968, 81]\n",
      "479\n",
      "0 -1\n",
      "[35, 93, 232, 93]\n",
      "198\n",
      "1 0\n",
      "[273, 837, 97, 837]\n",
      "177\n",
      "-1 0\n",
      "[949, 833, 748, 632]\n",
      "202\n",
      "-1 -1\n",
      "[712, 773, 221, 773]\n",
      "492\n",
      "-1 0\n",
      "[194, 884, 978, 100]\n",
      "785\n",
      "1 -1\n",
      "[217, 816, 217, 861]\n",
      "46\n",
      "0 1\n",
      "[651, 122, 71, 122]\n",
      "581\n",
      "-1 0\n",
      "[166, 551, 166, 892]\n",
      "342\n",
      "0 1\n",
      "[285, 193, 883, 193]\n",
      "599\n",
      "1 0\n",
      "[858, 934, 125, 201]\n",
      "734\n",
      "-1 -1\n",
      "[180, 190, 577, 190]\n",
      "398\n",
      "1 0\n",
      "[491, 685, 690, 486]\n",
      "200\n",
      "1 -1\n",
      "[666, 598, 337, 269]\n",
      "330\n",
      "-1 -1\n",
      "[455, 571, 753, 571]\n",
      "299\n",
      "1 0\n",
      "[11, 769, 11, 507]\n",
      "263\n",
      "0 -1\n",
      "[391, 663, 323, 595]\n",
      "69\n",
      "-1 -1\n",
      "[70, 740, 70, 928]\n",
      "189\n",
      "0 1\n",
      "[205, 525, 534, 854]\n",
      "330\n",
      "1 1\n",
      "[890, 851, 151, 851]\n",
      "740\n",
      "-1 0\n",
      "[382, 662, 849, 195]\n",
      "468\n",
      "1 -1\n",
      "[201, 870, 201, 506]\n",
      "365\n",
      "0 -1\n",
      "[549, 549, 549, 528]\n",
      "22\n",
      "0 -1\n",
      "[343, 172, 601, 172]\n",
      "259\n",
      "1 0\n",
      "[22, 732, 750, 732]\n",
      "729\n",
      "1 0\n",
      "[221, 689, 881, 29]\n",
      "661\n",
      "1 -1\n",
      "[628, 559, 747, 559]\n",
      "120\n",
      "1 0\n",
      "[668, 879, 437, 879]\n",
      "232\n",
      "-1 0\n",
      "[712, 139, 38, 139]\n",
      "675\n",
      "-1 0\n",
      "[547, 322, 905, 322]\n",
      "359\n",
      "1 0\n",
      "[872, 304, 719, 304]\n",
      "154\n",
      "-1 0\n",
      "[469, 604, 389, 524]\n",
      "81\n",
      "-1 -1\n",
      "[256, 91, 746, 91]\n",
      "491\n",
      "1 0\n",
      "[881, 548, 641, 548]\n",
      "241\n",
      "-1 0\n",
      "[683, 417, 683, 800]\n",
      "384\n",
      "0 1\n",
      "[811, 917, 646, 917]\n",
      "166\n",
      "-1 0\n",
      "[578, 556, 207, 185]\n",
      "372\n",
      "-1 -1\n",
      "[732, 343, 260, 343]\n",
      "473\n",
      "-1 0\n",
      "[86, 869, 882, 73]\n",
      "797\n",
      "1 -1\n",
      "[370, 587, 765, 192]\n",
      "396\n",
      "1 -1\n",
      "[649, 621, 649, 165]\n",
      "457\n",
      "0 -1\n",
      "[298, 339, 298, 523]\n",
      "185\n",
      "0 1\n",
      "[131, 771, 803, 99]\n",
      "673\n",
      "1 -1\n",
      "[934, 791, 934, 29]\n",
      "763\n",
      "0 -1\n",
      "[782, 13, 782, 741]\n",
      "729\n",
      "0 1\n",
      "[852, 808, 852, 594]\n",
      "215\n",
      "0 -1\n",
      "[390, 217, 153, 217]\n",
      "238\n",
      "-1 0\n",
      "[858, 980, 94, 216]\n",
      "765\n",
      "-1 -1\n",
      "[832, 467, 783, 418]\n",
      "50\n",
      "-1 -1\n",
      "[188, 49, 981, 842]\n",
      "794\n",
      "1 1\n",
      "[438, 467, 76, 829]\n",
      "363\n",
      "-1 1\n",
      "[47, 911, 164, 911]\n",
      "118\n",
      "1 0\n",
      "[670, 414, 533, 414]\n",
      "138\n",
      "-1 0\n",
      "[58, 61, 740, 743]\n",
      "683\n",
      "1 1\n",
      "[264, 686, 264, 799]\n",
      "114\n",
      "0 1\n",
      "[506, 300, 64, 300]\n",
      "443\n",
      "-1 0\n",
      "[509, 717, 509, 952]\n",
      "236\n",
      "0 1\n",
      "[81, 819, 81, 694]\n",
      "126\n",
      "0 -1\n",
      "[512, 543, 427, 543]\n",
      "86\n",
      "-1 0\n",
      "[235, 78, 788, 78]\n",
      "554\n",
      "1 0\n",
      "[952, 133, 644, 133]\n",
      "309\n",
      "-1 0\n",
      "[188, 302, 695, 302]\n",
      "508\n",
      "1 0\n",
      "[272, 868, 845, 295]\n",
      "574\n",
      "1 -1\n",
      "[288, 413, 704, 413]\n",
      "417\n",
      "1 0\n",
      "[774, 671, 774, 24]\n",
      "648\n",
      "0 -1\n",
      "[296, 932, 296, 16]\n",
      "917\n",
      "0 -1\n",
      "[99, 789, 300, 789]\n",
      "202\n",
      "1 0\n",
      "[630, 560, 630, 896]\n",
      "337\n",
      "0 1\n",
      "[328, 289, 280, 289]\n",
      "49\n",
      "-1 0\n",
      "[786, 772, 294, 280]\n",
      "493\n",
      "-1 -1\n",
      "[437, 747, 437, 110]\n",
      "638\n",
      "0 -1\n",
      "[537, 709, 42, 709]\n",
      "496\n",
      "-1 0\n",
      "[655, 924, 655, 117]\n",
      "808\n",
      "0 -1\n",
      "[185, 65, 963, 843]\n",
      "779\n",
      "1 1\n",
      "[70, 87, 274, 87]\n",
      "205\n",
      "1 0\n",
      "[516, 727, 183, 394]\n",
      "334\n",
      "-1 -1\n",
      "[322, 128, 781, 587]\n",
      "460\n",
      "1 1\n",
      "[147, 278, 482, 278]\n",
      "336\n",
      "1 0\n",
      "[188, 793, 761, 793]\n",
      "574\n",
      "1 0\n",
      "[702, 441, 702, 27]\n",
      "415\n",
      "0 -1\n",
      "[686, 18, 686, 275]\n",
      "258\n",
      "0 1\n",
      "[510, 254, 510, 862]\n",
      "609\n",
      "0 1\n",
      "[666, 204, 12, 204]\n",
      "655\n",
      "-1 0\n",
      "[677, 63, 677, 78]\n",
      "16\n",
      "0 1\n",
      "[868, 950, 868, 110]\n",
      "841\n",
      "0 -1\n",
      "[42, 845, 739, 148]\n",
      "698\n",
      "1 -1\n",
      "[343, 279, 758, 279]\n",
      "416\n",
      "1 0\n",
      "[182, 792, 727, 792]\n",
      "546\n",
      "1 0\n",
      "[346, 238, 493, 238]\n",
      "148\n",
      "1 0\n",
      "[467, 493, 467, 273]\n",
      "221\n",
      "0 -1\n",
      "[823, 68, 823, 886]\n",
      "819\n",
      "0 1\n",
      "[686, 302, 39, 302]\n",
      "648\n",
      "-1 0\n",
      "[984, 345, 984, 936]\n",
      "592\n",
      "0 1\n",
      "[11, 480, 11, 675]\n",
      "196\n",
      "0 1\n",
      "[989, 478, 695, 772]\n",
      "295\n",
      "-1 1\n",
      "[568, 235, 535, 235]\n",
      "34\n",
      "-1 0\n",
      "[203, 41, 93, 41]\n",
      "111\n",
      "-1 0\n",
      "[463, 569, 304, 569]\n",
      "160\n",
      "-1 0\n",
      "[909, 629, 207, 629]\n",
      "703\n",
      "-1 0\n",
      "[792, 678, 792, 909]\n",
      "232\n",
      "0 1\n",
      "[486, 924, 486, 948]\n",
      "25\n",
      "0 1\n",
      "[611, 79, 611, 303]\n",
      "225\n",
      "0 1\n",
      "[762, 136, 139, 759]\n",
      "624\n",
      "-1 1\n",
      "[808, 872, 726, 872]\n",
      "83\n",
      "-1 0\n",
      "[22, 403, 22, 401]\n",
      "3\n",
      "0 -1\n",
      "[774, 134, 369, 134]\n",
      "406\n",
      "-1 0\n",
      "[131, 282, 131, 849]\n",
      "568\n",
      "0 1\n",
      "[912, 245, 912, 385]\n",
      "141\n",
      "0 1\n",
      "[338, 396, 768, 396]\n",
      "431\n",
      "1 0\n",
      "[944, 978, 20, 54]\n",
      "925\n",
      "-1 -1\n",
      "[623, 897, 623, 10]\n",
      "888\n",
      "0 -1\n",
      "[103, 402, 207, 298]\n",
      "105\n",
      "1 -1\n",
      "[39, 50, 971, 50]\n",
      "933\n",
      "1 0\n",
      "[770, 423, 882, 423]\n",
      "113\n",
      "1 0\n",
      "[195, 873, 195, 40]\n",
      "834\n",
      "0 -1\n",
      "[119, 659, 119, 374]\n",
      "286\n",
      "0 -1\n",
      "[678, 962, 698, 962]\n",
      "21\n",
      "1 0\n",
      "[946, 64, 946, 202]\n",
      "139\n",
      "0 1\n",
      "[790, 780, 790, 66]\n",
      "715\n",
      "0 -1\n",
      "[565, 21, 614, 21]\n",
      "50\n",
      "1 0\n",
      "[617, 20, 640, 20]\n",
      "24\n",
      "1 0\n",
      "[697, 773, 697, 915]\n",
      "143\n",
      "0 1\n",
      "[467, 167, 208, 167]\n",
      "260\n",
      "-1 0\n",
      "[567, 713, 567, 873]\n",
      "161\n",
      "0 1\n",
      "[120, 98, 557, 98]\n",
      "438\n",
      "1 0\n",
      "[103, 395, 103, 159]\n",
      "237\n",
      "0 -1\n",
      "[148, 734, 723, 159]\n",
      "576\n",
      "1 -1\n",
      "[730, 949, 730, 33]\n",
      "917\n",
      "0 -1\n",
      "[322, 628, 322, 272]\n",
      "357\n",
      "0 -1\n",
      "[649, 57, 44, 57]\n",
      "606\n",
      "-1 0\n",
      "[261, 513, 624, 513]\n",
      "364\n",
      "1 0\n",
      "[550, 414, 738, 226]\n",
      "189\n",
      "1 -1\n",
      "[774, 183, 471, 486]\n",
      "304\n",
      "-1 1\n",
      "[146, 659, 146, 581]\n",
      "79\n",
      "0 -1\n",
      "[599, 751, 599, 320]\n",
      "432\n",
      "0 -1\n",
      "[936, 225, 226, 935]\n",
      "711\n",
      "-1 1\n",
      "[378, 31, 222, 187]\n",
      "157\n",
      "-1 1\n",
      "[871, 691, 502, 691]\n",
      "370\n",
      "-1 0\n",
      "[195, 963, 335, 963]\n",
      "141\n",
      "1 0\n",
      "[513, 465, 382, 334]\n",
      "132\n",
      "-1 -1\n",
      "[620, 801, 673, 801]\n",
      "54\n",
      "1 0\n",
      "[187, 428, 318, 428]\n",
      "132\n",
      "1 0\n",
      "[572, 836, 441, 836]\n",
      "132\n",
      "-1 0\n",
      "[305, 398, 305, 951]\n",
      "554\n",
      "0 1\n",
      "[978, 703, 927, 703]\n",
      "52\n",
      "-1 0\n",
      "[99, 219, 846, 966]\n",
      "748\n",
      "1 1\n",
      "[952, 971, 26, 45]\n",
      "927\n",
      "-1 -1\n",
      "[859, 775, 859, 663]\n",
      "113\n",
      "0 -1\n",
      "[144, 777, 144, 390]\n",
      "388\n",
      "0 -1\n",
      "[792, 859, 441, 859]\n",
      "352\n",
      "-1 0\n",
      "[513, 672, 982, 203]\n",
      "470\n",
      "1 -1\n",
      "[613, 342, 671, 400]\n",
      "59\n",
      "1 1\n",
      "[802, 498, 811, 498]\n",
      "10\n",
      "1 0\n",
      "[197, 240, 197, 216]\n",
      "25\n",
      "0 -1\n",
      "[45, 908, 881, 72]\n",
      "837\n",
      "1 -1\n",
      "[860, 573, 12, 573]\n",
      "849\n",
      "-1 0\n",
      "[817, 145, 755, 83]\n",
      "63\n",
      "-1 -1\n",
      "[565, 562, 660, 467]\n",
      "96\n",
      "1 -1\n",
      "[918, 952, 918, 111]\n",
      "842\n",
      "0 -1\n",
      "[936, 174, 936, 97]\n",
      "78\n",
      "0 -1\n",
      "[630, 759, 630, 89]\n",
      "671\n",
      "0 -1\n",
      "[329, 762, 608, 762]\n",
      "280\n",
      "1 0\n"
     ]
    }
   ],
   "source": [
    "coords = list(map(line_to_coords, lines))\n"
   ],
   "metadata": {
    "collapsed": false,
    "pycharm": {
     "name": "#%%\n"
    }
   }
  },
  {
   "cell_type": "code",
   "execution_count": 95,
   "outputs": [
    {
     "name": "stderr",
     "output_type": "stream",
     "text": [
      "<ipython-input-95-e34c733da704>:3: FutureWarning: Using a non-tuple sequence for multidimensional indexing is deprecated; use `arr[tuple(seq)]` instead of `arr[seq]`. In the future this will be interpreted as an array index, `arr[np.array(seq)]`, which will result either in an error or a different result.\n",
      "  grid[list(zip(*coord_ls))] += 1\n"
     ]
    },
    {
     "data": {
      "text/plain": "20271"
     },
     "execution_count": 95,
     "metadata": {},
     "output_type": "execute_result"
    },
    {
     "data": {
      "text/plain": "<Figure size 432x288 with 1 Axes>",
      "image/png": "[encoded data removed]"
     },
     "metadata": {
      "needs_background": "light"
     },
     "output_type": "display_data"
    }
   ],
   "source": [
    "grid = np.zeros((1000, 1000))\n",
    "for coord_ls in coords:\n",
    "    grid[list(zip(*coord_ls))] += 1\n",
    "plt.imshow(grid)\n",
    "len(np.argwhere(grid > 1))"
   ],
   "metadata": {
    "collapsed": false,
    "pycharm": {
     "name": "#%%\n"
    }
   }
  },
  {
   "cell_type": "code",
   "execution_count": 25,
   "outputs": [],
   "source": [
    "import numpy as np\n",
    "with open('input6.txt', 'r') as f:\n",
    "    inputs = f.readlines()"
   ],
   "metadata": {
    "collapsed": false,
    "pycharm": {
     "name": "#%%\n"
    }
   }
  },
  {
   "cell_type": "code",
   "execution_count": 26,
   "outputs": [],
   "source": [
    "start_days = [int(val) for val in inputs[0].split(',')]"
   ],
   "metadata": {
    "collapsed": false,
    "pycharm": {
     "name": "#%%\n"
    }
   }
  },
  {
   "cell_type": "code",
   "execution_count": 27,
   "outputs": [
    {
     "name": "stdout",
     "output_type": "stream",
     "text": [
      "[  0. 119.  45.  48.  40.  48.   0.   0.   0.]\n"
     ]
    },
    {
     "name": "stderr",
     "output_type": "stream",
     "text": [
      "<ipython-input-27-dfea133df8d3>:11: FutureWarning: Using a non-tuple sequence for multidimensional indexing is deprecated; use `arr[tuple(seq)]` instead of `arr[seq]`. In the future this will be interpreted as an array index, `arr[np.array(seq)]`, which will result either in an error or a different result.\n",
      "  transition_matrix[list(zip(*transition))] = 1\n"
     ]
    },
    {
     "data": {
      "text/plain": "array([[0., 1., 0., 0., 0., 0., 0., 0., 0.],\n       [0., 0., 1., 0., 0., 0., 0., 0., 0.],\n       [0., 0., 0., 1., 0., 0., 0., 0., 0.],\n       [0., 0., 0., 0., 1., 0., 0., 0., 0.],\n       [0., 0., 0., 0., 0., 1., 0., 0., 0.],\n       [0., 0., 0., 0., 0., 0., 1., 0., 0.],\n       [1., 0., 0., 0., 0., 0., 0., 1., 0.],\n       [0., 0., 0., 0., 0., 0., 0., 0., 1.],\n       [1., 0., 0., 0., 0., 0., 0., 0., 0.]])"
     },
     "execution_count": 27,
     "metadata": {},
     "output_type": "execute_result"
    }
   ],
   "source": [
    "\n",
    "start_amounts = Counter(start_days)\n",
    "\n",
    "state0 = np.zeros(9)\n",
    "for val, count in start_amounts.items():\n",
    "    state0[val] = count\n",
    "\n",
    "print(state0)\n",
    "transition = [(i - 1, i ) for i in range(1, 9)] + [(6, 0), (8, 0)]\n",
    "transition_matrix = np.zeros((9, 9))\n",
    "transition_matrix[list(zip(*transition))] = 1\n",
    "transition_matrix"
   ],
   "metadata": {
    "collapsed": false,
    "pycharm": {
     "name": "#%%\n"
    }
   }
  },
  {
   "cell_type": "code",
   "execution_count": 28,
   "outputs": [
    {
     "data": {
      "text/plain": "array([119.,  45.,  48.,  40.,  48.,   0.,   0.,   0.,   0.])"
     },
     "execution_count": 28,
     "metadata": {},
     "output_type": "execute_result"
    }
   ],
   "source": [
    "state = transition_matrix.dot(state0)\n",
    "state"
   ],
   "metadata": {
    "collapsed": false,
    "pycharm": {
     "name": "#%%\n"
    }
   }
  },
  {
   "cell_type": "code",
   "execution_count": 21,
   "outputs": [
    {
     "data": {
      "text/plain": "array([2., 1., 0., 0., 0., 1., 1., 1., 1.])"
     },
     "execution_count": 21,
     "metadata": {},
     "output_type": "execute_result"
    }
   ],
   "source": [
    "state = transition_matrix.dot(state)\n",
    "state\n"
   ],
   "metadata": {
    "collapsed": false,
    "pycharm": {
     "name": "#%%\n"
    }
   }
  },
  {
   "cell_type": "code",
   "execution_count": 30,
   "outputs": [
    {
     "name": "stdout",
     "output_type": "stream",
     "text": [
      "1640526601595.0\n"
     ]
    }
   ],
   "source": [
    "from itertools import count\n",
    "state = state0\n",
    "for i in range(256):\n",
    "    state = transition_matrix.dot(state)\n",
    "print(np.sum(state))\n"
   ],
   "metadata": {
    "collapsed": false,
    "pycharm": {
     "name": "#%%\n"
    }
   }
  },
  {
   "cell_type": "code",
   "execution_count": 50,
   "outputs": [],
   "source": [
    "with open('input7.txt', 'r') as f:\n",
    "    inputs = f.readlines()\n",
    "\n",
    "positions = list(map(int, inputs[0].split(',')))"
   ],
   "metadata": {
    "collapsed": false,
    "pycharm": {
     "name": "#%%\n"
    }
   }
  },
  {
   "cell_type": "code",
   "execution_count": 51,
   "outputs": [],
   "source": [
    "import numpy as np\n"
   ],
   "metadata": {
    "collapsed": false,
    "pycharm": {
     "name": "#%%\n"
    }
   }
  },
  {
   "cell_type": "code",
   "execution_count": 52,
   "outputs": [],
   "source": [
    "x = int(np.median(positions))"
   ],
   "metadata": {
    "collapsed": false,
    "pycharm": {
     "name": "#%%\n"
    }
   }
  },
  {
   "cell_type": "code",
   "execution_count": 53,
   "outputs": [
    {
     "data": {
      "text/plain": "339321"
     },
     "execution_count": 53,
     "metadata": {},
     "output_type": "execute_result"
    }
   ],
   "source": [
    "np.sum([abs(x - val) for val in positions])\n"
   ],
   "metadata": {
    "collapsed": false,
    "pycharm": {
     "name": "#%%\n"
    }
   }
  },
  {
   "cell_type": "code",
   "execution_count": 54,
   "outputs": [],
   "source": [
    "x2 = int(np.mean(positions))"
   ],
   "metadata": {
    "collapsed": false,
    "pycharm": {
     "name": "#%%\n"
    }
   }
  },
  {
   "cell_type": "code",
   "execution_count": 55,
   "outputs": [],
   "source": [
    "def energy(goal, pos):\n",
    "    diff = abs(goal - pos)\n",
    "    return diff * (diff + 1) / 2\n",
    "\n",
    "@lru_cache()\n",
    "def total_energy(goal, positions):\n",
    "    return np.sum(energy(goal, pos) for pos in positions)"
   ],
   "metadata": {
    "collapsed": false,
    "pycharm": {
     "name": "#%%\n"
    }
   }
  },
  {
   "cell_type": "code",
   "execution_count": 56,
   "outputs": [],
   "source": [
    "from functools import lru_cache\n",
    "\n",
    "@lru_cache()\n",
    "def min_step(val, positions, func):\n",
    "    base_line = func(val, positions)\n",
    "    if func(val - 1, positions) < base_line:\n",
    "        return min_step(val - 1, positions, func)\n",
    "    if func(val + 1, positions) < base_line:\n",
    "        return min_step(val + 1, positions, func)\n",
    "    return val, base_line"
   ],
   "metadata": {
    "collapsed": false,
    "pycharm": {
     "name": "#%%\n"
    }
   }
  },
  {
   "cell_type": "code",
   "execution_count": 57,
   "outputs": [
    {
     "name": "stderr",
     "output_type": "stream",
     "text": [
      "<ipython-input-55-1f1eb68b19bd>:7: DeprecationWarning: Calling np.sum(generator) is deprecated, and in the future will give a different result. Use np.sum(np.fromiter(generator)) or the python sum builtin instead.\n",
      "  return np.sum(energy(goal, pos) for pos in positions)\n"
     ]
    }
   ],
   "source": [
    "pos, fuel = min_step(int(np.mean(positions)), tuple(positions), total_energy)"
   ],
   "metadata": {
    "collapsed": false,
    "pycharm": {
     "name": "#%%\n"
    }
   }
  },
  {
   "cell_type": "code",
   "execution_count": 58,
   "outputs": [
    {
     "data": {
      "text/plain": "95476244.0"
     },
     "execution_count": 58,
     "metadata": {},
     "output_type": "execute_result"
    }
   ],
   "source": [
    "fuel"
   ],
   "metadata": {
    "collapsed": false,
    "pycharm": {
     "name": "#%%\n"
    }
   }
  },
  {
   "cell_type": "code",
   "execution_count": 1,
   "outputs": [],
   "source": [
    "# assignment 8 part 1\n",
    "with open('input8.txt', 'r') as f:\n",
    "    strings = f.readlines()\n",
    "\n",
    "# code_lists = [[len(code) for code in line.split('|')[-1].strip().split(' ')] for line in strings]\n",
    "\n",
    "# codes_lens = [l for line in code_lists for l in line]"
   ],
   "metadata": {
    "collapsed": false,
    "pycharm": {
     "name": "#%%\n"
    }
   }
  },
  {
   "cell_type": "code",
   "execution_count": 84,
   "outputs": [
    {
     "data": {
      "text/plain": "301"
     },
     "execution_count": 84,
     "metadata": {},
     "output_type": "execute_result"
    }
   ],
   "source": [
    "from collections import Counter\n",
    "c = Counter(codes_lens)\n",
    "c[2] + c[3] + c[4] + c[7]"
   ],
   "metadata": {
    "collapsed": false,
    "pycharm": {
     "name": "#%%\n"
    }
   }
  },
  {
   "cell_type": "code",
   "execution_count": 10,
   "outputs": [
    {
     "data": {
      "text/plain": "8"
     },
     "execution_count": 10,
     "metadata": {},
     "output_type": "execute_result"
    }
   ],
   "source": [],
   "metadata": {
    "collapsed": false,
    "pycharm": {
     "name": "#%%\n"
    }
   }
  },
  {
   "cell_type": "code",
   "execution_count": 9,
   "outputs": [],
   "source": [
    "def decode_list(ls):\n",
    "    out = {}\n",
    "    val1 = ''\n",
    "    val4 = ''\n",
    "    len5s = []\n",
    "    len6s = []\n",
    "    for val in ls:\n",
    "        if len(val) == 2:\n",
    "            out[val] = 1\n",
    "            val1 = val\n",
    "        elif len(val) == 3:\n",
    "            out[val] = 7\n",
    "        elif len(val) == 4:\n",
    "            out[val] = 4\n",
    "            val4 = val\n",
    "        elif len(val) == 7:\n",
    "            out[val] = 8\n",
    "        elif len(val) == 5:\n",
    "            len5s.append(val)\n",
    "        elif len(val) == 6:\n",
    "            len6s.append(val)\n",
    "        else:\n",
    "            raise ValueError(f'no good len for {val}')\n",
    "    for val in len5s:\n",
    "        if len(set(val) & set(val1)) == 2:\n",
    "            out[val] = 3\n",
    "        elif len(set(val) & set(val4)) == 2:\n",
    "            out[val] = 2\n",
    "        elif len(set(val) & set(val4)) == 3:\n",
    "            out[val] = 5\n",
    "        else:\n",
    "            raise ValueError(f'{val} has length 5 but no case')\n",
    "    for val in len6s:\n",
    "        if len(set(val) & set(val1)) == 1:\n",
    "            out[val] = 6\n",
    "        elif len(set(val) & set(val4)) == 3:\n",
    "            out[val] = 0\n",
    "        elif len(set(val) & set(val4)) == 4:\n",
    "            out[val] = 9\n",
    "        else:\n",
    "            raise ValueError(f'{val} has length 6 but no case')\n",
    "    return {sort_string(key): val for key, val in out.items()}\n",
    "\n"
   ],
   "metadata": {
    "collapsed": false,
    "pycharm": {
     "name": "#%%\n"
    }
   }
  },
  {
   "cell_type": "code",
   "execution_count": 10,
   "outputs": [],
   "source": [
    "encodings = [[code for code in line.split('|')[0].strip().split(' ')] for line in strings]\n",
    "codes = [[code for code in line.split('|')[1].strip().split(' ')] for line in strings]"
   ],
   "metadata": {
    "collapsed": false,
    "pycharm": {
     "name": "#%%\n"
    }
   }
  },
  {
   "cell_type": "code",
   "execution_count": 11,
   "outputs": [],
   "source": [
    "decodings = [decode_list(line) for line in encodings]"
   ],
   "metadata": {
    "collapsed": false,
    "pycharm": {
     "name": "#%%\n"
    }
   }
  },
  {
   "cell_type": "code",
   "execution_count": 12,
   "outputs": [
    {
     "data": {
      "text/plain": "908067"
     },
     "execution_count": 12,
     "metadata": {},
     "output_type": "execute_result"
    }
   ],
   "source": [
    "values = [int(''.join([str(decoding[sort_string(c)]) for c in code])) for decoding, code in zip(decodings, codes)]\n",
    "sum(values)\n"
   ],
   "metadata": {
    "collapsed": false,
    "pycharm": {
     "name": "#%%\n"
    }
   }
  },
  {
   "cell_type": "code",
   "execution_count": 6,
   "outputs": [],
   "source": [
    "def sort_string(s):\n",
    "    val = ''.join(sorted(s))\n",
    "    return val"
   ],
   "metadata": {
    "collapsed": false,
    "pycharm": {
     "name": "#%%\n"
    }
   }
  },
  {
   "cell_type": "code",
   "execution_count": 90,
   "outputs": [
    {
     "data": {
      "text/plain": "200"
     },
     "execution_count": 90,
     "metadata": {},
     "output_type": "execute_result"
    }
   ],
   "source": [
    "len(strings)\n"
   ],
   "metadata": {
    "collapsed": false,
    "pycharm": {
     "name": "#%%\n"
    }
   }
  },
  {
   "cell_type": "code",
   "execution_count": 80,
   "outputs": [
    {
     "data": {
      "text/plain": "[7699,\n 3598,\n 4859,\n 6631,\n 6195,\n 9571,\n 9529,\n 9925,\n 4852,\n 1984,\n 3324,\n 2893,\n 5632,\n 1533,\n 9199,\n 8246,\n 5961,\n 5597,\n 7412,\n 9273,\n 9119,\n 6319,\n 1942,\n 3347,\n 7182,\n 1986,\n 3968,\n 8625,\n 4895,\n 7739,\n 5779,\n 1169,\n 2881,\n 5839,\n 1299,\n 4714,\n 3394,\n 1143,\n 1235,\n 1759,\n 1339,\n 3792,\n 6667,\n 3184,\n 9726,\n 7621,\n 1552,\n 3173,\n 9456,\n 2326,\n 9796,\n 4646,\n 3748,\n 5998,\n 2693,\n 9595,\n 9176,\n 1924,\n 8651,\n 9375,\n 4431,\n 1946,\n 5549,\n 7274,\n 8894,\n 2982,\n 9225,\n 8986,\n 4676,\n 8947,\n 2622,\n 3927,\n 4992,\n 8197,\n 6183,\n 9651,\n 4576,\n 8652,\n 6879,\n 4249,\n 6388,\n 9996,\n 9155,\n 9929,\n 1256,\n 3889,\n 9423,\n 5785,\n 5388,\n 7725,\n 3556,\n 2685,\n 6575,\n 6985,\n 2973,\n 2299,\n 3349,\n 5193,\n 5944,\n 1977,\n 9241,\n 9966,\n 1584,\n 3972,\n 5277,\n 2542,\n 2339,\n 8242,\n 1324,\n 7489,\n 9593,\n 3359,\n 9112,\n 8558,\n 6435,\n 3145,\n 9995,\n 9496,\n 5273,\n 9579,\n 9387,\n 9925,\n 7569,\n 2947,\n 3571,\n 7114,\n 2838,\n 7674,\n 5898,\n 1741,\n 4253,\n 7696,\n 4128,\n 7936,\n 2363,\n 9418,\n 9862,\n 9624,\n 4354,\n 5472,\n 3917,\n 2428,\n 4619,\n 3261,\n 1631,\n 6615,\n 9942,\n 7482,\n 3892,\n 9259,\n 7187,\n 2997,\n 3255,\n 9927,\n 1688,\n 8963,\n 7958,\n 6417,\n 9619,\n 3298,\n 9548,\n 7851,\n 9999,\n 9951,\n 9211,\n 6466,\n 4639,\n 4935,\n 3518,\n 3239,\n 2799,\n 4549,\n 5264,\n 5459,\n 9523,\n 5245,\n 6214,\n 9932,\n 1471,\n 7555,\n 7797,\n 3599,\n 5418,\n 5182,\n 9257,\n 3359,\n 5926,\n 8548,\n 3417,\n 6121,\n 6957,\n 9244,\n 2873,\n 6949,\n 1211,\n 2934,\n 6969,\n 1667,\n 7399,\n 2697]"
     },
     "execution_count": 80,
     "metadata": {},
     "output_type": "execute_result"
    }
   ],
   "source": [
    "values\n"
   ],
   "metadata": {
    "collapsed": false,
    "pycharm": {
     "name": "#%%\n"
    }
   }
  },
  {
   "cell_type": "code",
   "execution_count": 140,
   "outputs": [],
   "source": [
    "# assignment 9\n",
    "# load data\n",
    "with open('input9.txt', 'r') as f:\n",
    "    strings = f.readlines()"
   ],
   "metadata": {
    "collapsed": false,
    "pycharm": {
     "name": "#%%\n"
    }
   }
  },
  {
   "cell_type": "code",
   "execution_count": 141,
   "outputs": [],
   "source": [
    "import numpy as np\n",
    "# make numpy array from\n",
    "height_map = np.array([list(map(int, string.strip())) for string in strings])\n"
   ],
   "metadata": {
    "collapsed": false,
    "pycharm": {
     "name": "#%%\n"
    }
   }
  },
  {
   "cell_type": "code",
   "execution_count": 142,
   "outputs": [],
   "source": [
    "from itertools import product\n",
    "def find_low_points(height_map):\n",
    "    is_min = np.zeros(height_map.shape)\n",
    "    is_min[:, 1:] += height_map[:, 1:] >= height_map[:, :-1]\n",
    "    is_min[:, :-1] += height_map[:, :-1] >= height_map[:, 1:]\n",
    "    is_min[1:, :] += height_map[1:, :] >= height_map[:-1, :]\n",
    "    is_min[:-1, :] += height_map[:-1, :] >= height_map[1:, :]\n",
    "    return is_min == 0"
   ],
   "metadata": {
    "collapsed": false,
    "pycharm": {
     "name": "#%%\n"
    }
   }
  },
  {
   "cell_type": "code",
   "execution_count": 143,
   "outputs": [
    {
     "data": {
      "text/plain": "array([[False, False, False, ..., False, False, False],\n       [ True, False, False, ..., False, False, False],\n       [False, False, False, ...,  True, False, False],\n       ...,\n       [False, False, False, ..., False, False, False],\n       [ True, False, False, ..., False, False, False],\n       [False, False, False, ..., False, False, False]])"
     },
     "execution_count": 143,
     "metadata": {},
     "output_type": "execute_result"
    }
   ],
   "source": [
    "find_low_points(height_map)\n"
   ],
   "metadata": {
    "collapsed": false,
    "pycharm": {
     "name": "#%%\n"
    }
   }
  },
  {
   "cell_type": "code",
   "execution_count": 144,
   "outputs": [
    {
     "data": {
      "text/plain": "<matplotlib.image.AxesImage at 0x7f823129c7f0>"
     },
     "execution_count": 144,
     "metadata": {},
     "output_type": "execute_result"
    },
    {
     "data": {
      "text/plain": "<Figure size 432x288 with 1 Axes>",
      "image/png": "[encoded data removed]"
     },
     "metadata": {
      "needs_background": "light"
     },
     "output_type": "display_data"
    }
   ],
   "source": [
    "import matplotlib.pyplot as plt\n",
    "plt.imshow(find_low_points(height_map))"
   ],
   "metadata": {
    "collapsed": false,
    "pycharm": {
     "name": "#%%\n"
    }
   }
  },
  {
   "cell_type": "code",
   "execution_count": 145,
   "outputs": [
    {
     "data": {
      "text/plain": "444"
     },
     "execution_count": 145,
     "metadata": {},
     "output_type": "execute_result"
    }
   ],
   "source": [
    "np.sum(height_map[find_low_points(height_map)]) + np.sum(find_low_points(height_map))\n"
   ],
   "metadata": {
    "collapsed": false,
    "pycharm": {
     "name": "#%%\n"
    }
   }
  },
  {
   "cell_type": "code",
   "execution_count": 146,
   "outputs": [],
   "source": [
    "from collections import defaultdict"
   ],
   "metadata": {
    "collapsed": false,
    "pycharm": {
     "name": "#%%\n"
    }
   }
  },
  {
   "cell_type": "code",
   "execution_count": 151,
   "outputs": [],
   "source": [
    "def find_bassin(height_map, low_point):\n",
    "    points = [low_point]\n",
    "    i, j = low_point\n",
    "    val = height_map[low_point]\n",
    "    if i - 1 >= 0:\n",
    "        if val < height_map[i-1, j] < 9:\n",
    "            points.extend(find_bassin(height_map, (i-1, j)))\n",
    "    if i + 1 < height_map.shape[0]:\n",
    "        if val < height_map[i+1, j] < 9:\n",
    "            points.extend(find_bassin(height_map, (i+1, j)))\n",
    "    if j - 1 >= 0:\n",
    "        if val < height_map[i, j-1] < 9:\n",
    "            points.extend(find_bassin(height_map, (i, j-1)))\n",
    "    if j + 1 < height_map.shape[1]:\n",
    "        if val < height_map[i, j+1] < 9:\n",
    "            points.extend(find_bassin(height_map, (i, j+1)))\n",
    "    return points\n",
    "\n",
    "\n"
   ],
   "metadata": {
    "collapsed": false,
    "pycharm": {
     "name": "#%%\n"
    }
   }
  },
  {
   "cell_type": "code",
   "execution_count": 148,
   "outputs": [],
   "source": [
    "low_points = list(map(tuple, np.argwhere(find_low_points(height_map))))"
   ],
   "metadata": {
    "collapsed": false,
    "pycharm": {
     "name": "#%%\n"
    }
   }
  },
  {
   "cell_type": "code",
   "execution_count": 149,
   "outputs": [
    {
     "name": "stdout",
     "output_type": "stream",
     "text": [
      "(0, 58)\n",
      "(1, 58)\n",
      "(2, 58)\n",
      "(1, 57)\n",
      "(0, 57)\n",
      "(0, 56)\n",
      "(0, 57)\n",
      "(0, 56)\n",
      "(0, 59)\n",
      "(1, 59)\n",
      "(1, 58)\n",
      "(2, 58)\n",
      "(1, 57)\n",
      "(0, 57)\n",
      "(0, 56)\n"
     ]
    },
    {
     "data": {
      "text/plain": "[(1, 57), (0, 58), (1, 59), (2, 58), (0, 57), (1, 58), (0, 59), (0, 56)]"
     },
     "execution_count": 149,
     "metadata": {},
     "output_type": "execute_result"
    }
   ],
   "source": [
    "list(set(find_bassin(height_map, low_points[1])))"
   ],
   "metadata": {
    "collapsed": false,
    "pycharm": {
     "name": "#%%\n"
    }
   }
  },
  {
   "cell_type": "code",
   "execution_count": 152,
   "outputs": [
    {
     "name": "stdout",
     "output_type": "stream",
     "text": [
      "1168440\n"
     ]
    }
   ],
   "source": [
    "scores = [0, 0, 0]\n",
    "for low_point in low_points:\n",
    "    score = len(set(find_bassin(height_map, low_point)))\n",
    "    if score > scores[0]:\n",
    "        scores[0] = score\n",
    "        scores.sort()\n",
    "\n",
    "print(scores[0] * scores[1] * scores[2])"
   ],
   "metadata": {
    "collapsed": false,
    "pycharm": {
     "name": "#%%\n"
    }
   }
  },
  {
   "cell_type": "code",
   "execution_count": null,
   "outputs": [],
   "source": [],
   "metadata": {
    "collapsed": false,
    "pycharm": {
     "name": "#%%\n"
    }
   }
  }
 ],
 "metadata": {
  "kernelspec": {
   "display_name": "Python 3",
   "language": "python",
   "name": "python3"
  },
  "language_info": {
   "codemirror_mode": {
    "name": "ipython",
    "version": 2
   },
   "file_extension": ".py",
   "mimetype": "text/x-python",
   "name": "python",
   "nbconvert_exporter": "python",
   "pygments_lexer": "ipython2",
   "version": "2.7.6"
  }
 },
 "nbformat": 4,
 "nbformat_minor": 0
}