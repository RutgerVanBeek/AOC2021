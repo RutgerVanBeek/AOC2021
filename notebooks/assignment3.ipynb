{
 "cells": [
  {
   "cell_type": "code",
   "execution_count": 11,
   "outputs": [],
   "source": [
    "from math import prod"
   ],
   "metadata": {
    "collapsed": false,
    "pycharm": {
     "name": "#%%\n"
    }
   }
  },
  {
   "cell_type": "code",
   "execution_count": 2,
   "metadata": {
    "collapsed": true
   },
   "outputs": [],
   "source": [
    "with open('../inputs/input3.txt', 'r') as f:\n",
    "    strings = f.readlines()\n"
   ]
  },
  {
   "cell_type": "code",
   "execution_count": 3,
   "outputs": [
    {
     "data": {
      "text/plain": "1025636"
     },
     "execution_count": 3,
     "metadata": {},
     "output_type": "execute_result"
    }
   ],
   "source": [
    "# part 1\n",
    "ls = [[*string.strip()] for string in strings]\n",
    "out_most = ''\n",
    "out_least = ''\n",
    "from collections import Counter\n",
    "for vals in zip(*ls):\n",
    "    count = Counter(vals)\n",
    "    out_most += max(count, key=count.get)\n",
    "    out_least += min(count, key=count.get)\n",
    "\n",
    "\n",
    "int(out_most, 2) * int(out_least, 2)"
   ],
   "metadata": {
    "collapsed": false,
    "pycharm": {
     "name": "#%%\n"
    }
   }
  },
  {
   "cell_type": "code",
   "execution_count": 12,
   "outputs": [
    {
     "data": {
      "text/plain": "793873"
     },
     "execution_count": 12,
     "metadata": {},
     "output_type": "execute_result"
    }
   ],
   "source": [
    "# part 2\n",
    "length = len(strings[0])\n",
    "funcs = {'min': (min, '0'), 'max': (max, '1')}\n",
    "out = {}\n",
    "for name, (func, default) in funcs.items():\n",
    "    pattern = ''\n",
    "    for i in range(length):\n",
    "        vals = [string[i] for string in strings if string[:i] == pattern]\n",
    "        if len(vals) == 1:\n",
    "            break\n",
    "        count = Counter(vals)\n",
    "        if count['1'] == count['0']:\n",
    "            pattern += default\n",
    "            if count['1'] == 1:\n",
    "                i += 1\n",
    "                break\n",
    "        else:\n",
    "            pattern += func(count, key=count.get)\n",
    "    out[name] = [string for string in strings if string[:i] == pattern][0]\n",
    "\n",
    "prod(int(val, 2) for val in out.values())"
   ],
   "metadata": {
    "collapsed": false,
    "pycharm": {
     "name": "#%%\n"
    }
   }
  }
 ],
 "metadata": {
  "kernelspec": {
   "display_name": "Python 3",
   "language": "python",
   "name": "python3"
  },
  "language_info": {
   "codemirror_mode": {
    "name": "ipython",
    "version": 2
   },
   "file_extension": ".py",
   "mimetype": "text/x-python",
   "name": "python",
   "nbconvert_exporter": "python",
   "pygments_lexer": "ipython2",
   "version": "2.7.6"
  }
 },
 "nbformat": 4,
 "nbformat_minor": 0
}