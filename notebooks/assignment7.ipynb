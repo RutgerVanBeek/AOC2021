{
 "cells": [
  {
   "cell_type": "code",
   "execution_count": 12,
   "metadata": {
    "collapsed": true
   },
   "outputs": [],
   "source": [
    "import numpy as np"
   ]
  },
  {
   "cell_type": "code",
   "execution_count": 13,
   "outputs": [],
   "source": [
    "with open('../inputs/input7.txt', 'r') as f:\n",
    "    inputs = f.readlines()\n",
    "positions = list(map(int, inputs[0].split(',')))"
   ],
   "metadata": {
    "collapsed": false,
    "pycharm": {
     "name": "#%%\n"
    }
   }
  },
  {
   "cell_type": "code",
   "execution_count": 14,
   "outputs": [
    {
     "data": {
      "text/plain": "339321"
     },
     "execution_count": 14,
     "metadata": {},
     "output_type": "execute_result"
    }
   ],
   "source": [
    "# part 1\n",
    "median = int(np.median(positions))\n",
    "np.sum([abs(median - val) for val in positions])"
   ],
   "metadata": {
    "collapsed": false,
    "pycharm": {
     "name": "#%%\n"
    }
   }
  },
  {
   "cell_type": "code",
   "execution_count": 10,
   "outputs": [],
   "source": [
    "def energy(goal, pos):\n",
    "    diff = abs(goal - pos)\n",
    "    return diff * (diff + 1) / 2\n",
    "\n",
    "def total_energy(goal, positions):\n",
    "    return sum(energy(goal, pos) for pos in positions)\n",
    "\n",
    "def min_step(val, positions, func):\n",
    "    base_line = func(val, positions)\n",
    "    if func(val - 1, positions) < base_line:\n",
    "        return min_step(val - 1, positions, func)\n",
    "    if func(val + 1, positions) < base_line:\n",
    "        return min_step(val + 1, positions, func)\n",
    "    return val, base_line"
   ],
   "metadata": {
    "collapsed": false,
    "pycharm": {
     "name": "#%%\n"
    }
   }
  },
  {
   "cell_type": "code",
   "execution_count": 15,
   "outputs": [
    {
     "data": {
      "text/plain": "95476244.0"
     },
     "execution_count": 15,
     "metadata": {},
     "output_type": "execute_result"
    }
   ],
   "source": [
    "# part two with gradient descent\n",
    "pos, fuel = min_step(int(np.mean(positions)), tuple(positions), total_energy)\n",
    "fuel"
   ],
   "metadata": {
    "collapsed": false,
    "pycharm": {
     "name": "#%%\n"
    }
   }
  }
 ],
 "metadata": {
  "kernelspec": {
   "display_name": "Python 3",
   "language": "python",
   "name": "python3"
  },
  "language_info": {
   "codemirror_mode": {
    "name": "ipython",
    "version": 2
   },
   "file_extension": ".py",
   "mimetype": "text/x-python",
   "name": "python",
   "nbconvert_exporter": "python",
   "pygments_lexer": "ipython2",
   "version": "2.7.6"
  }
 },
 "nbformat": 4,
 "nbformat_minor": 0
}