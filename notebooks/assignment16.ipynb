{
 "cells": [
  {
   "cell_type": "code",
   "execution_count": 27,
   "outputs": [],
   "source": [
    "from more_itertools import chunked\n",
    "from math import prod"
   ],
   "metadata": {
    "collapsed": false,
    "pycharm": {
     "name": "#%%\n"
    }
   }
  },
  {
   "cell_type": "code",
   "execution_count": 28,
   "metadata": {
    "collapsed": true
   },
   "outputs": [],
   "source": [
    "with open('../inputs/input16.txt', 'r') as f:\n",
    "    strings = f.readlines()"
   ]
  },
  {
   "cell_type": "code",
   "execution_count": 29,
   "outputs": [],
   "source": [
    "binary = [f'{int(string, 16):0>{(len(string) - 1) * 4}b}' for string in strings][0]"
   ],
   "metadata": {
    "collapsed": false,
    "pycharm": {
     "name": "#%%\n"
    }
   }
  },
  {
   "cell_type": "code",
   "execution_count": 30,
   "outputs": [],
   "source": [
    "def unpack_binary1(string):\n",
    "    version = int(string[0:3], 2)\n",
    "    t = int(string[3:6], 2)\n",
    "    if t == 4:\n",
    "        literal_string = ''\n",
    "        total_length = 6\n",
    "        for chunk in chunked(string[6:], n=5):\n",
    "            literal_string += ''.join(chunk[1:])\n",
    "            total_length += 5\n",
    "            if chunk[0] == '0':\n",
    "                break\n",
    "        return version, string[total_length:]\n",
    "    else:\n",
    "        # operator\n",
    "        if string[6] == '0':\n",
    "            length = int(string[7: 22], 2)\n",
    "            versions = []\n",
    "            left_over_string = string[22: 22+length]\n",
    "            while left_over_string != '':\n",
    "                subversion, left_over_string = unpack_binary1(left_over_string)\n",
    "                versions.append(subversion)\n",
    "            left_over_string = string[22+length:]\n",
    "        else:\n",
    "            count = int(string[7: 18], 2)\n",
    "            left_over_string = string[18:]\n",
    "            versions = []\n",
    "            for i in range(count):\n",
    "                subversion, left_over_string = unpack_binary1(left_over_string)\n",
    "                versions.append(subversion)\n",
    "        return version + sum(versions), left_over_string"
   ],
   "metadata": {
    "collapsed": false,
    "pycharm": {
     "name": "#%%\n"
    }
   }
  },
  {
   "cell_type": "code",
   "execution_count": 31,
   "outputs": [
    {
     "data": {
      "text/plain": "891"
     },
     "execution_count": 31,
     "metadata": {},
     "output_type": "execute_result"
    }
   ],
   "source": [
    "unpack_binary1(binary)[0]"
   ],
   "metadata": {
    "collapsed": false,
    "pycharm": {
     "name": "#%%\n"
    }
   }
  },
  {
   "cell_type": "code",
   "execution_count": 32,
   "outputs": [],
   "source": [
    "funcs = [sum, prod, min, max, None,  lambda x: x[0] > x[1], lambda x: x[0] < x[1], lambda x: x[0] == x[1]]\n",
    "def unpack_binary2(string):\n",
    "    version = int(string[0:3], 2)\n",
    "    t = int(string[3:6], 2)\n",
    "    if t == 4:\n",
    "        literal_string = ''\n",
    "        total_length = 6\n",
    "        for chunk in chunked(string[6:], n=5):\n",
    "            literal_string += ''.join(chunk[1:])\n",
    "            total_length += 5\n",
    "            if chunk[0] == '0':\n",
    "                break\n",
    "        return int(literal_string, 2), string[total_length:]\n",
    "    else:\n",
    "        # operator\n",
    "        if string[6] == '0':\n",
    "            length = int(string[7: 22], 2)\n",
    "            vals = []\n",
    "            left_over_string = string[22: 22+length]\n",
    "            while left_over_string != '':\n",
    "                val, left_over_string = unpack_binary2(left_over_string)\n",
    "                vals.append(val)\n",
    "            left_over_string = string[22+length:]\n",
    "        else:\n",
    "            count = int(string[7: 18], 2)\n",
    "            left_over_string = string[18:]\n",
    "            vals = []\n",
    "            for i in range(count):\n",
    "                val, left_over_string = unpack_binary2(left_over_string)\n",
    "                vals.append(val)\n",
    "        return funcs[t](vals), left_over_string"
   ],
   "metadata": {
    "collapsed": false,
    "pycharm": {
     "name": "#%%\n"
    }
   }
  },
  {
   "cell_type": "code",
   "execution_count": 33,
   "outputs": [
    {
     "data": {
      "text/plain": "673042777597"
     },
     "execution_count": 33,
     "metadata": {},
     "output_type": "execute_result"
    }
   ],
   "source": [
    "unpack_binary2(binary)[0]"
   ],
   "metadata": {
    "collapsed": false,
    "pycharm": {
     "name": "#%%\n"
    }
   }
  },
  {
   "cell_type": "code",
   "execution_count": null,
   "outputs": [],
   "source": [],
   "metadata": {
    "collapsed": false,
    "pycharm": {
     "name": "#%%\n"
    }
   }
  }
 ],
 "metadata": {
  "kernelspec": {
   "display_name": "Python 3",
   "language": "python",
   "name": "python3"
  },
  "language_info": {
   "codemirror_mode": {
    "name": "ipython",
    "version": 2
   },
   "file_extension": ".py",
   "mimetype": "text/x-python",
   "name": "python",
   "nbconvert_exporter": "python",
   "pygments_lexer": "ipython2",
   "version": "2.7.6"
  }
 },
 "nbformat": 4,
 "nbformat_minor": 0
}