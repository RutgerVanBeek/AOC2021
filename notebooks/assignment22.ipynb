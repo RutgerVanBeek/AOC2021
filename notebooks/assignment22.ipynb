{
 "cells": [
  {
   "cell_type": "code",
   "execution_count": 1,
   "metadata": {
    "collapsed": true
   },
   "outputs": [],
   "source": [
    "import numpy as np\n",
    "from math import prod\n",
    "from more_itertools import windowed\n",
    "from tqdm import tqdm"
   ]
  },
  {
   "cell_type": "code",
   "execution_count": 2,
   "outputs": [],
   "source": [
    "with open('../inputs/input22.txt', 'r') as f:\n",
    "    strings = f.readlines()"
   ],
   "metadata": {
    "collapsed": false,
    "pycharm": {
     "name": "#%%\n"
    }
   }
  },
  {
   "cell_type": "code",
   "execution_count": 3,
   "outputs": [],
   "source": [
    "instructions = []\n",
    "for line in strings:\n",
    "    val, coord = line.strip().split(' ')\n",
    "    val = val == 'on'\n",
    "    coords = [tuple([float(coordx.split('=')[-1].split('..')[0]) - 0.5, float(coordx.split('=')[-1].split('..')[1]) + 0.5]) for coordx in coord.split(',')]\n",
    "    instructions.append((val, coords))"
   ],
   "metadata": {
    "collapsed": false,
    "pycharm": {
     "name": "#%%\n"
    }
   }
  },
  {
   "cell_type": "code",
   "execution_count": 4,
   "outputs": [],
   "source": [
    "lines = [sorted(list(set([coord for val, coords in instructions for coord in coords[i]]))) for i in range(3)]\n",
    "insides = [[[(index, coords[i][0] <= (x_min+x_max)/2 <= coords[i][1]) for index, (x_min, x_max) in enumerate(windowed(lines[i], n=2))] for i in range(3)] for val, coords in instructions]\n",
    "ranges = [[(min(list(filter(lambda x: x[1], inside[i])), key=lambda x: x[0])[0], max(list(filter(lambda x: x[1], inside[i])), key=lambda x: x[0])[0]) for i in range(3)] for inside in insides]\n"
   ],
   "metadata": {
    "collapsed": false,
    "pycharm": {
     "name": "#%%\n"
    }
   }
  },
  {
   "cell_type": "code",
   "execution_count": 5,
   "outputs": [
    {
     "name": "stderr",
     "output_type": "stream",
     "text": [
      "420it [00:01, 311.98it/s]\n"
     ]
    }
   ],
   "source": [
    "shape = tuple([len(insides[0][i]) for i in range(3)])\n",
    "grid = np.zeros(shape=shape)\n",
    "for i, (val, coords) in tqdm(enumerate(instructions)):\n",
    "    grid[ranges[i][0][0]:ranges[i][0][1]+1, ranges[i][1][0]:ranges[i][1][1]+1, ranges[i][2][0]:ranges[i][2][1]+1] = val"
   ],
   "metadata": {
    "collapsed": false,
    "pycharm": {
     "name": "#%%\n"
    }
   }
  },
  {
   "cell_type": "code",
   "execution_count": 6,
   "outputs": [
    {
     "name": "stderr",
     "output_type": "stream",
     "text": [
      "100%|██████████| 138730524/138730524 [02:33<00:00, 906329.45it/s]\n"
     ]
    },
    {
     "data": {
      "text/plain": "1334275219162622.0"
     },
     "execution_count": 6,
     "metadata": {},
     "output_type": "execute_result"
    }
   ],
   "source": [
    "count = 0\n",
    "argwhere = np.argwhere(grid > 0)\n",
    "sizes = [[x_max - x_min for x_min, x_max in windowed(lines[i], n=2)] for i in range(3)]\n",
    "for inds in tqdm(argwhere):\n",
    "    count += prod(sizes[i][inds[i]] for i in range(3))\n",
    "count"
   ],
   "metadata": {
    "collapsed": false,
    "pycharm": {
     "name": "#%%\n"
    }
   }
  },
  {
   "cell_type": "code",
   "execution_count": null,
   "outputs": [],
   "source": [],
   "metadata": {
    "collapsed": false,
    "pycharm": {
     "name": "#%%\n"
    }
   }
  }
 ],
 "metadata": {
  "kernelspec": {
   "display_name": "Python 3",
   "language": "python",
   "name": "python3"
  },
  "language_info": {
   "codemirror_mode": {
    "name": "ipython",
    "version": 2
   },
   "file_extension": ".py",
   "mimetype": "text/x-python",
   "name": "python",
   "nbconvert_exporter": "python",
   "pygments_lexer": "ipython2",
   "version": "2.7.6"
  }
 },
 "nbformat": 4,
 "nbformat_minor": 0
}