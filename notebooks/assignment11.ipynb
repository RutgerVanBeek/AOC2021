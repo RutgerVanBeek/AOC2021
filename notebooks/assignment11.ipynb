{
 "cells": [
  {
   "cell_type": "code",
   "execution_count": 1,
   "metadata": {
    "collapsed": true
   },
   "outputs": [],
   "source": [
    "import numpy as np\n",
    "import matplotlib.pyplot as plt"
   ]
  },
  {
   "cell_type": "code",
   "execution_count": 2,
   "outputs": [
    {
     "data": {
      "text/plain": "<matplotlib.image.AxesImage at 0x7fbcd85ecbb0>"
     },
     "execution_count": 2,
     "metadata": {},
     "output_type": "execute_result"
    },
    {
     "data": {
      "text/plain": "<Figure size 432x288 with 1 Axes>",
      "image/png": "[encoded data removed]"
     },
     "metadata": {
      "needs_background": "light"
     },
     "output_type": "display_data"
    }
   ],
   "source": [
    "with open('../inputs/input11.txt', 'r') as f:\n",
    "    strings = f.readlines()\n",
    "\n",
    "start_grid = np.array([[int(val) for val in string.strip()] for string in strings])\n",
    "plt.imshow(start_grid)"
   ],
   "metadata": {
    "collapsed": false,
    "pycharm": {
     "name": "#%%\n"
    }
   }
  },
  {
   "cell_type": "code",
   "execution_count": 3,
   "outputs": [],
   "source": [
    "def progress_one(grid):\n",
    "    grid += 1\n",
    "    flashed = set()\n",
    "    should_flash = [tuple(*pos) for pos in zip(np.argwhere(grid > 9))]\n",
    "    count = 0\n",
    "    while len(should_flash) > 0:\n",
    "        count += 1\n",
    "        for i, j in should_flash:\n",
    "            flash_pos_i_min, flash_pos_i_max = max(i-1, 0), min(i+2, 10)\n",
    "            flash_pos_j_min, flash_pos_j_max = max(j-1, 0), min(j+2, 10)\n",
    "            grid[flash_pos_i_min:flash_pos_i_max, flash_pos_j_min:flash_pos_j_max] += 1\n",
    "\n",
    "        flashed.update(should_flash)\n",
    "        should_flash = [tuple(*pos) for pos in zip(np.argwhere(grid > 9)) if tuple(*pos) not in flashed]\n",
    "    if len(flashed) > 0:\n",
    "        grid[tuple(zip(*flashed))] = 0\n",
    "    return grid, len(flashed)\n"
   ],
   "metadata": {
    "collapsed": false,
    "pycharm": {
     "name": "#%%\n"
    }
   }
  },
  {
   "cell_type": "code",
   "execution_count": 5,
   "outputs": [
    {
     "data": {
      "text/plain": "1705"
     },
     "execution_count": 5,
     "metadata": {},
     "output_type": "execute_result"
    }
   ],
   "source": [
    "grid = start_grid.copy()\n",
    "count_flashes = 0\n",
    "for i in range(100):\n",
    "    grid, n_flash = progress_one(grid)\n",
    "    count_flashes += n_flash\n",
    "count_flashes"
   ],
   "metadata": {
    "collapsed": false,
    "pycharm": {
     "name": "#%%\n"
    }
   }
  },
  {
   "cell_type": "code",
   "execution_count": 6,
   "outputs": [
    {
     "name": "stdout",
     "output_type": "stream",
     "text": [
      "265\n"
     ]
    }
   ],
   "source": [
    "# part 2\n",
    "\n",
    "from itertools import count\n",
    "grid = start_grid.copy()\n",
    "count_flashes = 0\n",
    "for i in count():\n",
    "    grid, n_flash = progress_one(grid)\n",
    "    count_flashes += n_flash\n",
    "    if n_flash == 100:\n",
    "        print(i + 1)\n",
    "        break"
   ],
   "metadata": {
    "collapsed": false,
    "pycharm": {
     "name": "#%%\n"
    }
   }
  }
 ],
 "metadata": {
  "kernelspec": {
   "display_name": "Python 3",
   "language": "python",
   "name": "python3"
  },
  "language_info": {
   "codemirror_mode": {
    "name": "ipython",
    "version": 2
   },
   "file_extension": ".py",
   "mimetype": "text/x-python",
   "name": "python",
   "nbconvert_exporter": "python",
   "pygments_lexer": "ipython2",
   "version": "2.7.6"
  }
 },
 "nbformat": 4,
 "nbformat_minor": 0
}