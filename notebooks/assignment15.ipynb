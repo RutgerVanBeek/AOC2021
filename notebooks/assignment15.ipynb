{
 "cells": [
  {
   "cell_type": "code",
   "execution_count": 24,
   "metadata": {
    "collapsed": true
   },
   "outputs": [],
   "source": [
    "import numpy as np"
   ]
  },
  {
   "cell_type": "code",
   "execution_count": 25,
   "outputs": [],
   "source": [
    "with open('../inputs/input15.txt', 'r') as f:\n",
    "    strings = f.readlines()\n",
    "\n",
    "grid = np.array([list(map(int, string.strip())) for string in strings])"
   ],
   "metadata": {
    "collapsed": false,
    "pycharm": {
     "name": "#%%\n"
    }
   }
  },
  {
   "cell_type": "code",
   "execution_count": 26,
   "outputs": [],
   "source": [
    "def find_shortest_path(grid):\n",
    "    max_i, max_j = grid.shape\n",
    "    current_map = np.full_like(grid, 10000)\n",
    "    current_map[0, 0] = 0\n",
    "    duplicate_current_map = current_map.copy()\n",
    "    count = 0\n",
    "    while True:\n",
    "        i, j = np.unravel_index(duplicate_current_map.argmin(), duplicate_current_map.shape)\n",
    "        current_val = current_map[i, j]\n",
    "        if duplicate_current_map[i, j] > 10000:\n",
    "            break\n",
    "        if i > 0:\n",
    "            if duplicate_current_map[i-1, j] < 10001:\n",
    "                current_map[i-1, j] = min(current_map[i-1, j], current_val + new_grid[i-1, j])\n",
    "                duplicate_current_map[i-1, j] = current_map[i-1, j]\n",
    "        if i < max_i - 1:\n",
    "            if duplicate_current_map[i+1, j] < 10001:\n",
    "                current_map[i+1, j] = min(current_map[i+1, j], current_val + new_grid[i+1, j])\n",
    "                duplicate_current_map[i+1, j] = current_map[i+1, j]\n",
    "        if j > 0:\n",
    "            if duplicate_current_map[i, j - 1] < 10001:\n",
    "                current_map[i, j - 1] = min(current_map[i, j - 1], current_val + new_grid[i, j - 1])\n",
    "                duplicate_current_map[i, j-1] = current_map[i, j-1]\n",
    "        if j < max_j - 1:\n",
    "            if duplicate_current_map[i, j + 1] < 10001:\n",
    "                current_map[i, j + 1] = min(current_map[i, j + 1], current_val + new_grid[i, j + 1])\n",
    "                duplicate_current_map[i, j+1] = current_map[i, j+1]\n",
    "        # unvisited_notes.discard((i, j))\n",
    "        duplicate_current_map[i, j] = 10001\n",
    "        count += 1\n",
    "        if count % 10000 == 0:\n",
    "            print(np.sum(duplicate_current_map < 10001))\n",
    "    return current_map"
   ],
   "metadata": {
    "collapsed": false,
    "pycharm": {
     "name": "#%%\n"
    }
   }
  },
  {
   "cell_type": "code",
   "execution_count": 27,
   "outputs": [
    {
     "name": "stdout",
     "output_type": "stream",
     "text": [
      "0\n"
     ]
    },
    {
     "data": {
      "text/plain": "696"
     },
     "execution_count": 27,
     "metadata": {},
     "output_type": "execute_result"
    }
   ],
   "source": [
    "distance_map = find_shortest_path(grid)\n",
    "distance_map[-1, -1]"
   ],
   "metadata": {
    "collapsed": false,
    "pycharm": {
     "name": "#%%\n"
    }
   }
  },
  {
   "cell_type": "code",
   "execution_count": 28,
   "outputs": [],
   "source": [
    "def five_times_grid(grid):\n",
    "    hor_grid = np.concatenate([grid + i for i in range(5)], axis=0)\n",
    "    new_grid = np.concatenate([hor_grid + i for i in range(5)], axis=1)\n",
    "    return np.mod(new_grid - 1, 9) + 1"
   ],
   "metadata": {
    "collapsed": false,
    "pycharm": {
     "name": "#%%\n"
    }
   }
  },
  {
   "cell_type": "code",
   "execution_count": 29,
   "outputs": [
    {
     "name": "stdout",
     "output_type": "stream",
     "text": [
      "240000\n",
      "230000\n",
      "220000\n",
      "210000\n",
      "200000\n",
      "190000\n",
      "180000\n",
      "170000\n",
      "160000\n",
      "150000\n",
      "140000\n",
      "130000\n",
      "120000\n",
      "110000\n",
      "100000\n",
      "90000\n",
      "80000\n",
      "70000\n",
      "60000\n",
      "50000\n",
      "40000\n",
      "30000\n",
      "20000\n",
      "10000\n",
      "0\n"
     ]
    },
    {
     "data": {
      "text/plain": "2952"
     },
     "execution_count": 29,
     "metadata": {},
     "output_type": "execute_result"
    }
   ],
   "source": [
    "distance_map = find_shortest_path(five_times_grid(grid))\n",
    "distance_map[-1, -1]"
   ],
   "metadata": {
    "collapsed": false,
    "pycharm": {
     "name": "#%%\n"
    }
   }
  },
  {
   "cell_type": "code",
   "execution_count": null,
   "outputs": [],
   "source": [],
   "metadata": {
    "collapsed": false,
    "pycharm": {
     "name": "#%%\n"
    }
   }
  }
 ],
 "metadata": {
  "kernelspec": {
   "display_name": "Python 3",
   "language": "python",
   "name": "python3"
  },
  "language_info": {
   "codemirror_mode": {
    "name": "ipython",
    "version": 2
   },
   "file_extension": ".py",
   "mimetype": "text/x-python",
   "name": "python",
   "nbconvert_exporter": "python",
   "pygments_lexer": "ipython2",
   "version": "2.7.6"
  }
 },
 "nbformat": 4,
 "nbformat_minor": 0
}