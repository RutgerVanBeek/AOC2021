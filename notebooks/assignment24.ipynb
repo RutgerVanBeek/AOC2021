{
 "cells": [
  {
   "cell_type": "code",
   "execution_count": 1,
   "outputs": [],
   "source": [
    "from itertools import product"
   ],
   "metadata": {
    "collapsed": false,
    "pycharm": {
     "name": "#%%\n"
    }
   }
  },
  {
   "cell_type": "code",
   "execution_count": 2,
   "metadata": {
    "collapsed": true
   },
   "outputs": [],
   "source": [
    "with open('../inputs/input24.txt', 'r') as f:\n",
    "    instructions = list(map(tuple, map(str.split, map(str.strip, f.readlines()))))"
   ]
  },
  {
   "cell_type": "code",
   "execution_count": 4,
   "outputs": [
    {
     "name": "stdout",
     "output_type": "stream",
     "text": [
      "39924989499969\n",
      "16811412161117\n"
     ]
    }
   ],
   "source": [
    "x_adds = [12,12, 12, -9, -9, 14, 14, -10, 15, -2, 11, -15, -9, -3]\n",
    "y_adds = [9, 4, 2, 5, 1, 6, 11, 15, 7, 12, 15, 9, 12, 12]\n",
    "\n",
    "def forward(x_add, y_add, z, w):\n",
    "    \"this is what a single block does\"\n",
    "    z_div = 1 + 25 * (x_add < 0)\n",
    "    print(x_add, z_div)\n",
    "    z_new = z // z_div\n",
    "    if w == z % 26 + x_add:\n",
    "        return z_new\n",
    "    else:\n",
    "        return 26 * z_new + w + y_add\n",
    "\n",
    "def forward_all(inputs,x_adds=x_adds,y_adds=y_adds,z=0):\n",
    "    \"the whole program\"\n",
    "    for x_add,y_add,w in zip(x_adds,y_adds,inputs):\n",
    "        z = forward(x_add,y_add, z,w)\n",
    "    return z\n",
    "\n",
    "\n",
    "def backward(x_add, y_add, z2, w):\n",
    "    \"\"\"The possible values of z before a single block\n",
    "    if the final value of z is z2 and w is w\"\"\"\n",
    "    zs = []\n",
    "    x = z2 - w - y_add\n",
    "    z_div = 1 + 25 * (x_add < 0)\n",
    "    if x % 26 == 0:\n",
    "        zs.append(x//26 * z_div)\n",
    "    if 0 <= w-x_add < 26:\n",
    "        z0 = z2 * z_div\n",
    "        zs.append(w-x_add+z0)\n",
    "    return zs\n",
    "\n",
    "def solve(part,x_adds=x_adds,y_adds=y_adds):\n",
    "    zs = {0}\n",
    "    result = {}\n",
    "    if part == 1:\n",
    "        inputs = range(1,10)\n",
    "    else:\n",
    "        inputs = range(9,0,-1)\n",
    "    for x_add,y_add in zip(x_adds[::-1],y_adds[::-1]):\n",
    "        #print(len(zs))\n",
    "        new_zs = set()\n",
    "        for w,z in product(inputs,zs):\n",
    "            z0s = backward(x_add,y_add,z,w)\n",
    "            for z0 in z0s:\n",
    "                new_zs.add(z0)\n",
    "                result[z0] = (w,) + result.get(z, ())\n",
    "        zs = new_zs\n",
    "    return ''.join(str(digit) for digit in result[0])\n",
    "\n",
    "print(solve(1))\n",
    "print(solve(2))"
   ],
   "metadata": {
    "collapsed": false,
    "pycharm": {
     "name": "#%%\n"
    }
   }
  },
  {
   "cell_type": "code",
   "execution_count": null,
   "outputs": [],
   "source": [],
   "metadata": {
    "collapsed": false,
    "pycharm": {
     "name": "#%%\n"
    }
   }
  }
 ],
 "metadata": {
  "kernelspec": {
   "display_name": "Python 3",
   "language": "python",
   "name": "python3"
  },
  "language_info": {
   "codemirror_mode": {
    "name": "ipython",
    "version": 2
   },
   "file_extension": ".py",
   "mimetype": "text/x-python",
   "name": "python",
   "nbconvert_exporter": "python",
   "pygments_lexer": "ipython2",
   "version": "2.7.6"
  }
 },
 "nbformat": 4,
 "nbformat_minor": 0
}