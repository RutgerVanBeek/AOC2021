{
 "cells": [
  {
   "cell_type": "code",
   "execution_count": 1,
   "outputs": [],
   "source": [
    "from collections import Counter, defaultdict\n",
    "from more_itertools import windowed"
   ],
   "metadata": {
    "collapsed": false,
    "pycharm": {
     "name": "#%%\n"
    }
   }
  },
  {
   "cell_type": "code",
   "execution_count": 2,
   "metadata": {
    "collapsed": true
   },
   "outputs": [],
   "source": [
    "with open('../inputs/input14.txt', 'r') as f:\n",
    "    strings = f.readlines()"
   ]
  },
  {
   "cell_type": "code",
   "execution_count": 3,
   "outputs": [],
   "source": [
    "start_string = strings[0].strip()\n",
    "insertion_rules = defaultdict(str)\n",
    "insertion_rules.update({string.split(' -> ')[0]: string.split(' -> ')[1].strip() for string in strings if '->' in string})"
   ],
   "metadata": {
    "collapsed": false,
    "pycharm": {
     "name": "#%%\n"
    }
   }
  },
  {
   "cell_type": "code",
   "execution_count": 4,
   "outputs": [],
   "source": [
    "def update_pair_count(pair_count):\n",
    "    out = defaultdict(int)\n",
    "    new_chars = Counter()\n",
    "    for pair, count in pair_count.items():\n",
    "        new_char = insertion_rules[pair]\n",
    "        new_chars[new_char] += count\n",
    "        pair1 = pair[0] + new_char\n",
    "        pair2 = new_char + pair[1]\n",
    "        out[pair1] += count\n",
    "        out[pair2] += count\n",
    "    return out, new_chars"
   ],
   "metadata": {
    "collapsed": false,
    "pycharm": {
     "name": "#%%\n"
    }
   }
  },
  {
   "cell_type": "code",
   "execution_count": 8,
   "outputs": [
    {
     "data": {
      "text/plain": "3342"
     },
     "execution_count": 8,
     "metadata": {},
     "output_type": "execute_result"
    }
   ],
   "source": [
    "pair_count = defaultdict(int)\n",
    "total_chars = Counter(start_string)\n",
    "for char1, char2 in windowed(start_string, n=2, step=1):\n",
    "    pair_count[char1+char2] += 1\n",
    "for i in range(10):\n",
    "    pair_count, new_chars = update_pair_count(pair_count)\n",
    "    total_chars += new_chars\n",
    "result = (max(total_chars.values()) - min(total_chars.values()))\n",
    "result"
   ],
   "metadata": {
    "collapsed": false,
    "pycharm": {
     "name": "#%%\n"
    }
   }
  },
  {
   "cell_type": "code",
   "execution_count": 9,
   "outputs": [
    {
     "data": {
      "text/plain": "3776553567525"
     },
     "execution_count": 9,
     "metadata": {},
     "output_type": "execute_result"
    }
   ],
   "source": [
    "pair_count = defaultdict(int)\n",
    "total_chars = Counter(start_string)\n",
    "for char1, char2 in windowed(start_string, n=2, step=1):\n",
    "    pair_count[char1+char2] += 1\n",
    "for i in range(40):\n",
    "    pair_count, new_chars = update_pair_count(pair_count)\n",
    "    total_chars += new_chars\n",
    "result = (max(total_chars.values()) - min(total_chars.values()))\n",
    "result"
   ],
   "metadata": {
    "collapsed": false,
    "pycharm": {
     "name": "#%%\n"
    }
   }
  },
  {
   "cell_type": "code",
   "execution_count": null,
   "outputs": [],
   "source": [],
   "metadata": {
    "collapsed": false,
    "pycharm": {
     "name": "#%%\n"
    }
   }
  }
 ],
 "metadata": {
  "kernelspec": {
   "display_name": "Python 3",
   "language": "python",
   "name": "python3"
  },
  "language_info": {
   "codemirror_mode": {
    "name": "ipython",
    "version": 2
   },
   "file_extension": ".py",
   "mimetype": "text/x-python",
   "name": "python",
   "nbconvert_exporter": "python",
   "pygments_lexer": "ipython2",
   "version": "2.7.6"
  }
 },
 "nbformat": 4,
 "nbformat_minor": 0
}