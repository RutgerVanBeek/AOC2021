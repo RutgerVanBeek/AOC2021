{
 "cells": [
  {
   "cell_type": "code",
   "execution_count": 11,
   "outputs": [],
   "source": [
    "from collections import Counter"
   ],
   "metadata": {
    "collapsed": false,
    "pycharm": {
     "name": "#%%\n"
    }
   }
  },
  {
   "cell_type": "code",
   "execution_count": 8,
   "metadata": {
    "collapsed": true
   },
   "outputs": [],
   "source": [
    "with open('../inputs/input8.txt', 'r') as f:\n",
    "    strings = f.readlines()"
   ]
  },
  {
   "cell_type": "code",
   "execution_count": 12,
   "outputs": [
    {
     "data": {
      "text/plain": "301"
     },
     "execution_count": 12,
     "metadata": {},
     "output_type": "execute_result"
    }
   ],
   "source": [
    "# part 1\n",
    "code_lists = [[len(code) for code in line.split('|')[-1].strip().split(' ')] for line in strings]\n",
    "codes_lens = [l for line in code_lists for l in line]\n",
    "c = Counter(codes_lens)\n",
    "c[2] + c[3] + c[4] + c[7]"
   ],
   "metadata": {
    "collapsed": false,
    "pycharm": {
     "name": "#%%\n"
    }
   }
  },
  {
   "cell_type": "code",
   "execution_count": 13,
   "outputs": [],
   "source": [
    "def sort_string(s):\n",
    "    return ''.join(sorted(s))\n",
    "\n",
    "def decode_list(ls):\n",
    "    out = {}\n",
    "    val1 = ''\n",
    "    val4 = ''\n",
    "    len5s = []\n",
    "    len6s = []\n",
    "    for val in ls:\n",
    "        if len(val) == 2:\n",
    "            out[val] = 1\n",
    "            val1 = val\n",
    "        elif len(val) == 3:\n",
    "            out[val] = 7\n",
    "        elif len(val) == 4:\n",
    "            out[val] = 4\n",
    "            val4 = val\n",
    "        elif len(val) == 7:\n",
    "            out[val] = 8\n",
    "        elif len(val) == 5:\n",
    "            len5s.append(val)\n",
    "        elif len(val) == 6:\n",
    "            len6s.append(val)\n",
    "        else:\n",
    "            raise ValueError(f'no good len for {val}')\n",
    "    for val in len5s:\n",
    "        if len(set(val) & set(val1)) == 2:\n",
    "            out[val] = 3\n",
    "        elif len(set(val) & set(val4)) == 2:\n",
    "            out[val] = 2\n",
    "        elif len(set(val) & set(val4)) == 3:\n",
    "            out[val] = 5\n",
    "        else:\n",
    "            raise ValueError(f'{val} has length 5 but no case')\n",
    "    for val in len6s:\n",
    "        if len(set(val) & set(val1)) == 1:\n",
    "            out[val] = 6\n",
    "        elif len(set(val) & set(val4)) == 3:\n",
    "            out[val] = 0\n",
    "        elif len(set(val) & set(val4)) == 4:\n",
    "            out[val] = 9\n",
    "        else:\n",
    "            raise ValueError(f'{val} has length 6 but no case')\n",
    "    return {sort_string(key): val for key, val in out.items()}"
   ],
   "metadata": {
    "collapsed": false,
    "pycharm": {
     "name": "#%%\n"
    }
   }
  },
  {
   "cell_type": "code",
   "execution_count": 14,
   "outputs": [
    {
     "data": {
      "text/plain": "908067"
     },
     "execution_count": 14,
     "metadata": {},
     "output_type": "execute_result"
    }
   ],
   "source": [
    "# part 2\n",
    "encodings = [[code for code in line.split('|')[0].strip().split(' ')] for line in strings]\n",
    "codes = [[code for code in line.split('|')[1].strip().split(' ')] for line in strings]\n",
    "decodings = map(decode_list, encodings)\n",
    "values = [int(''.join([str(decoding[sort_string(c)]) for c in code])) for decoding, code in zip(decodings, codes)]\n",
    "sum(values)"
   ],
   "metadata": {
    "collapsed": false,
    "pycharm": {
     "name": "#%%\n"
    }
   }
  }
 ],
 "metadata": {
  "kernelspec": {
   "display_name": "Python 3",
   "language": "python",
   "name": "python3"
  },
  "language_info": {
   "codemirror_mode": {
    "name": "ipython",
    "version": 2
   },
   "file_extension": ".py",
   "mimetype": "text/x-python",
   "name": "python",
   "nbconvert_exporter": "python",
   "pygments_lexer": "ipython2",
   "version": "2.7.6"
  }
 },
 "nbformat": 4,
 "nbformat_minor": 0
}