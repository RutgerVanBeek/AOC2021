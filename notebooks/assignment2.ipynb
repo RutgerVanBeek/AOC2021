{
 "cells": [
  {
   "cell_type": "code",
   "execution_count": 3,
   "metadata": {
    "collapsed": true
   },
   "outputs": [],
   "source": [
    "with open('../inputs/input2.txt', 'r') as f:\n",
    "    strings = f.readlines()\n",
    "commands = [string.split() for string in strings]"
   ]
  },
  {
   "cell_type": "code",
   "execution_count": 4,
   "outputs": [
    {
     "data": {
      "text/plain": "1648020"
     },
     "execution_count": 4,
     "metadata": {},
     "output_type": "execute_result"
    }
   ],
   "source": [
    "# part 1\n",
    "hor = 0\n",
    "depth = 0\n",
    "for direction, amount in commands:\n",
    "    if direction == 'forward':\n",
    "        hor += int(amount)\n",
    "    elif direction == 'down':\n",
    "        depth += int(amount)\n",
    "    elif direction == 'up':\n",
    "        depth -= int(amount)\n",
    "    else:\n",
    "        raise ValueError(direction + amount)\n",
    "\n",
    "hor * depth"
   ],
   "metadata": {
    "collapsed": false,
    "pycharm": {
     "name": "#%%\n"
    }
   }
  },
  {
   "cell_type": "code",
   "execution_count": 6,
   "outputs": [
    {
     "data": {
      "text/plain": "1759818555"
     },
     "execution_count": 6,
     "metadata": {},
     "output_type": "execute_result"
    }
   ],
   "source": [
    "# part 2\n",
    "hor = 0\n",
    "depth = 0\n",
    "aim = 0\n",
    "for direction, amount in commands:\n",
    "    if direction == 'forward':\n",
    "        hor += int(amount)\n",
    "        depth += aim * int(amount)\n",
    "    elif direction == 'down':\n",
    "        aim += int(amount)\n",
    "    elif direction == 'up':\n",
    "        aim -= int(amount)\n",
    "    else:\n",
    "        raise ValueError(direction + amount)\n",
    "\n",
    "hor * depth"
   ],
   "metadata": {
    "collapsed": false,
    "pycharm": {
     "name": "#%%\n"
    }
   }
  }
 ],
 "metadata": {
  "kernelspec": {
   "display_name": "Python 3",
   "language": "python",
   "name": "python3"
  },
  "language_info": {
   "codemirror_mode": {
    "name": "ipython",
    "version": 2
   },
   "file_extension": ".py",
   "mimetype": "text/x-python",
   "name": "python",
   "nbconvert_exporter": "python",
   "pygments_lexer": "ipython2",
   "version": "2.7.6"
  }
 },
 "nbformat": 4,
 "nbformat_minor": 0
}