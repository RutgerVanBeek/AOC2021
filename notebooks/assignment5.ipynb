{
 "cells": [
  {
   "cell_type": "code",
   "execution_count": 7,
   "metadata": {
    "collapsed": true
   },
   "outputs": [],
   "source": [
    "import numpy as np\n",
    "import re\n",
    "import matplotlib.pyplot as plt"
   ]
  },
  {
   "cell_type": "code",
   "execution_count": 8,
   "outputs": [],
   "source": [
    "with open('../inputs/input5.txt', 'r') as f:\n",
    "    inputs = f.readlines()"
   ],
   "metadata": {
    "collapsed": false,
    "pycharm": {
     "name": "#%%\n"
    }
   }
  },
  {
   "cell_type": "code",
   "execution_count": 9,
   "outputs": [],
   "source": [
    "lines = [list(map(int, re.split('->|,', input))) for input in inputs]"
   ],
   "metadata": {
    "collapsed": false,
    "pycharm": {
     "name": "#%%\n"
    }
   }
  },
  {
   "cell_type": "code",
   "execution_count": 4,
   "outputs": [],
   "source": [
    "horizontal_lines = []\n",
    "vertical_lines = []\n",
    "for line in lines:\n",
    "    if line[0] == line[2]:\n",
    "        horizontal_lines.append(line)\n",
    "    elif line[1] == line[3]:\n",
    "        vertical_lines.append(line)\n",
    "    else:\n",
    "        pass"
   ],
   "metadata": {
    "collapsed": false,
    "pycharm": {
     "name": "#%%\n"
    }
   }
  },
  {
   "cell_type": "code",
   "execution_count": 11,
   "outputs": [
    {
     "data": {
      "text/plain": "7085"
     },
     "execution_count": 11,
     "metadata": {},
     "output_type": "execute_result"
    }
   ],
   "source": [
    "# part 1\n",
    "grid = np.zeros((1000, 1000))\n",
    "count = 0\n",
    "for line in horizontal_lines:\n",
    "    x = line[0]\n",
    "    y1 = min(line[1], line[3])\n",
    "    y2 = max(line[1], line[3]) + 1\n",
    "    grid[x, y1:y2] += 1\n",
    "\n",
    "for line in vertical_lines:\n",
    "    y = line[1]\n",
    "    x1 = min(line[0], line[2])\n",
    "    x2 = max(line[0], line[2]) + 1\n",
    "    grid[x1:x2, y] += 1\n",
    "len(np.argwhere(grid > 1))"
   ],
   "metadata": {
    "collapsed": false,
    "pycharm": {
     "name": "#%%\n"
    }
   }
  },
  {
   "cell_type": "code",
   "execution_count": 15,
   "outputs": [],
   "source": [
    "def line_to_coords(line):\n",
    "    length = max(abs(line[2] - line[0]), abs(line[3] - line[1])) + 1\n",
    "    x_mul = np.sign(line[2] - line[0])\n",
    "    y_mul = np.sign(line[3] - line[1])\n",
    "    ls = []\n",
    "    for i in range(length):\n",
    "        ls.append((line[0] + i * x_mul, line[1] + i * y_mul))\n",
    "    return ls"
   ],
   "metadata": {
    "collapsed": false,
    "pycharm": {
     "name": "#%%\n"
    }
   }
  },
  {
   "cell_type": "code",
   "execution_count": 19,
   "outputs": [
    {
     "data": {
      "text/plain": "20271"
     },
     "execution_count": 19,
     "metadata": {},
     "output_type": "execute_result"
    }
   ],
   "source": [
    "# part 2\n",
    "coords = map(line_to_coords, lines)\n",
    "grid = np.zeros((1000, 1000))\n",
    "for coord_ls in coords:\n",
    "    grid[tuple(zip(*coord_ls))] += 1\n",
    "len(np.argwhere(grid > 1))"
   ],
   "metadata": {
    "collapsed": false,
    "pycharm": {
     "name": "#%%\n"
    }
   }
  }
 ],
 "metadata": {
  "kernelspec": {
   "display_name": "Python 3",
   "language": "python",
   "name": "python3"
  },
  "language_info": {
   "codemirror_mode": {
    "name": "ipython",
    "version": 2
   },
   "file_extension": ".py",
   "mimetype": "text/x-python",
   "name": "python",
   "nbconvert_exporter": "python",
   "pygments_lexer": "ipython2",
   "version": "2.7.6"
  }
 },
 "nbformat": 4,
 "nbformat_minor": 0
}