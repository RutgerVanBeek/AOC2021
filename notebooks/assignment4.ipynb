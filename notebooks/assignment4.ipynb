{
 "cells": [
  {
   "cell_type": "code",
   "execution_count": 6,
   "metadata": {
    "collapsed": true
   },
   "outputs": [],
   "source": [
    "import numpy as np"
   ]
  },
  {
   "cell_type": "code",
   "execution_count": 7,
   "outputs": [],
   "source": [
    "with open('../inputs/input4.txt', 'r') as f:\n",
    "    inputs = f.readlines()"
   ],
   "metadata": {
    "collapsed": false,
    "pycharm": {
     "name": "#%%\n"
    }
   }
  },
  {
   "cell_type": "code",
   "execution_count": 8,
   "outputs": [],
   "source": [
    "drawn_numbers = [int(val) for val in inputs[0].strip().split(',')]\n",
    "boards = [[[int(val) for val in inputs[j].strip().split(' ') if val != ''] for j in range((i * 6) + 2, (i*6) + 7)] for i in range(100)]\n",
    "boards = [np.array(board) for board in boards]"
   ],
   "metadata": {
    "collapsed": false,
    "pycharm": {
     "name": "#%%\n"
    }
   }
  },
  {
   "cell_type": "code",
   "execution_count": 14,
   "outputs": [
    {
     "name": "stdout",
     "output_type": "stream",
     "text": [
      "6592\n"
     ]
    }
   ],
   "source": [
    "# part 1\n",
    "masks = [board == -1 for board in boards]\n",
    "flag = False\n",
    "for round, input in enumerate(drawn_numbers):\n",
    "    for i, (board, mask) in enumerate(zip(boards, masks)):\n",
    "        mask += (board == input)\n",
    "        if any(np.sum(mask, axis=0) == 5) or any(np.sum(mask, axis=1) == 5):\n",
    "            print(input * np.sum(board[~mask]))\n",
    "            flag = True\n",
    "            break\n",
    "    if flag:\n",
    "        break"
   ],
   "metadata": {
    "collapsed": false,
    "pycharm": {
     "name": "#%%\n"
    }
   }
  },
  {
   "cell_type": "code",
   "execution_count": 16,
   "outputs": [
    {
     "name": "stdout",
     "output_type": "stream",
     "text": [
      "31755\n"
     ]
    }
   ],
   "source": [
    "# part 2\n",
    "masks = [board == -1 for board in boards]\n",
    "flag = False\n",
    "round_finished = [-1 for board in boards]\n",
    "for round, input in enumerate(drawn_numbers):\n",
    "    for i, (board, mask) in enumerate(zip(boards, masks)):\n",
    "        if round_finished[i] == -1:\n",
    "            mask += (board == input)\n",
    "            if any(np.sum(mask, axis=0) == 5) or any(np.sum(mask, axis=1) == 5):\n",
    "                round_finished[i] = round\n",
    "\n",
    "\n",
    "last_finished_boad = max(enumerate(round_finished), key=lambda x: x[1])[0]\n",
    "print(np.sum(boards[last_finished_boad][~masks[last_finished_boad]]) * drawn_numbers[round_finished[last_finished_boad]])"
   ],
   "metadata": {
    "collapsed": false,
    "pycharm": {
     "name": "#%%\n"
    }
   }
  },
  {
   "cell_type": "code",
   "execution_count": null,
   "outputs": [],
   "source": [],
   "metadata": {
    "collapsed": false,
    "pycharm": {
     "name": "#%%\n"
    }
   }
  }
 ],
 "metadata": {
  "kernelspec": {
   "display_name": "Python 3",
   "language": "python",
   "name": "python3"
  },
  "language_info": {
   "codemirror_mode": {
    "name": "ipython",
    "version": 2
   },
   "file_extension": ".py",
   "mimetype": "text/x-python",
   "name": "python",
   "nbconvert_exporter": "python",
   "pygments_lexer": "ipython2",
   "version": "2.7.6"
  }
 },
 "nbformat": 4,
 "nbformat_minor": 0
}