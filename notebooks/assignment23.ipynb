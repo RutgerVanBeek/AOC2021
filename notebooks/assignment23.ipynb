{
 "cells": [
  {
   "cell_type": "code",
   "execution_count": 1,
   "metadata": {
    "collapsed": true
   },
   "outputs": [],
   "source": [
    "from math import pow\n",
    "\n",
    "\n",
    "class State:\n",
    "\n",
    "    # hard-coded values for energy costs in hall\n",
    "    hall_steps = {1: [2, 1, 1, 3, 5, 7, 8], 2: [4, 3, 1, 1, 3, 5, 6], 3: [6, 5, 3, 1, 1, 3, 4], 4: [8, 7, 5, 3, 1, 1, 2]}\n",
    "\n",
    "    def __init__(self, chambers, energy=0, stop_energy=1000000, depth=2):\n",
    "        self.chamber_depth = depth\n",
    "        self.chambers = chambers\n",
    "        self.energy = energy\n",
    "        self.stop_energy = stop_energy\n",
    "        self.position_block, self.chamber_block = self._check_blockes()\n",
    "        self.chamber_space_free = [False] * 4\n",
    "\n",
    "    def _check_blockes(self):\n",
    "        position_block = []\n",
    "        chamber_block = [True] * 4\n",
    "        for chamber_n, chamber in enumerate(self.chambers[1:], start = 1):\n",
    "            position_block.append([False] * self.chamber_depth)\n",
    "            for j, value in reversed(list(enumerate(chamber))):\n",
    "                if value == chamber_n:\n",
    "                    position_block[-1][j] = True\n",
    "                else:\n",
    "                    chamber_block[chamber_n -1] = False\n",
    "                    break\n",
    "        return position_block, chamber_block\n",
    "\n",
    "    def get_possible_moves(self):\n",
    "        total_moves = 0\n",
    "        total_returned = 0\n",
    "        for move in self._get_possible_moves():\n",
    "            total_moves += 1\n",
    "            energy = self._calc_energy(move)\n",
    "            if self.energy + energy < self.stop_energy:\n",
    "                yield move, energy\n",
    "                total_returned += 1\n",
    "\n",
    "    def _get_possible_moves(self):\n",
    "        # now moves from the hallway\n",
    "        for hall_position, val in enumerate(self.chambers[0]):\n",
    "            if val is not None:\n",
    "                # find if route from current to chamber is possible\n",
    "                if hall_position < val:\n",
    "                    if all(self.chambers[0][n] is None for n in range(hall_position + 1, val + 1)) and self.chamber_space_free[val - 1]:\n",
    "                        yield (0, hall_position), (val, self.chamber_space_free[val - 1] - 1)\n",
    "                else:\n",
    "                    if all(self.chambers[0][n] is None for n in range(val + 1, hall_position)) and self.chamber_space_free[val - 1]:\n",
    "                        yield (0, hall_position), (val, self.chamber_space_free[val - 1] - 1)\n",
    "        # now from chamber\n",
    "        for chamber_n, chamber in enumerate(self.chambers[1:], start=1):\n",
    "            if self.chamber_block[chamber_n - 1]:\n",
    "                continue\n",
    "            for room_index, val in enumerate(chamber):\n",
    "                if not self.position_block[chamber_n -1][room_index] and chamber[room_index] is not None:\n",
    "                    # try to get it in in one go, then don't even try other.\n",
    "                    if self.chamber_space_free[val - 1]:\n",
    "                        # check nothing in the hall\n",
    "                        if val < chamber_n:\n",
    "                            # to the left\n",
    "                            if all(self.chambers[0][n] is None for n in range(val + 1, chamber_n + 1)):\n",
    "                                yield (chamber_n, room_index), (val, self.chamber_space_free[val - 1] - 1)\n",
    "                        else:\n",
    "                            #to the right\n",
    "                            if all(self.chambers[0][n] is None for n in range(chamber_n + 1, val + 1)):\n",
    "                                yield (chamber_n, room_index), (val, self.chamber_space_free[val - 1] - 1)\n",
    "                    else:\n",
    "                        yield from self._try_move_left(chamber_n, room_index)\n",
    "                        yield from self._try_move_right(chamber_n, room_index)\n",
    "                    break\n",
    "\n",
    "    def is_solved(self):\n",
    "            if all(self.chamber_block):\n",
    "                return self.energy + 1\n",
    "            return False\n",
    "\n",
    "    def _try_move_left(self, chamber, start_pos):\n",
    "        start = chamber\n",
    "        while start >= 0:\n",
    "            if self.chambers[0][start] is None:\n",
    "                yield ((chamber, start_pos), (0, start))\n",
    "            else:\n",
    "                break\n",
    "            start -= 1\n",
    "\n",
    "    def _try_move_right(self, chamber, start_pos):\n",
    "        start = chamber + 1\n",
    "        while start <= 6:\n",
    "            if self.chambers[0][start] is None:\n",
    "                yield ((chamber, start_pos), (0, start))\n",
    "            else:\n",
    "                break\n",
    "            start += 1\n",
    "\n",
    "    def _calc_energy(self, move):\n",
    "        # always from chamber to hall, otherwise reverse\n",
    "        # two parts chamber into hall and part in hall\n",
    "        val = self.chambers[move[0][0]][move[0][1]]\n",
    "        if move[0][0] != 0 and move[1][0] != 0:\n",
    "            start_chamber, start_pos, end_chamber, end_pos = move[0][0], move[0][1], move[1][0], move[1][1]\n",
    "            inside_hall_steps = abs(end_chamber - start_chamber) * 2\n",
    "            into_hall_steps = start_pos + 1 + end_pos + 1\n",
    "        else:\n",
    "            if move[0][0] == 0:\n",
    "                # start in hall, thus switch\n",
    "                start_chamber, start_pos, hall_pos = move[1][0], move[1][1], move[0][1]\n",
    "            else:\n",
    "                start_chamber, start_pos, hall_pos = move[0][0], move[0][1], move[1][1]\n",
    "            into_hall_steps = start_pos + 1\n",
    "            inside_hall_steps = self.hall_steps[start_chamber][hall_pos]\n",
    "        return (inside_hall_steps + into_hall_steps) * pow(10, val - 1)\n",
    "\n",
    "    def make_move(self, move, energy):\n",
    "        self.chambers[move[1][0]][move[1][1]], self.chambers[move[0][0]][move[0][1]] = self.chambers[move[0][0]][move[0][1]], None\n",
    "        self.energy += energy\n",
    "        # update blocked position, chambers blocked and space free\n",
    "        if move[1][0] > 0:\n",
    "            self.position_block[move[1][0] - 1][move[1][1]] = True\n",
    "            if move[1][1] == 0:\n",
    "                self.chamber_block[move[1][0]-1] = True\n",
    "            self.chamber_space_free[move[1][0] - 1] = move[1][1]\n",
    "        if move[0][0] > 0:\n",
    "            # if you go out and the rest is blocked there is space free.\n",
    "            if all(self.position_block[move[0][0] - 1][move[0][1] + 1:]):\n",
    "                self.chamber_space_free[move[0][0] - 1] = self.chamber_depth - sum(self.position_block[move[0][0] - 1])\n",
    "\n",
    "\n",
    "    def undo_move(self, move, energy):\n",
    "        self.energy -= energy\n",
    "        self.chambers[move[0][0]][move[0][1]], self.chambers[move[1][0]][move[1][1]] = self.chambers[move[1][0]][move[1][1]], None\n",
    "        # update blocked position, chambers blocked and space free\n",
    "        if move[1][0] > 0:\n",
    "            self.position_block[move[1][0] - 1][move[1][1]] = False\n",
    "            self.chamber_block[move[1][0] - 1] = False\n",
    "            self.chamber_space_free[move[1][0] - 1] = move[1][1] + 1\n",
    "        if move[0][0] > 0:\n",
    "            # if you go out and the rest is blocked there is no space free.\n",
    "            if all(self.position_block[move[0][0] - 1][move[0][1] + 1:]):\n",
    "                self.chamber_space_free[move[0][0] - 1] = 0\n",
    "\n",
    "    def __str__(self):\n",
    "        return str(self.chambers)"
   ]
  },
  {
   "cell_type": "code",
   "execution_count": 2,
   "outputs": [
    {
     "name": "stdout",
     "output_type": "stream",
     "text": [
      "[False, False, False, False] [False, False, False, False] [[False, True], [False, False], [False, True], [False, False]]\n"
     ]
    }
   ],
   "source": [
    "test_chambers = [[None] * 7, [2, 1], [3, 4], [2, 3], [4, 1]]\n",
    "start_state = State(test_chambers)\n",
    "start_state.is_solved()\n",
    "print(start_state.chamber_space_free, start_state.chamber_block, start_state.position_block)"
   ],
   "metadata": {
    "collapsed": false,
    "pycharm": {
     "name": "#%%\n"
    }
   }
  },
  {
   "cell_type": "code",
   "execution_count": 3,
   "outputs": [],
   "source": [
    "def progress(state, moves, current_val=1000000):\n",
    "    start_state.stop_energy = current_val\n",
    "    for move, energy in start_state.get_possible_moves():\n",
    "        moves.append(move)\n",
    "        state.make_move(move, energy)\n",
    "        if state.is_solved():\n",
    "            val = state.is_solved() - 1\n",
    "        else:\n",
    "            val = progress(state, current_val=current_val, moves=moves)\n",
    "        if val < current_val:\n",
    "            current_val = val\n",
    "            state.stop_energy = val\n",
    "        state.undo_move(move, energy)\n",
    "        moves.pop()\n",
    "    return current_val"
   ],
   "metadata": {
    "collapsed": false,
    "pycharm": {
     "name": "#%%\n"
    }
   }
  },
  {
   "cell_type": "code",
   "execution_count": 4,
   "outputs": [
    {
     "data": {
      "text/plain": "15385.0"
     },
     "execution_count": 4,
     "metadata": {},
     "output_type": "execute_result"
    }
   ],
   "source": [
    "input_chambers = [[None] * 7, [1, 3], [4, 4], [1, 2], [3, 2]]\n",
    "start_state = State(input_chambers, depth=2)\n",
    "progress(start_state, moves=[])"
   ],
   "metadata": {
    "collapsed": false,
    "pycharm": {
     "name": "#%%\n"
    }
   }
  },
  {
   "cell_type": "code",
   "execution_count": 5,
   "outputs": [
    {
     "data": {
      "text/plain": "49803.0"
     },
     "execution_count": 5,
     "metadata": {},
     "output_type": "execute_result"
    }
   ],
   "source": [
    "input_chambers = [[None] * 7, [1,4, 4, 3], [4,3, 2, 4], [1,2, 1, 2], [3,1, 3, 2]]\n",
    "start_state = State(input_chambers, depth=4)\n",
    "progress(start_state, moves=[], current_val=52_000)"
   ],
   "metadata": {
    "collapsed": false,
    "pycharm": {
     "name": "#%%\n"
    }
   }
  }
 ],
 "metadata": {
  "kernelspec": {
   "display_name": "Python 3",
   "language": "python",
   "name": "python3"
  },
  "language_info": {
   "codemirror_mode": {
    "name": "ipython",
    "version": 2
   },
   "file_extension": ".py",
   "mimetype": "text/x-python",
   "name": "python",
   "nbconvert_exporter": "python",
   "pygments_lexer": "ipython2",
   "version": "2.7.6"
  }
 },
 "nbformat": 4,
 "nbformat_minor": 0
}