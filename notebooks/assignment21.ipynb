{
 "cells": [
  {
   "cell_type": "code",
   "execution_count": null,
   "outputs": [],
   "source": [
    "import sys\n",
    "\n",
    "\n",
    "class Position():\n",
    "    min_pos = 1\n",
    "    max_pos = 10\n",
    "\n",
    "    def __init__(self, start_position):\n",
    "        self.pos = start_position\n",
    "\n",
    "    def __iadd__(self, other):\n",
    "\n",
    "        val = self.pos + (other % (self.max_pos - self.min_pos))\n"
   ],
   "metadata": {
    "collapsed": false,
    "pycharm": {
     "name": "#%%\n"
    }
   }
  },
  {
   "cell_type": "code",
   "execution_count": 7,
   "outputs": [
    {
     "data": {
      "text/plain": "913560"
     },
     "execution_count": 7,
     "metadata": {},
     "output_type": "execute_result"
    }
   ],
   "source": [
    "# part 1\n",
    "positions = [4, 1]\n",
    "players = [0, 1]\n",
    "scores = [0, 0]\n",
    "dice = 1\n",
    "flag = True\n",
    "while flag:\n",
    "    for player in players:\n",
    "        throw = sum((dice, dice + 1, dice + 2))\n",
    "        dice += 3\n",
    "        positions[player] = (positions[player] + throw - 1) % 10 + 1\n",
    "        scores[player] += positions[player]\n",
    "        if scores[player] >= 1000:\n",
    "            flag=False\n",
    "            break\n",
    "\n",
    "(dice - 1) * scores[1]"
   ],
   "metadata": {
    "collapsed": false,
    "pycharm": {
     "name": "#%%\n"
    }
   }
  },
  {
   "cell_type": "code",
   "execution_count": 9,
   "outputs": [
    {
     "data": {
      "text/plain": "27"
     },
     "execution_count": 9,
     "metadata": {},
     "output_type": "execute_result"
    }
   ],
   "source": [
    "update_dict = {3: 1, 4: 3, 5: 6, 6: 7, 7: 6, 8: 3, 9:1}\n",
    "# update_dict = {1:1, 2:1, 3:1}\n",
    "sum(update_dict.values())"
   ],
   "metadata": {
    "collapsed": false,
    "pycharm": {
     "name": "#%%\n"
    }
   }
  },
  {
   "cell_type": "code",
   "execution_count": 13,
   "outputs": [
    {
     "data": {
      "text/plain": "[95150439448698, 110271560863819]"
     },
     "execution_count": 13,
     "metadata": {},
     "output_type": "execute_result"
    }
   ],
   "source": [
    "# part 2\n",
    "from itertools import product\n",
    "from collections import defaultdict\n",
    "update_dict = {3: 1, 4: 3, 5: 6, 6: 7, 7: 6, 8: 3, 9:1}\n",
    "states = [defaultdict(int, {(4, 0): 1}), defaultdict(int, {(1, 0): 1})]\n",
    "n_states = [1, 1]\n",
    "counts = [0, 0]\n",
    "flag = True\n",
    "i = 0\n",
    "while flag:\n",
    "    i += 1\n",
    "    for player in players:\n",
    "        new_state = defaultdict(int)\n",
    "        for ((pos, score), state_count), (throw, throw_count) in product(states[player].items(), update_dict.items()):\n",
    "            new_pos = (pos + throw -1) % 10 + 1\n",
    "            new_score = score + new_pos\n",
    "            if new_score >= 21:\n",
    "                counts[player] += state_count * throw_count * n_states[1-player]\n",
    "            else:\n",
    "                new_state[(new_pos, new_score)] += state_count * throw_count\n",
    "        states[player] = new_state\n",
    "        n_states[player] = sum(states[player].values())\n",
    "        if n_states[player] == 0:\n",
    "            flag = False\n",
    "            break\n",
    "counts"
   ],
   "metadata": {
    "collapsed": false,
    "pycharm": {
     "name": "#%%\n"
    }
   }
  }
 ],
 "metadata": {
  "kernelspec": {
   "display_name": "Python 3",
   "language": "python",
   "name": "python3"
  },
  "language_info": {
   "codemirror_mode": {
    "name": "ipython",
    "version": 2
   },
   "file_extension": ".py",
   "mimetype": "text/x-python",
   "name": "python",
   "nbconvert_exporter": "python",
   "pygments_lexer": "ipython2",
   "version": "2.7.6"
  }
 },
 "nbformat": 4,
 "nbformat_minor": 0
}