{
 "cells": [
  {
   "cell_type": "code",
   "execution_count": 1,
   "outputs": [],
   "source": [
    "import numpy as np\n",
    "from scipy.spatial import distance_matrix"
   ],
   "metadata": {
    "collapsed": false,
    "pycharm": {
     "name": "#%%\n"
    }
   }
  },
  {
   "cell_type": "code",
   "execution_count": 2,
   "outputs": [],
   "source": [
    "with open('../inputs/input19.txt', 'r') as f:\n",
    "    strings = f.readlines()\n",
    "\n",
    "scanners = []\n",
    "for string in strings:\n",
    "    if ',' in string:\n",
    "        scanners[-1].append(np.array(list(map(int, string.strip().split(','))), dtype='int64'))\n",
    "    elif '---' in string:\n",
    "        scanners.append([])"
   ],
   "metadata": {
    "collapsed": false,
    "pycharm": {
     "name": "#%%\n"
    }
   }
  },
  {
   "cell_type": "code",
   "execution_count": 3,
   "outputs": [],
   "source": [
    "scanner_sets = [set([tuple(point) for point in scan]) for scan in scanners]"
   ],
   "metadata": {
    "collapsed": false,
    "pycharm": {
     "name": "#%%\n"
    }
   }
  },
  {
   "cell_type": "code",
   "execution_count": 4,
   "outputs": [],
   "source": [
    "np_scanners = [np.array(scanner) for scanner in scanners]"
   ],
   "metadata": {
    "collapsed": false,
    "pycharm": {
     "name": "#%%\n"
    }
   }
  },
  {
   "cell_type": "code",
   "execution_count": 5,
   "outputs": [],
   "source": [
    "transformations = [\n",
    "    lambda x: (x[0], x[1], x[2]),\n",
    "    lambda x: (-x[0], x[1], x[2]),\n",
    "    lambda x: (x[0], -x[1], x[2]),\n",
    "    lambda x: (x[0], x[1], -x[2]),\n",
    "    lambda x: (-x[0], -x[1], x[2]),\n",
    "    lambda x: (x[0], -x[1], -x[2]),\n",
    "    lambda x: (-x[0], x[1], -x[2]),\n",
    "    lambda x: (-x[0], -x[1], -x[2]),\n",
    "    lambda x: (x[1], x[0], x[2]),\n",
    "    lambda x: (-x[1], x[0], x[2]),\n",
    "    lambda x: (x[1], -x[0], x[2]),\n",
    "    lambda x: (x[1], x[0], -x[2]),\n",
    "    lambda x: (-x[1], -x[0], x[2]),\n",
    "    lambda x: (x[1], -x[0], -x[2]),\n",
    "    lambda x: (-x[1], x[0], -x[2]),\n",
    "    lambda x: (-x[1], -x[0], -x[2]),\n",
    "    lambda x: (x[2], x[1], x[0]),\n",
    "    lambda x: (-x[2], x[1], x[0]),\n",
    "    lambda x: (x[2], -x[1], x[0]),\n",
    "    lambda x: (x[2], x[1], -x[0]),\n",
    "    lambda x: (-x[2], -x[1], x[0]),\n",
    "    lambda x: (x[2], -x[1], -x[0]),\n",
    "    lambda x: (-x[2], x[1], -x[0]),\n",
    "    lambda x: (-x[2], -x[1], -x[0]),\n",
    "    lambda x: (x[0], x[2], x[1]),\n",
    "    lambda x: (-x[0], x[2], x[1]),\n",
    "    lambda x: (x[0], -x[2], x[1]),\n",
    "    lambda x: (x[0], x[2], -x[1]),\n",
    "    lambda x: (-x[0], -x[2], x[1]),\n",
    "    lambda x: (x[0], -x[2], -x[1]),\n",
    "    lambda x: (-x[0], x[2], -x[1]),\n",
    "    lambda x: (-x[0], -x[2], -x[1]),\n",
    "    lambda x: (x[1], x[2], x[0]),\n",
    "    lambda x: (-x[1], x[2], x[0]),\n",
    "    lambda x: (x[1], -x[2], x[0]),\n",
    "    lambda x: (x[1], x[2], -x[0]),\n",
    "    lambda x: (-x[1], -x[2], x[0]),\n",
    "    lambda x: (x[1], -x[2], -x[0]),\n",
    "    lambda x: (-x[1], x[2], -x[0]),\n",
    "    lambda x: (-x[1], -x[2], -x[0]),\n",
    "    lambda x: (x[2], x[0], x[1]),\n",
    "    lambda x: (-x[2], x[0], x[1]),\n",
    "    lambda x: (x[2], -x[0], x[1]),\n",
    "    lambda x: (x[2], x[0], -x[1]),\n",
    "    lambda x: (-x[2], -x[0], x[1]),\n",
    "    lambda x: (x[2], -x[0], -x[1]),\n",
    "    lambda x: (-x[2], x[0], -x[1]),\n",
    "    lambda x: (-x[2], -x[0], -x[1]),\n",
    "]\n",
    "\n",
    "transformed_scanners = [[[transformations[i](x) for x in scan]for i in range(48)] for scan in scanners]"
   ],
   "metadata": {
    "collapsed": false,
    "pycharm": {
     "name": "#%%\n"
    }
   }
  },
  {
   "cell_type": "code",
   "execution_count": 6,
   "outputs": [
    {
     "name": "stderr",
     "output_type": "stream",
     "text": [
      "100%|██████████| 30/30 [00:28<00:00,  1.07it/s]\n",
      "100%|██████████| 27/27 [00:32<00:00,  1.20s/it]\n",
      "100%|██████████| 24/24 [00:31<00:00,  1.30s/it]\n",
      "100%|██████████| 24/24 [00:31<00:00,  1.31s/it]\n",
      "100%|██████████| 24/24 [00:28<00:00,  1.20s/it]\n",
      "100%|██████████| 21/21 [00:24<00:00,  1.15s/it]\n",
      "100%|██████████| 20/20 [00:23<00:00,  1.16s/it]\n",
      "100%|██████████| 18/18 [00:23<00:00,  1.33s/it]\n",
      "100%|██████████| 18/18 [00:22<00:00,  1.23s/it]\n",
      "100%|██████████| 17/17 [00:21<00:00,  1.29s/it]\n",
      "100%|██████████| 16/16 [00:21<00:00,  1.33s/it]\n",
      "100%|██████████| 15/15 [00:17<00:00,  1.20s/it]\n",
      "100%|██████████| 13/13 [00:17<00:00,  1.35s/it]\n",
      "100%|██████████| 12/12 [00:15<00:00,  1.27s/it]\n",
      "100%|██████████| 12/12 [00:15<00:00,  1.32s/it]\n",
      "100%|██████████| 12/12 [00:14<00:00,  1.22s/it]\n",
      "100%|██████████| 11/11 [00:12<00:00,  1.13s/it]\n",
      "100%|██████████| 9/9 [00:09<00:00,  1.02s/it]\n",
      "100%|██████████| 6/6 [00:08<00:00,  1.43s/it]\n",
      "100%|██████████| 6/6 [00:06<00:00,  1.13s/it]\n",
      "100%|██████████| 5/5 [00:05<00:00,  1.10s/it]\n",
      "100%|██████████| 4/4 [00:02<00:00,  1.58it/s]\n",
      "100%|██████████| 2/2 [00:02<00:00,  1.38s/it]\n",
      "100%|██████████| 2/2 [00:02<00:00,  1.31s/it]\n",
      "100%|██████████| 2/2 [00:02<00:00,  1.46s/it]\n",
      "100%|██████████| 2/2 [00:03<00:00,  1.61s/it]\n",
      "100%|██████████| 2/2 [00:01<00:00,  1.25it/s]\n",
      "100%|██████████| 1/1 [00:00<00:00, 10.99it/s]\n",
      "0it [00:00, ?it/s]\n"
     ]
    },
    {
     "data": {
      "text/plain": "defaultdict(list,\n            {0: [5, 6, 23],\n             5: [10, 13, 20],\n             10: [12, 18, 26],\n             13: [16],\n             20: [4, 7],\n             18: [21],\n             26: [11],\n             16: [17],\n             4: [8, 24],\n             7: [2],\n             17: [9],\n             8: [15, 19],\n             24: [14, 29, 30],\n             9: [27],\n             15: [22],\n             19: [3, 28],\n             22: [1],\n             3: [25]})"
     },
     "execution_count": 6,
     "metadata": {},
     "output_type": "execute_result"
    }
   ],
   "source": [
    "from itertools import product\n",
    "from collections import defaultdict\n",
    "from tqdm import tqdm\n",
    "matched_scanners = set([0])\n",
    "unmatched_scanners = set(range(1, len(scanners)))\n",
    "matches = defaultdict(list)\n",
    "rebased_scanners = [scanner_sets[i] if i == 0 else None for i in range(len(scanners))]\n",
    "scanner_positions = [[0, 0, 0] if i == 0 else None for i in range(len(scanners))]\n",
    "\n",
    "while len(unmatched_scanners) > 0 and len(matched_scanners) > 0:\n",
    "    matched_this_round = []\n",
    "    for matched_scanner in matched_scanners:\n",
    "        for other_scanner in tqdm(unmatched_scanners):\n",
    "            flag = False\n",
    "            for point1, point2_i in product(rebased_scanners[matched_scanner], range(len(scanners[other_scanner]))):\n",
    "                if point2_i > 14:\n",
    "                    continue\n",
    "                point1 = np.array(point1)\n",
    "                for transform_i in range(0, 48):\n",
    "                    transform = point1 - transformed_scanners[other_scanner][transform_i][point2_i]\n",
    "                    transformed = [tuple(point + transform) for point in transformed_scanners[other_scanner][transform_i]]\n",
    "                    if len([p for p in transformed if p in rebased_scanners[matched_scanner]]) >= 12:\n",
    "                        flag = True\n",
    "                        matches[matched_scanner].append(other_scanner)\n",
    "                        matched_this_round.append(other_scanner)\n",
    "                        rebased_scanners[other_scanner] = transformed.copy()\n",
    "                        scanner_positions[other_scanner] = transform\n",
    "                        break\n",
    "                if flag:\n",
    "                    break\n",
    "        for matched in matched_this_round:\n",
    "            unmatched_scanners.discard(matched)\n",
    "    matched_scanners = matched_this_round.copy()\n",
    "\n",
    "matches\n",
    "\n"
   ],
   "metadata": {
    "collapsed": false,
    "pycharm": {
     "name": "#%%\n"
    }
   }
  },
  {
   "cell_type": "code",
   "execution_count": 7,
   "outputs": [
    {
     "data": {
      "text/plain": "378"
     },
     "execution_count": 7,
     "metadata": {},
     "output_type": "execute_result"
    }
   ],
   "source": [
    "# part 1\n",
    "len(set.union(*rebased_scanners))"
   ],
   "metadata": {
    "collapsed": false,
    "pycharm": {
     "name": "#%%\n"
    }
   }
  },
  {
   "cell_type": "code",
   "execution_count": 8,
   "outputs": [
    {
     "data": {
      "text/plain": "13148.0"
     },
     "execution_count": 8,
     "metadata": {},
     "output_type": "execute_result"
    }
   ],
   "source": [
    "# part 2\n",
    "np.amax(distance_matrix(np.array(scanner_positions), np.array(scanner_positions), p=1))"
   ],
   "metadata": {
    "collapsed": false,
    "pycharm": {
     "name": "#%%\n"
    }
   }
  }
 ],
 "metadata": {
  "kernelspec": {
   "display_name": "Python 3",
   "language": "python",
   "name": "python3"
  },
  "language_info": {
   "codemirror_mode": {
    "name": "ipython",
    "version": 2
   },
   "file_extension": ".py",
   "mimetype": "text/x-python",
   "name": "python",
   "nbconvert_exporter": "python",
   "pygments_lexer": "ipython2",
   "version": "2.7.6"
  }
 },
 "nbformat": 4,
 "nbformat_minor": 0
}