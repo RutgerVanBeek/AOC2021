{
 "cells": [
  {
   "cell_type": "code",
   "execution_count": 9,
   "metadata": {
    "collapsed": true
   },
   "outputs": [],
   "source": [
    "import numpy as np"
   ]
  },
  {
   "cell_type": "code",
   "execution_count": 10,
   "outputs": [],
   "source": [
    "with open('../inputs/input9.txt', 'r') as f:\n",
    "    strings = f.readlines()"
   ],
   "metadata": {
    "collapsed": false,
    "pycharm": {
     "name": "#%%\n"
    }
   }
  },
  {
   "cell_type": "code",
   "execution_count": 11,
   "outputs": [],
   "source": [
    "height_map = np.array([list(map(int, string.strip())) for string in strings])"
   ],
   "metadata": {
    "collapsed": false,
    "pycharm": {
     "name": "#%%\n"
    }
   }
  },
  {
   "cell_type": "code",
   "execution_count": 12,
   "outputs": [],
   "source": [
    "def find_low_points(height_map):\n",
    "    is_min = np.zeros(height_map.shape)\n",
    "    is_min[:, 1:] += height_map[:, 1:] >= height_map[:, :-1]\n",
    "    is_min[:, :-1] += height_map[:, :-1] >= height_map[:, 1:]\n",
    "    is_min[1:, :] += height_map[1:, :] >= height_map[:-1, :]\n",
    "    is_min[:-1, :] += height_map[:-1, :] >= height_map[1:, :]\n",
    "    return is_min == 0\n"
   ],
   "metadata": {
    "collapsed": false,
    "pycharm": {
     "name": "#%%\n"
    }
   }
  },
  {
   "cell_type": "code",
   "execution_count": 13,
   "outputs": [
    {
     "data": {
      "text/plain": "444"
     },
     "execution_count": 13,
     "metadata": {},
     "output_type": "execute_result"
    }
   ],
   "source": [
    "# part 1\n",
    "np.sum(height_map[find_low_points(height_map)]) + np.sum(find_low_points(height_map))"
   ],
   "metadata": {
    "collapsed": false,
    "pycharm": {
     "name": "#%%\n"
    }
   }
  },
  {
   "cell_type": "code",
   "execution_count": 14,
   "outputs": [],
   "source": [
    "def find_bassin(height_map, low_point):\n",
    "    points = [low_point]\n",
    "    i, j = low_point\n",
    "    val = height_map[low_point]\n",
    "    if i - 1 >= 0:\n",
    "        if val < height_map[i-1, j] < 9:\n",
    "            points.extend(find_bassin(height_map, (i-1, j)))\n",
    "    if i + 1 < height_map.shape[0]:\n",
    "        if val < height_map[i+1, j] < 9:\n",
    "            points.extend(find_bassin(height_map, (i+1, j)))\n",
    "    if j - 1 >= 0:\n",
    "        if val < height_map[i, j-1] < 9:\n",
    "            points.extend(find_bassin(height_map, (i, j-1)))\n",
    "    if j + 1 < height_map.shape[1]:\n",
    "        if val < height_map[i, j+1] < 9:\n",
    "            points.extend(find_bassin(height_map, (i, j+1)))\n",
    "    return points"
   ],
   "metadata": {
    "collapsed": false,
    "pycharm": {
     "name": "#%%\n"
    }
   }
  },
  {
   "cell_type": "code",
   "execution_count": 16,
   "outputs": [
    {
     "data": {
      "text/plain": "1168440"
     },
     "execution_count": 16,
     "metadata": {},
     "output_type": "execute_result"
    }
   ],
   "source": [
    "# part 2\n",
    "scores = [0, 0, 0]\n",
    "for low_point in map(tuple, np.argwhere(find_low_points(height_map))):\n",
    "    score = len(set(find_bassin(height_map, low_point)))\n",
    "    if score > scores[0]:\n",
    "        scores[0] = score\n",
    "        scores.sort()\n",
    "\n",
    "scores[0] * scores[1] * scores[2]"
   ],
   "metadata": {
    "collapsed": false,
    "pycharm": {
     "name": "#%%\n"
    }
   }
  }
 ],
 "metadata": {
  "kernelspec": {
   "display_name": "Python 3",
   "language": "python",
   "name": "python3"
  },
  "language_info": {
   "codemirror_mode": {
    "name": "ipython",
    "version": 2
   },
   "file_extension": ".py",
   "mimetype": "text/x-python",
   "name": "python",
   "nbconvert_exporter": "python",
   "pygments_lexer": "ipython2",
   "version": "2.7.6"
  }
 },
 "nbformat": 4,
 "nbformat_minor": 0
}