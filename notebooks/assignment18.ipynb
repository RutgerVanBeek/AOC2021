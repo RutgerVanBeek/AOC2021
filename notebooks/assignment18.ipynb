{
 "cells": [
  {
   "cell_type": "code",
   "execution_count": 13,
   "outputs": [],
   "source": [
    "import ast\n",
    "from math import floor, ceil\n",
    "from itertools import product"
   ],
   "metadata": {
    "collapsed": false,
    "pycharm": {
     "name": "#%%\n"
    }
   }
  },
  {
   "cell_type": "code",
   "execution_count": 14,
   "metadata": {
    "collapsed": true
   },
   "outputs": [],
   "source": [
    "class SnailFishNumber:\n",
    "\n",
    "    def __init__(self, left, right, reduce=False):\n",
    "        self.left, self.right = left, right\n",
    "        self.left_depth = 0 if type(self.left) == int else self.left.depth\n",
    "        self.right_depth = 0 if type(self.right) == int else self.right.depth\n",
    "        if reduce:\n",
    "            self._reduce()\n",
    "\n",
    "    @classmethod\n",
    "    def from_ls(cls, ls, reduce=False):\n",
    "        left, right = cls._parse(ls)\n",
    "        return cls(left, right, reduce)\n",
    "\n",
    "    @classmethod\n",
    "    def from_str(cls, string, reduce=False):\n",
    "        return cls.from_ls(ast.literal_eval(string), reduce)\n",
    "\n",
    "    @property\n",
    "    def magnitude(self):\n",
    "        left = self.left if type(self.left) == int else self.left.magnitude\n",
    "        right = self.right if type(self.right) == int else self.right.magnitude\n",
    "        return 3 * left + 2 * right\n",
    "\n",
    "    @property\n",
    "    def depth(self):\n",
    "        return 1 + max(self.left_depth, self.right_depth)\n",
    "\n",
    "    @property\n",
    "    def should_split(self):\n",
    "        left = self.left > 9 if self.left_depth == 0 else self.left.should_split\n",
    "        right = self.right > 9 if self.right_depth == 0 else self.right.should_split\n",
    "        return left or right\n",
    "\n",
    "    def _reduce(self):\n",
    "        flag = True\n",
    "        while flag:\n",
    "            flag = False\n",
    "            if self.depth == 5:\n",
    "                flag = True\n",
    "                self._explode()\n",
    "            elif self.should_split:\n",
    "                self._split()\n",
    "                flag = True\n",
    "\n",
    "    def _split(self):\n",
    "        if self.left > 9 if self.left_depth == 0 else self.left.should_split:\n",
    "            if self.left_depth == 0:\n",
    "                self.left = SnailFishNumber(floor(self.left / 2), ceil(self.left / 2))\n",
    "                self.left_depth = 1\n",
    "            else:\n",
    "                self.left._split()\n",
    "                self.left_depth = self.left.depth\n",
    "        elif self.right > 9 if self.right_depth == 0 else self.right.should_split:\n",
    "            if self.right_depth == 0:\n",
    "                self.right = SnailFishNumber(floor(self.right / 2), ceil(self.right / 2))\n",
    "                self.right_depth = 1\n",
    "            else:\n",
    "                self.right._split()\n",
    "                self.right_depth = self.right.depth\n",
    "\n",
    "    def _explode(self):\n",
    "        if self.depth == 2:\n",
    "            if self.left_depth == 1:\n",
    "                if self.right_depth == 1:\n",
    "                    self.right.left += self.left.right\n",
    "                else:\n",
    "                    self.right += self.left.right\n",
    "                out = ('left', self.left.left)\n",
    "                self.left = 0\n",
    "                self.left_depth = 0\n",
    "            elif self.right_depth == 1:\n",
    "                if self.left_depth == 1:\n",
    "                    self.left.right += self.right.left\n",
    "                else:\n",
    "                    self.left += self.right.left\n",
    "                out = ('right', self.right.right)\n",
    "                self.right = 0\n",
    "                self.right_depth = 0\n",
    "            return out\n",
    "        if self.left_depth >= self.right_depth:\n",
    "            side, val = self.left._explode()\n",
    "            self.left_depth = self.left.depth\n",
    "            if side == 'left':\n",
    "                return side, val\n",
    "            elif side == 'right':\n",
    "                if self.right_depth == 0:\n",
    "                    self.right += val\n",
    "                else:\n",
    "                    self.right.left_addition(val)\n",
    "                return '', 0\n",
    "            else:\n",
    "                return '', 0\n",
    "        else:\n",
    "            side, val = self.right._explode()\n",
    "            self.right_depth = self.right.depth\n",
    "            if side == 'right':\n",
    "                return side, val\n",
    "            elif side == 'left':\n",
    "                if self.left_depth == 0:\n",
    "                    self.left += val\n",
    "                else:\n",
    "                    self.left.right_addition(val)\n",
    "                return '', 0\n",
    "            else:\n",
    "                return '', 0\n",
    "\n",
    "    def left_addition(self, val):\n",
    "        if self.left_depth == 0:\n",
    "            self.left += val\n",
    "        else:\n",
    "            self.left.left_addition(val)\n",
    "\n",
    "    def right_addition(self, val):\n",
    "        if self.right_depth == 0:\n",
    "            self.right += val\n",
    "        else:\n",
    "            self.right.right_addition(val)\n",
    "\n",
    "\n",
    "    @classmethod\n",
    "    def _parse(cls, ls):\n",
    "        if len(ls) != 2:\n",
    "            raise ValueError(f'len of input is not 2, {ls}')\n",
    "        left, right = ls\n",
    "        if type(left) != int:\n",
    "            left = cls.from_ls(left)\n",
    "        if type(right) != int:\n",
    "            right = cls.from_ls(right)\n",
    "        return left, right\n",
    "\n",
    "\n",
    "    def __add__(self, other):\n",
    "        return SnailFishNumber(self, other, reduce=True)\n",
    "\n",
    "    def __str__(self):\n",
    "        return f's[{self.left}, {self.right}]'\n",
    "\n",
    "    def __repr__(self):\n",
    "        return str(self)"
   ]
  },
  {
   "cell_type": "code",
   "execution_count": 15,
   "outputs": [],
   "source": [
    "with open('../inputs/input18.txt', 'r') as f:\n",
    "    strings = f.readlines()"
   ],
   "metadata": {
    "collapsed": false,
    "pycharm": {
     "name": "#%%\n"
    }
   }
  },
  {
   "cell_type": "code",
   "execution_count": 16,
   "outputs": [
    {
     "data": {
      "text/plain": "[s[s[0, 6], s[s[s[4, 0], s[6, 6]], s[s[2, 2], 9]]],\n s[s[9, s[s[1, 6], s[6, 0]]], s[s[1, s[0, 8]], s[s[0, 8], s[9, 8]]]],\n s[s[s[0, s[2, 1]], 3], s[s[s[2, 4], s[1, 2]], s[7, 5]]],\n s[s[s[s[8, 3], s[8, 5]], s[s[7, 8], s[5, 5]]], s[9, 2]],\n s[s[8, s[1, 9]], s[s[s[9, 9], s[9, 2]], 1]],\n s[s[s[s[3, 7], s[2, 1]], s[0, 9]], 4],\n s[s[s[s[3, 8], s[6, 0]], s[0, 7]], s[s[s[6, 3], s[2, 0]], 9]],\n s[s[s[9, s[7, 0]], s[8, s[9, 6]]], s[s[5, 6], 4]],\n s[s[s[s[3, 6], s[3, 6]], s[0, 2]], s[s[s[8, 3], 9], s[s[3, 4], 8]]],\n s[s[7, s[8, 4]], 1],\n s[6, s[s[3, s[5, 6]], s[0, 6]]],\n s[s[s[7, s[4, 7]], s[s[4, 5], s[4, 3]]], s[s[5, 5], s[0, s[4, 2]]]],\n s[s[s[0, s[2, 9]], s[s[2, 4], s[4, 8]]], s[s[8, s[9, 5]], s[s[9, 6], 0]]],\n s[s[s[s[2, 0], s[9, 7]], s[s[3, 2], 0]], s[7, 7]],\n s[s[5, s[2, 1]], s[s[3, s[5, 1]], s[s[8, 5], s[1, 8]]]],\n s[s[s[s[9, 7], 6], s[s[7, 8], 7]], s[s[s[6, 8], 9], s[s[9, 5], 7]]],\n s[s[4, 2], s[s[s[0, 1], s[7, 2]], s[s[0, 2], s[5, 5]]]],\n s[s[1, 8], s[s[5, s[7, 9]], s[s[3, 1], s[7, 1]]]],\n s[s[s[4, s[4, 6]], 6], 5],\n s[s[s[5, s[3, 6]], 6], s[s[s[8, 0], s[8, 6]], s[s[3, 3], s[0, 1]]]],\n s[s[4, s[s[2, 6], s[0, 9]]], s[s[0, 6], s[4, 2]]],\n s[s[s[s[9, 4], s[6, 5]], 7], s[s[s[1, 5], s[0, 9]], s[4, s[4, 2]]]],\n s[s[7, s[s[6, 5], 8]], s[s[s[5, 6], 0], s[6, s[3, 5]]]],\n s[s[s[5, s[6, 4]], s[8, s[0, 4]]], s[s[3, s[9, 3]], 4]],\n s[s[s[s[4, 0], 6], s[6, s[6, 5]]], s[s[9, s[6, 3]], s[s[9, 6], 7]]],\n s[s[s[s[2, 2], 4], s[8, s[7, 2]]], s[2, 1]],\n s[5, s[9, s[s[5, 9], 4]]],\n s[s[s[1, s[7, 7]], s[s[2, 2], 8]], s[s[s[9, 7], 5], s[4, 3]]],\n s[s[s[s[6, 8], 1], 1], s[1, s[s[2, 0], 6]]],\n s[s[s[s[0, 5], 8], s[s[8, 9], s[9, 3]]], s[s[s[5, 5], s[4, 2]], 2]],\n s[s[s[9, s[2, 5]], s[6, s[1, 7]]], s[5, s[3, s[2, 2]]]],\n s[s[s[7, 6], 8], s[s[s[1, 9], 3], s[5, 2]]],\n s[8, s[s[2, s[0, 7]], 8]],\n s[s[s[s[8, 1], s[0, 0]], 5], 1],\n s[s[1, s[s[4, 8], 0]], s[s[9, s[7, 8]], 5]],\n s[s[s[s[1, 3], 1], s[s[9, 8], s[6, 6]]], 5],\n s[s[s[3, 2], s[s[0, 5], s[0, 1]]], s[s[9, s[9, 3]], s[4, 9]]],\n s[s[s[0, s[2, 4]], s[s[3, 3], s[6, 5]]], s[s[1, s[2, 1]], s[s[3, 4], 9]]],\n s[s[2, s[3, s[7, 6]]], s[5, 5]],\n s[s[s[s[8, 2], 0], s[s[9, 6], s[9, 0]]], s[s[s[6, 2], s[5, 0]], 9]],\n s[7, s[9, 7]],\n s[3, s[s[s[5, 5], 1], s[8, 5]]],\n s[s[s[5, 5], s[5, 6]], s[9, 5]],\n s[s[s[9, 7], s[1, 2]], s[8, s[5, s[7, 0]]]],\n s[s[s[1, s[5, 2]], s[7, s[8, 9]]], s[2, s[s[4, 5], s[2, 3]]]],\n s[s[s[4, s[2, 2]], s[5, s[4, 7]]], s[s[s[0, 3], 2], s[5, s[2, 6]]]],\n s[s[0, s[s[6, 5], 5]], s[s[7, s[7, 2]], 3]],\n s[s[s[4, s[9, 4]], s[1, 9]], s[7, s[s[7, 1], s[6, 1]]]],\n s[1, s[0, 2]],\n s[s[s[s[5, 1], s[2, 1]], s[s[7, 8], 6]], s[s[3, s[4, 9]], 2]],\n s[s[9, s[s[4, 0], s[8, 8]]], s[s[s[6, 6], s[2, 8]], s[1, s[1, 5]]]],\n s[s[s[1, 2], s[7, 0]], s[7, s[s[3, 0], 5]]],\n s[s[s[6, s[0, 8]], 3], s[s[3, 7], 1]],\n s[s[s[s[6, 1], s[1, 0]], 9], s[s[4, 8], s[3, s[0, 8]]]],\n s[s[6, s[3, s[5, 8]]], 9],\n s[s[s[s[5, 0], s[7, 7]], s[s[3, 1], s[4, 8]]], 5],\n s[s[s[3, 7], s[9, 0]], s[s[s[0, 2], 7], 0]],\n s[8, 9],\n s[s[8, s[s[0, 8], 4]], s[1, s[s[4, 6], 2]]],\n s[s[s[5, 5], 3], s[s[6, 6], s[0, s[6, 3]]]],\n s[s[s[7, s[3, 7]], s[s[6, 1], s[9, 4]]], s[s[s[8, 9], 1], s[s[8, 7], 6]]],\n s[s[6, s[s[0, 9], s[2, 3]]], s[s[1, s[5, 3]], s[8, 4]]],\n s[s[s[3, 5], 8], s[s[s[2, 4], s[7, 5]], 5]],\n s[s[0, s[s[7, 0], s[9, 4]]], s[s[s[0, 0], s[6, 7]], s[6, 5]]],\n s[s[s[s[1, 9], s[6, 4]], 0], s[6, s[3, s[4, 8]]]],\n s[s[s[s[1, 6], s[0, 4]], 8], s[s[8, 8], 6]],\n s[s[s[s[7, 4], s[9, 6]], 7], s[s[1, 6], s[1, 0]]],\n s[1, s[s[s[6, 8], 5], 5]],\n s[8, 4],\n s[9, s[s[9, s[3, 9]], 0]],\n s[5, s[s[s[4, 9], 7], s[s[1, 0], 0]]],\n s[s[s[6, 1], s[0, s[2, 3]]], s[s[s[7, 8], s[5, 9]], 9]],\n s[3, s[s[3, s[3, 4]], s[6, s[7, 8]]]],\n s[s[s[7, s[7, 1]], s[4, s[2, 0]]], s[6, s[7, 3]]],\n s[s[6, 9], s[s[3, s[4, 7]], 3]],\n s[1, s[s[9, s[5, 1]], s[7, s[7, 5]]]],\n s[s[3, 2], s[s[9, s[6, 8]], s[s[1, 0], 2]]],\n s[s[s[s[3, 2], 8], s[7, 6]], 9],\n s[s[3, s[s[9, 5], 6]], s[5, 9]],\n s[s[s[3, s[6, 3]], s[s[7, 0], s[5, 7]]], s[s[3, 3], s[s[4, 9], s[4, 8]]]],\n s[s[s[0, s[4, 3]], 2], s[3, s[0, s[1, 3]]]],\n s[s[s[7, s[3, 4]], s[7, s[3, 1]]], s[s[0, s[4, 7]], 6]],\n s[s[s[1, s[7, 4]], s[s[8, 7], 3]], 4],\n s[s[s[5, 5], s[s[0, 3], 2]], s[1, s[s[9, 4], 6]]],\n s[s[s[s[6, 0], s[8, 8]], s[6, s[6, 0]]], s[5, 6]],\n s[s[s[1, s[5, 4]], s[s[5, 9], s[1, 7]]], s[s[5, s[4, 7]], s[4, s[4, 4]]]],\n s[s[0, s[s[2, 6], 0]], s[s[6, s[4, 3]], 5]],\n s[s[s[1, s[5, 3]], s[9, s[1, 2]]], s[s[s[4, 8], s[5, 6]], 0]],\n s[s[0, 7], s[1, s[7, 7]]],\n s[4, s[s[7, s[7, 2]], s[s[9, 1], 7]]],\n s[2, s[s[1, 6], s[6, 9]]],\n s[s[s[4, s[4, 5]], 9], s[s[s[1, 7], 6], s[3, s[7, 3]]]],\n s[s[6, s[s[1, 1], s[7, 8]]], s[s[s[5, 2], s[8, 1]], 5]],\n s[s[s[5, 5], s[s[4, 1], s[1, 2]]], s[s[3, 8], s[3, 4]]],\n s[s[s[s[1, 9], s[0, 3]], s[4, s[0, 9]]], 4],\n s[s[s[4, 9], 0], s[s[9, 0], s[8, s[7, 5]]]],\n s[s[6, s[5, 3]], s[s[s[6, 6], 4], s[s[6, 8], 4]]],\n s[s[s[s[1, 1], 2], 1], s[1, s[s[6, 4], 2]]],\n s[s[s[s[6, 3], s[1, 5]], s[6, s[7, 7]]], s[6, 6]],\n s[s[s[s[3, 0], s[5, 6]], 1], s[s[s[9, 3], s[1, 7]], s[s[3, 4], s[2, 7]]]]]"
     },
     "execution_count": 16,
     "metadata": {},
     "output_type": "execute_result"
    }
   ],
   "source": [
    "snail_numbers = [SnailFishNumber.from_str(string) for string in strings]\n",
    "snail_numbers"
   ],
   "metadata": {
    "collapsed": false,
    "pycharm": {
     "name": "#%%\n"
    }
   }
  },
  {
   "cell_type": "code",
   "execution_count": 17,
   "outputs": [
    {
     "data": {
      "text/plain": "4088"
     },
     "execution_count": 17,
     "metadata": {},
     "output_type": "execute_result"
    }
   ],
   "source": [
    "snail_numbers = [SnailFishNumber.from_str(string) for string in strings]\n",
    "out = snail_numbers[0]\n",
    "for add_number in snail_numbers[1:]:\n",
    "    out = out + add_number\n",
    "out.magnitude #antwoord van 1"
   ],
   "metadata": {
    "collapsed": false,
    "pycharm": {
     "name": "#%%\n"
    }
   }
  },
  {
   "cell_type": "code",
   "execution_count": 20,
   "outputs": [
    {
     "data": {
      "text/plain": "4536"
     },
     "execution_count": 20,
     "metadata": {},
     "output_type": "execute_result"
    }
   ],
   "source": [
    "max_val = 0\n",
    "for str1, str2 in product(strings, repeat=2):\n",
    "    n1 = SnailFishNumber.from_str(str1)\n",
    "    n2 = SnailFishNumber.from_str(str2)\n",
    "    new_number = n1 + n2\n",
    "    val = (n1+n2).magnitude\n",
    "    if val > max_val:\n",
    "        max_val = val\n",
    "max_val"
   ],
   "metadata": {
    "collapsed": false,
    "pycharm": {
     "name": "#%%\n"
    }
   }
  }
 ],
 "metadata": {
  "kernelspec": {
   "display_name": "Python 3",
   "language": "python",
   "name": "python3"
  },
  "language_info": {
   "codemirror_mode": {
    "name": "ipython",
    "version": 2
   },
   "file_extension": ".py",
   "mimetype": "text/x-python",
   "name": "python",
   "nbconvert_exporter": "python",
   "pygments_lexer": "ipython2",
   "version": "2.7.6"
  }
 },
 "nbformat": 4,
 "nbformat_minor": 0
}