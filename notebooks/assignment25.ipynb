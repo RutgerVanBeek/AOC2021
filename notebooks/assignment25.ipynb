{
 "cells": [
  {
   "cell_type": "code",
   "execution_count": 1,
   "metadata": {
    "collapsed": true
   },
   "outputs": [],
   "source": [
    "with open('../inputs/input25.txt', 'r') as f:\n",
    "    lines = f.readlines()"
   ]
  },
  {
   "cell_type": "code",
   "execution_count": 5,
   "outputs": [
    {
     "name": "stdout",
     "output_type": "stream",
     "text": [
      "4752\n",
      "4826\n"
     ]
    }
   ],
   "source": [
    "# create sets of starts positions\n",
    "south_moving_map = set()\n",
    "east_moving_map = set()\n",
    "for i, line in enumerate(lines):\n",
    "    for j, char in enumerate(line.strip()):\n",
    "        if char == '.':\n",
    "            continue\n",
    "        elif char == '>':\n",
    "            east_moving_map.add((i, j))\n",
    "        elif char == 'v':\n",
    "            south_moving_map.add((i, j))\n",
    "\n",
    "max_bottom = len(lines)\n",
    "max_right = len(lines[0].strip())\n",
    "print(len(east_moving_map))\n",
    "print(len(south_moving_map))"
   ],
   "metadata": {
    "collapsed": false,
    "pycharm": {
     "name": "#%%\n"
    }
   }
  },
  {
   "cell_type": "code",
   "execution_count": 6,
   "outputs": [
    {
     "data": {
      "text/plain": "424"
     },
     "execution_count": 6,
     "metadata": {},
     "output_type": "execute_result"
    }
   ],
   "source": [
    "has_moved = True\n",
    "count = 0\n",
    "while has_moved:\n",
    "    # can move east-herds?\n",
    "    east_moving = []\n",
    "    for i, j in east_moving_map:\n",
    "        new = (i, (j + 1) % max_right)\n",
    "        if new not in east_moving_map and new not in south_moving_map:\n",
    "            east_moving.append(((i, j), new))\n",
    "    #  move east herds\n",
    "    for old, new in east_moving:\n",
    "        east_moving_map.remove(old)\n",
    "        east_moving_map.add(new)\n",
    "    # can move sout herds?\n",
    "    south_moving = []\n",
    "    for i, j in south_moving_map:\n",
    "        new = ((i + 1) % max_bottom, j)\n",
    "        if new not in east_moving_map and new not in south_moving_map:\n",
    "            south_moving.append(((i, j), new))\n",
    "    # move south herds\n",
    "    for old, new in south_moving:\n",
    "        south_moving_map.remove(old)\n",
    "        south_moving_map.add(new)\n",
    "    # check moving\n",
    "    has_moved = (len(south_moving) > 0 or len(east_moving) > 0)\n",
    "    count += 1\n",
    "count"
   ],
   "metadata": {
    "collapsed": false,
    "pycharm": {
     "name": "#%%\n"
    }
   }
  }
 ],
 "metadata": {
  "kernelspec": {
   "display_name": "Python 3",
   "language": "python",
   "name": "python3"
  },
  "language_info": {
   "codemirror_mode": {
    "name": "ipython",
    "version": 2
   },
   "file_extension": ".py",
   "mimetype": "text/x-python",
   "name": "python",
   "nbconvert_exporter": "python",
   "pygments_lexer": "ipython2",
   "version": "2.7.6"
  }
 },
 "nbformat": 4,
 "nbformat_minor": 0
}