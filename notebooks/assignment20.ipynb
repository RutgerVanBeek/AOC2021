{
 "cells": [
  {
   "cell_type": "code",
   "execution_count": 2,
   "metadata": {
    "collapsed": true
   },
   "outputs": [],
   "source": [
    "import numpy as np\n",
    "from itertools import product\n",
    "from tqdm import tqdm"
   ]
  },
  {
   "cell_type": "code",
   "execution_count": 3,
   "outputs": [],
   "source": [
    "with open('../inputs/input20.txt', 'r') as f:\n",
    "    strings = f.readlines()\n",
    "\n",
    "string_map = {'.': '0', '#': '1'}\n",
    "enhancement_string = list(map(lambda x: string_map[x], strings[0].strip()))\n",
    "start_grid = np.array([list(map(lambda x: string_map[x], string.strip())) for string in strings[2:]])"
   ],
   "metadata": {
    "collapsed": false,
    "pycharm": {
     "name": "#%%\n"
    }
   }
  },
  {
   "cell_type": "code",
   "execution_count": 4,
   "outputs": [],
   "source": [
    "def patch_to_string(patch):\n",
    "    new = np.reshape(patch, (9,))\n",
    "    return enhancement_string[int(''.join(new), 2)]"
   ],
   "metadata": {
    "collapsed": false,
    "pycharm": {
     "name": "#%%\n"
    }
   }
  },
  {
   "cell_type": "code",
   "execution_count": 9,
   "outputs": [],
   "source": [
    "def enhance_once(input_grid, count):\n",
    "    boundary_val = '0' if count % 2 == 0 else '1'\n",
    "    # boundary_val = '0'\n",
    "    input_shape = input_grid.shape\n",
    "    padded_grid = np.full((4 + input_shape[0], 4 + input_shape[0]), fill_value=boundary_val)\n",
    "    padded_grid[2:-2, 2:-2] = input_grid\n",
    "    new_grid = np.full((2 + input_shape[0], 2 + input_shape[0]), fill_value='0')\n",
    "    # done = np.zeros_like(new_grid, dtype=np.int)\n",
    "    for i, j in product(range(1, input_shape[0] + 3), range(1, input_shape[1] + 3)):\n",
    "        new_grid[i - 1, j - 1] = patch_to_string(padded_grid[i-1:i+2, j-1:j+2])\n",
    "        # done[i-1, j-1] = 1\n",
    "    return new_grid\n",
    "\n",
    "def enhance(input_grid, amount):\n",
    "    for count in range(amount):\n",
    "        input_grid = enhance_once(input_grid, count)\n",
    "    return np.asarray(input_grid, dtype=np.int32)"
   ],
   "metadata": {
    "collapsed": false,
    "pycharm": {
     "name": "#%%\n"
    }
   }
  },
  {
   "cell_type": "code",
   "execution_count": 12,
   "outputs": [
    {
     "data": {
      "text/plain": "5361"
     },
     "execution_count": 12,
     "metadata": {},
     "output_type": "execute_result"
    }
   ],
   "source": [
    "# part 1\n",
    "np.sum(enhance(start_grid.copy(), amount=2))"
   ],
   "metadata": {
    "collapsed": false,
    "pycharm": {
     "name": "#%%\n"
    }
   }
  },
  {
   "cell_type": "code",
   "execution_count": 126,
   "outputs": [
    {
     "data": {
      "text/plain": "16826"
     },
     "execution_count": 126,
     "metadata": {},
     "output_type": "execute_result"
    }
   ],
   "source": [
    "# part 2\n",
    "np.sum(enhance(start_grid.copy(), amount=50))"
   ],
   "metadata": {
    "collapsed": false,
    "pycharm": {
     "name": "#%%\n"
    }
   }
  }
 ],
 "metadata": {
  "kernelspec": {
   "display_name": "Python 3",
   "language": "python",
   "name": "python3"
  },
  "language_info": {
   "codemirror_mode": {
    "name": "ipython",
    "version": 2
   },
   "file_extension": ".py",
   "mimetype": "text/x-python",
   "name": "python",
   "nbconvert_exporter": "python",
   "pygments_lexer": "ipython2",
   "version": "2.7.6"
  }
 },
 "nbformat": 4,
 "nbformat_minor": 0
}